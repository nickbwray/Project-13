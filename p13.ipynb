{
 "cells": [
  {
   "cell_type": "code",
   "execution_count": 1,
   "id": "c8c5ee82",
   "metadata": {
    "cell_type": "code",
    "deletable": false,
    "editable": false
   },
   "outputs": [],
   "source": [
    "# import and initialize otter\n",
    "import otter\n",
    "grader = otter.Notebook(\"p13.ipynb\")"
   ]
  },
  {
   "cell_type": "code",
   "execution_count": 2,
   "id": "71e8e0c0",
   "metadata": {
    "deletable": false,
    "editable": false,
    "execution": {
     "iopub.execute_input": "2024-04-24T14:34:25.883429Z",
     "iopub.status.busy": "2024-04-24T14:34:25.882448Z",
     "iopub.status.idle": "2024-04-24T14:34:29.867466Z",
     "shell.execute_reply": "2024-04-24T14:34:29.866456Z"
    }
   },
   "outputs": [],
   "source": [
    "import public_tests"
   ]
  },
  {
   "cell_type": "code",
   "execution_count": 3,
   "id": "be5da508",
   "metadata": {
    "execution": {
     "iopub.execute_input": "2024-04-24T14:34:29.871467Z",
     "iopub.status.busy": "2024-04-24T14:34:29.870470Z",
     "iopub.status.idle": "2024-04-24T14:34:29.876394Z",
     "shell.execute_reply": "2024-04-24T14:34:29.875380Z"
    }
   },
   "outputs": [],
   "source": [
    "# PLEASE FILL IN THE DETAILS\n",
    "# enter none if you don't have a project partner\n",
    "# you will have to add your partner as a group member on Gradescope even after you fill this\n",
    "\n",
    "# project: p13\n",
    "# submitter: nwray2\n",
    "# partner: jjgartner\n",
    "# hours: ???"
   ]
  },
  {
   "cell_type": "markdown",
   "id": "9ebcf32f",
   "metadata": {
    "deletable": false,
    "editable": false
   },
   "source": [
    " # Project 13: World University Rankings"
   ]
  },
  {
   "cell_type": "markdown",
   "id": "107475bf",
   "metadata": {
    "deletable": false,
    "editable": false
   },
   "source": [
    "## Learning Objectives:\n",
    "\n",
    "In this project, you will demonstrate how to:\n",
    "\n",
    "* query a database using SQL,\n",
    "* process data using `pandas` **DataFrames**,\n",
    "* create different types of plots.\n",
    "\n",
    "Please go through [Lab-P13](https://git.doit.wisc.edu/cdis/cs/courses/cs220/cs220-s24-projects/-/tree/main/lab-p13) before working on this project. The lab introduces some useful techniques related to this project."
   ]
  },
  {
   "cell_type": "markdown",
   "id": "8b83f32c",
   "metadata": {
    "deletable": false,
    "editable": false
   },
   "source": [
    "<h2 style=\"color:red\">Warning (Note on Academic Misconduct):</h2>\n",
    "\n",
    "**IMPORTANT**: **P12 and P13 are two parts of the same data analysis.** You **cannot** switch project partners between these two projects. That is if you partnered up with someone for P12, you have to sustain that partnership until the end of P13.\n",
    "\n",
    "**You are  not allowed to use any late days for P13, even if you have late days remaining in your late days bank.** Now may be a good time to review [our course policies](https://cs220.cs.wisc.edu/s24/syllabus.html).\n",
    "\n",
    "Under any circumstances, **no more than two students are allowed to work together on a project** as mentioned in the course policies. If your code is flagged by our code similarity detection tools, **both partners will be responsible** for sharing/copying the code, even if the code is shared/copied by one of the partners with/from other non-partner student(s). Note that each case of plagiarism will be reported to the Dean of Students with a zero grade on the project. **If you think that someone cannot be your project partner then don’t make that student your lab partner.**\n",
    "\n",
    "**<font color = \"red\">Project partners must submit only one copy of their project on Gradescope, but they must include the names of both partners.</font>**"
   ]
  },
  {
   "cell_type": "markdown",
   "id": "d37ea1eb",
   "metadata": {
    "deletable": false,
    "editable": false
   },
   "source": [
    "## Testing your code:\n",
    "\n",
    "Along with this notebook, you must have downloaded the files `public_tests.py` and `expected_dfs.html`. If you are curious about how we test your code, you can explore this file, and specifically the output of the function `get_expected_json`, to understand the expected answers to the questions.\n",
    "\n",
    "For answers involving DataFrames, `public_tests.py` compares your tables to those in `expected_dfs.html`, so take a moment to open that file on a web browser (from Finder/Explorer). `public_tests.py` doesn't care if you have extra rows or columns, and it doesn't care about the order of the rows or columns. However, you must have the correct values at each index/column location shown in `expected_dfs.html`.\n",
    "\n",
    "**IMPORTANT Warning:** Do **not** download the dataset `rankings.json` **manually**. Use the `download` function from P12 to download it. When we run the autograder, this file `rankings.json` will **not** be in the directory. So, unless your `p13.ipynb` downloads these files, the Gradescope autograder will **deduct** points from your public score."
   ]
  },
  {
   "cell_type": "markdown",
   "id": "463cc829",
   "metadata": {
    "deletable": false,
    "editable": false
   },
   "source": [
    "## Project Description:\n",
    "\n",
    "For your final CS220 project, you're going to continue analyzing world university rankings. However, we will be using a different dataset this time. The data for this project has been extracted from [here](https://www.topuniversities.com/university-rankings/world-university-rankings). Unlike the CWUR rankings we used in P12, the QS rankings dataset has various scores for the universities, and not just the rankings. This makes the QS rankings dataset more suitable for plotting (which you will be doing a lot of!).\n",
    "\n",
    "In this project, you'll have to dump your DataFrame to a SQLite database. You'll answer questions by doing queries on that database. Often, your answers will be in the form of a plot. Check these carefully, as the tests only verify that a plot has been created, not that it looks correct (the Gradescope autograder will manually deduct points for plotting mistakes)."
   ]
  },
  {
   "cell_type": "markdown",
   "id": "5fb98fa3",
   "metadata": {
    "deletable": false,
    "editable": false
   },
   "source": [
    "## Project Requirements:\n",
    "\n",
    "You **may not** hardcode indices in your code. You **may not** manually download **any** files for this project, unless you are **explicitly** told to do so. For all other files, you **must** use the `download` function to download the files.\n",
    "\n",
    "**Store** your final answer for each question in the **variable specified for each question**. This step is important because Otter grades your work by comparing the value of this variable against the correct answer.\n",
    "\n",
    "For some of the questions, we'll ask you to write (then use) a function to compute the answer. If you compute the answer **without** creating the function we ask you to write, we'll **manually deduct** points from your autograder score on Gradescope, even if the way you did it produced the correct answer.\n",
    "\n",
    "#### Required Functions:\n",
    "- `download`\n",
    "- `bar_plot`\n",
    "- `scatter_plot`\n",
    "- `horizontal_bar_plot`\n",
    "- `pie_plot`\n",
    "- `get_regression_coeff`\n",
    "- `get_regression_line`\n",
    "- `regression_line_plot`\n",
    "\n",
    "In this project, you will also be required to define certain **data structures**. If you do not create these data structures exactly as specified, we'll **manually deduct** points from your autograder score on Gradescope, even if the way you did it produced the correct answer.\n",
    "\n",
    "#### Required Data Structures:\n",
    "- `conn`\n",
    "\n",
    "You **must** write SQL queries to solve the questions in this project, unless you are **explicitly** told otherwise. You will **not get any credit** if you use `pandas` operations to extract data. We will give you **specific** instructions for any questions where `pandas` operations are allowed. In addition, you are also **required** to follow the requirements below:\n",
    "\n",
    "* You **must** close the connection to `conn` at the end of your notebook.\n",
    "* Do **not** use **absolute** paths such as `C:\\\\mdoescher\\cs220\\p13`. You may **only** use **relative paths**.\n",
    "* Do **not** hardcode `/` or `\\\\` in any of your paths. You **must** use `os.path.join` to create paths.\n",
    "* Do **not** leave irrelevant output or test code that we didn't ask for.\n",
    "* **Avoid** calling **slow** functions multiple times within a loop.\n",
    "* Do **not** define multiple functions with the same name or define multiple versions of one function with different names. Just keep the best version.\n",
    "\n",
    "For more details on what will cause you to lose points during code review and specific requirements, please take a look at the [Grading rubric](https://git.doit.wisc.edu/cdis/cs/courses/cs220/cs220-s24-projects/-/blob/main/p13/rubric.md)."
   ]
  },
  {
   "cell_type": "markdown",
   "id": "7c2b70ad",
   "metadata": {
    "deletable": false,
    "editable": false
   },
   "source": [
    "## Questions and Functions:\n",
    "\n",
    "Let us start by importing all the modules we will need for this project."
   ]
  },
  {
   "cell_type": "code",
   "execution_count": 4,
   "id": "3f7f49b0",
   "metadata": {
    "execution": {
     "iopub.execute_input": "2024-04-24T14:34:29.881411Z",
     "iopub.status.busy": "2024-04-24T14:34:29.881411Z",
     "iopub.status.idle": "2024-04-24T14:34:30.031243Z",
     "shell.execute_reply": "2024-04-24T14:34:30.030236Z"
    },
    "tags": []
   },
   "outputs": [],
   "source": [
    "# it is considered a good coding practice to place all import statements at the top of the notebook\n",
    "# please place all your import statements in this cell if you need to import any more modules for this project\n",
    "import os\n",
    "import requests\n",
    "import sqlite3\n",
    "import pandas as pd\n",
    "import matplotlib\n",
    "import math\n",
    "import numpy as np "
   ]
  },
  {
   "cell_type": "code",
   "execution_count": 5,
   "id": "7d7b0e81",
   "metadata": {
    "execution": {
     "iopub.execute_input": "2024-04-24T14:34:30.035243Z",
     "iopub.status.busy": "2024-04-24T14:34:30.035243Z",
     "iopub.status.idle": "2024-04-24T14:34:30.535675Z",
     "shell.execute_reply": "2024-04-24T14:34:30.534377Z"
    }
   },
   "outputs": [],
   "source": [
    "# this ensures that font.size setting remains uniform\n",
    "%matplotlib inline \n",
    "pd.set_option('display.max_colwidth', None)\n",
    "matplotlib.rcParams[\"font.size\"] = 13 # don't use value > 13! Otherwise your y-axis tick labels will be different."
   ]
  },
  {
   "cell_type": "markdown",
   "id": "b2100c90",
   "metadata": {
    "deletable": false,
    "editable": false
   },
   "source": [
    "Now, you may copy/paste some of the functions and data structures you defined in Lab-P13 and P12, which will be useful for this project."
   ]
  },
  {
   "cell_type": "code",
   "execution_count": 6,
   "id": "1437c209",
   "metadata": {
    "execution": {
     "iopub.execute_input": "2024-04-24T14:34:30.539713Z",
     "iopub.status.busy": "2024-04-24T14:34:30.539713Z",
     "iopub.status.idle": "2024-04-24T14:34:30.546067Z",
     "shell.execute_reply": "2024-04-24T14:34:30.545053Z"
    },
    "tags": []
   },
   "outputs": [],
   "source": [
    "# copy/paste the definition of the function 'bar_plot' from lab-p13 here\n",
    "def bar_plot(df, x, y):\n",
    "    ax = df.plot.bar(x=x, y=y, color=\"black\", legend=False)\n",
    "    ax.set_xlabel(x)\n",
    "    ax.set_ylabel(y)"
   ]
  },
  {
   "cell_type": "code",
   "execution_count": 7,
   "id": "e30f9521",
   "metadata": {
    "deletable": false,
    "editable": false
   },
   "outputs": [
    {
     "data": {
      "text/html": [
       "<p><strong><pre style='display: inline;'>bar_plot</pre></strong> passed! 💯</p><p><strong><pre style='display: inline;'>bar_plot - 1</pre> message:</strong> Note that the Gradescope autograder will deduct points if your code fails the following rubric point - 'data is not plotted correctly (-1)'.The public tests cannot determine if your code satisfies these requirements. Verify your code manually.</p><p><strong><pre style='display: inline;'>bar_plot - 2</pre> message:</strong> Note that the Gradescope autograder will deduct points if your code fails the following rubric point - 'legend is not deleted or axes are not properly labeled (-1)'.The public tests cannot determine if your code satisfies these requirements. Verify your code manually.</p>"
      ],
      "text/plain": [
       "bar_plot results: All test cases passed!\n",
       "bar_plot - 1 message: Note that the Gradescope autograder will deduct points if your code fails the following rubric point - 'data is not plotted correctly (-1)'.The public tests cannot determine if your code satisfies these requirements. Verify your code manually.\n",
       "bar_plot - 2 message: Note that the Gradescope autograder will deduct points if your code fails the following rubric point - 'legend is not deleted or axes are not properly labeled (-1)'.The public tests cannot determine if your code satisfies these requirements. Verify your code manually."
      ]
     },
     "execution_count": 7,
     "metadata": {},
     "output_type": "execute_result"
    }
   ],
   "source": [
    "grader.check(\"bar_plot\")"
   ]
  },
  {
   "cell_type": "code",
   "execution_count": 8,
   "id": "412ec5d1",
   "metadata": {
    "execution": {
     "iopub.execute_input": "2024-04-24T14:34:31.122284Z",
     "iopub.status.busy": "2024-04-24T14:34:31.121286Z",
     "iopub.status.idle": "2024-04-24T14:34:31.127491Z",
     "shell.execute_reply": "2024-04-24T14:34:31.126482Z"
    },
    "tags": []
   },
   "outputs": [],
   "source": [
    "# copy/paste the definition of the function 'scatter_plot' from lab-p13 here\n",
    "def scatter_plot(df, x, y):\n",
    "    ax = df.plot.scatter(x=x, y=y, color=\"black\", legend=False)\n",
    "    ax.set_xlabel(x)\n",
    "    ax.set_ylabel(y)"
   ]
  },
  {
   "cell_type": "code",
   "execution_count": 9,
   "id": "0a46454a",
   "metadata": {
    "deletable": false,
    "editable": false
   },
   "outputs": [
    {
     "data": {
      "text/html": [
       "<p><strong><pre style='display: inline;'>scatter_plot</pre></strong> passed! 💯</p><p><strong><pre style='display: inline;'>scatter_plot - 1</pre> message:</strong> Note that the Gradescope autograder will deduct points if your code fails the following rubric point - 'data is not plotted correctly (-1)'.The public tests cannot determine if your code satisfies these requirements. Verify your code manually.</p><p><strong><pre style='display: inline;'>scatter_plot - 2</pre> message:</strong> Note that the Gradescope autograder will deduct points if your code fails the following rubric point - 'legend is not deleted or axes are not properly labeled (-1)'.The public tests cannot determine if your code satisfies these requirements. Verify your code manually.</p>"
      ],
      "text/plain": [
       "scatter_plot results: All test cases passed!\n",
       "scatter_plot - 1 message: Note that the Gradescope autograder will deduct points if your code fails the following rubric point - 'data is not plotted correctly (-1)'.The public tests cannot determine if your code satisfies these requirements. Verify your code manually.\n",
       "scatter_plot - 2 message: Note that the Gradescope autograder will deduct points if your code fails the following rubric point - 'legend is not deleted or axes are not properly labeled (-1)'.The public tests cannot determine if your code satisfies these requirements. Verify your code manually."
      ]
     },
     "execution_count": 9,
     "metadata": {},
     "output_type": "execute_result"
    }
   ],
   "source": [
    "grader.check(\"scatter_plot\")"
   ]
  },
  {
   "cell_type": "code",
   "execution_count": 10,
   "id": "78ad8ae5",
   "metadata": {
    "execution": {
     "iopub.execute_input": "2024-04-24T14:34:31.543177Z",
     "iopub.status.busy": "2024-04-24T14:34:31.543177Z",
     "iopub.status.idle": "2024-04-24T14:34:31.549327Z",
     "shell.execute_reply": "2024-04-24T14:34:31.548043Z"
    },
    "tags": []
   },
   "outputs": [],
   "source": [
    "# copy/paste the definition of the function 'horizontal_bar_plot' from lab-p13 here\n",
    "def horizontal_bar_plot(df, x):\n",
    "    df = df.set_index(x)\n",
    "    ax = df.plot.barh()\n",
    "    ax.legend(loc='center left', bbox_to_anchor=(1, 0.9))"
   ]
  },
  {
   "cell_type": "code",
   "execution_count": 11,
   "id": "fc5b11d6",
   "metadata": {
    "deletable": false,
    "editable": false
   },
   "outputs": [
    {
     "data": {
      "text/html": [
       "<p><strong><pre style='display: inline;'>horizontal_bar_plot</pre></strong> passed! 🌟</p><p><strong><pre style='display: inline;'>horizontal_bar_plot - 1</pre> message:</strong> Note that the Gradescope autograder will deduct points if your code fails the following rubric point - 'data is not plotted correctly (-1)'.The public tests cannot determine if your code satisfies these requirements. Verify your code manually.</p>"
      ],
      "text/plain": [
       "horizontal_bar_plot results: All test cases passed!\n",
       "horizontal_bar_plot - 1 message: Note that the Gradescope autograder will deduct points if your code fails the following rubric point - 'data is not plotted correctly (-1)'.The public tests cannot determine if your code satisfies these requirements. Verify your code manually."
      ]
     },
     "execution_count": 11,
     "metadata": {},
     "output_type": "execute_result"
    }
   ],
   "source": [
    "grader.check(\"horizontal_bar_plot\")"
   ]
  },
  {
   "cell_type": "code",
   "execution_count": 12,
   "id": "aaabddd8",
   "metadata": {
    "execution": {
     "iopub.execute_input": "2024-04-24T14:34:31.765331Z",
     "iopub.status.busy": "2024-04-24T14:34:31.765331Z",
     "iopub.status.idle": "2024-04-24T14:34:31.771535Z",
     "shell.execute_reply": "2024-04-24T14:34:31.770523Z"
    },
    "tags": []
   },
   "outputs": [],
   "source": [
    "# copy/paste the definition of the function 'pie_plot' from lab-p13 here\n",
    "def pie_plot(df, x, y, title=None):\n",
    "    df = df.set_index(x)\n",
    "    ax = df.plot.pie(y=y, legend=False)\n",
    "    ax.set_ylabel(None)\n",
    "    ax.set_title(title)"
   ]
  },
  {
   "cell_type": "code",
   "execution_count": 13,
   "id": "ffc38171",
   "metadata": {
    "deletable": false,
    "editable": false
   },
   "outputs": [
    {
     "data": {
      "text/html": [
       "<p><strong><pre style='display: inline;'>pie_plot</pre></strong> passed! 💯</p><p><strong><pre style='display: inline;'>pie_plot - 1</pre> message:</strong> Note that the Gradescope autograder will deduct points if your code fails the following rubric point - 'data is not plotted correctly (-1)'.The public tests cannot determine if your code satisfies these requirements. Verify your code manually.</p>"
      ],
      "text/plain": [
       "pie_plot results: All test cases passed!\n",
       "pie_plot - 1 message: Note that the Gradescope autograder will deduct points if your code fails the following rubric point - 'data is not plotted correctly (-1)'.The public tests cannot determine if your code satisfies these requirements. Verify your code manually."
      ]
     },
     "execution_count": 13,
     "metadata": {},
     "output_type": "execute_result"
    }
   ],
   "source": [
    "grader.check(\"pie_plot\")"
   ]
  },
  {
   "cell_type": "code",
   "execution_count": 14,
   "id": "5377a113",
   "metadata": {
    "execution": {
     "iopub.execute_input": "2024-04-24T14:34:31.985394Z",
     "iopub.status.busy": "2024-04-24T14:34:31.984387Z",
     "iopub.status.idle": "2024-04-24T14:34:31.991473Z",
     "shell.execute_reply": "2024-04-24T14:34:31.990463Z"
    },
    "tags": []
   },
   "outputs": [],
   "source": [
    "# copy/paste the definition of the function 'get_regression_coeff' from lab-p13 here\n",
    "def get_regression_coeff(df, x, y):\n",
    "    \"\"\"get_regression_coeff(df, x, y) takes in a DataFrame 'df' and returns \n",
    "    the slope (m) and the y-intercept (b) of the line of best fit in the\n",
    "    plot with the column 'x' as the x-axis, and the column 'y' as the y-axis\"\"\"\n",
    "    df[\"1\"] = 1\n",
    "    res = np.linalg.lstsq(df[[x, \"1\"]], df[y], rcond=None)\n",
    "    coefficients = res[0]\n",
    "    m = coefficients[0]\n",
    "    b = coefficients[1]\n",
    "    return (m, b) "
   ]
  },
  {
   "cell_type": "code",
   "execution_count": 15,
   "id": "3a57761d",
   "metadata": {
    "deletable": false,
    "editable": false
   },
   "outputs": [
    {
     "data": {
      "text/html": [
       "<p><strong><pre style='display: inline;'>get_regression_coeff</pre></strong> passed! 🎉</p><p><strong><pre style='display: inline;'>get_regression_coeff - 1</pre> message:</strong> Note that the Gradescope autograder will deduct points if your code fails the following rubric point - 'function logic is incorrect (-1)'.The public tests cannot determine if your code satisfies these requirements. Verify your code manually.</p>"
      ],
      "text/plain": [
       "get_regression_coeff results: All test cases passed!\n",
       "get_regression_coeff - 1 message: Note that the Gradescope autograder will deduct points if your code fails the following rubric point - 'function logic is incorrect (-1)'.The public tests cannot determine if your code satisfies these requirements. Verify your code manually."
      ]
     },
     "execution_count": 15,
     "metadata": {},
     "output_type": "execute_result"
    }
   ],
   "source": [
    "grader.check(\"get_regression_coeff\")"
   ]
  },
  {
   "cell_type": "code",
   "execution_count": 16,
   "id": "ea47f898",
   "metadata": {
    "execution": {
     "iopub.execute_input": "2024-04-24T14:34:32.213336Z",
     "iopub.status.busy": "2024-04-24T14:34:32.212317Z",
     "iopub.status.idle": "2024-04-24T14:34:32.218801Z",
     "shell.execute_reply": "2024-04-24T14:34:32.217779Z"
    },
    "tags": []
   },
   "outputs": [],
   "source": [
    "# copy/paste the definition of the function 'get_regression_line' from lab-p13 here\n",
    "def get_regression_line(df, x, y):\n",
    "    m, b = get_regression_coeff(df, x, y)\n",
    "    df['fit'] = m * df[x] + b\n",
    "    return df"
   ]
  },
  {
   "cell_type": "code",
   "execution_count": 17,
   "id": "6bdf2615",
   "metadata": {
    "deletable": false,
    "editable": false
   },
   "outputs": [
    {
     "data": {
      "text/html": [
       "<p><strong><pre style='display: inline;'>get_regression_line</pre></strong> passed! 🌟</p><p><strong><pre style='display: inline;'>get_regression_line - 1</pre> message:</strong> Note that the Gradescope autograder will deduct points if your code fails the following rubric point - 'function logic is incorrect (-1)'.The public tests cannot determine if your code satisfies these requirements. Verify your code manually.</p>"
      ],
      "text/plain": [
       "get_regression_line results: All test cases passed!\n",
       "get_regression_line - 1 message: Note that the Gradescope autograder will deduct points if your code fails the following rubric point - 'function logic is incorrect (-1)'.The public tests cannot determine if your code satisfies these requirements. Verify your code manually."
      ]
     },
     "execution_count": 17,
     "metadata": {},
     "output_type": "execute_result"
    }
   ],
   "source": [
    "grader.check(\"get_regression_line\")"
   ]
  },
  {
   "cell_type": "code",
   "execution_count": 18,
   "id": "a8bfc3d2",
   "metadata": {
    "execution": {
     "iopub.execute_input": "2024-04-24T14:34:32.434011Z",
     "iopub.status.busy": "2024-04-24T14:34:32.434011Z",
     "iopub.status.idle": "2024-04-24T14:34:32.438876Z",
     "shell.execute_reply": "2024-04-24T14:34:32.438876Z"
    },
    "tags": []
   },
   "outputs": [],
   "source": [
    "# copy/paste the definition of the function 'regression_line_plot' from lab-p13 here\n",
    "def regression_line_plot(df, x, y):\n",
    "    df_with_fit = get_regression_line(df, x, y)\n",
    "    ax = df.plot.scatter(x=x, y=y, color='black', label=None)\n",
    "    df_with_fit.plot.line(x=x, y=\"fit\", color='red', label='fit', ax=ax)\n",
    "    ax.set_xlabel(x)\n",
    "    ax.set_ylabel(y)\n",
    "    ax.set_title(None)\n",
    "    "
   ]
  },
  {
   "cell_type": "code",
   "execution_count": 19,
   "id": "11f30f4b",
   "metadata": {
    "deletable": false,
    "editable": false
   },
   "outputs": [
    {
     "data": {
      "text/html": [
       "<p><strong><pre style='display: inline;'>regression_line_plot</pre></strong> passed! 💯</p><p><strong><pre style='display: inline;'>regression_line_plot - 1</pre> message:</strong> Note that the Gradescope autograder will deduct points if your code fails the following rubric point - '`get_regression_line` function is not used to answer (-1)'.The public tests cannot determine if your code satisfies these requirements. Verify your code manually.</p><p><strong><pre style='display: inline;'>regression_line_plot - 2</pre> message:</strong> Note that the Gradescope autograder will deduct points if your code fails the following rubric point - 'function does not create correct scatter plot or the correct line plot using `df[\"fit\"]` (-1)'.The public tests cannot determine if your code satisfies these requirements. Verify your code manually.</p>"
      ],
      "text/plain": [
       "regression_line_plot results: All test cases passed!\n",
       "regression_line_plot - 1 message: Note that the Gradescope autograder will deduct points if your code fails the following rubric point - '`get_regression_line` function is not used to answer (-1)'.The public tests cannot determine if your code satisfies these requirements. Verify your code manually.\n",
       "regression_line_plot - 2 message: Note that the Gradescope autograder will deduct points if your code fails the following rubric point - 'function does not create correct scatter plot or the correct line plot using `df[\"fit\"]` (-1)'.The public tests cannot determine if your code satisfies these requirements. Verify your code manually."
      ]
     },
     "execution_count": 19,
     "metadata": {},
     "output_type": "execute_result"
    }
   ],
   "source": [
    "grader.check(\"regression_line_plot\")"
   ]
  },
  {
   "cell_type": "code",
   "execution_count": 20,
   "id": "5dd24901",
   "metadata": {
    "execution": {
     "iopub.execute_input": "2024-04-24T14:34:32.894221Z",
     "iopub.status.busy": "2024-04-24T14:34:32.894221Z",
     "iopub.status.idle": "2024-04-24T14:34:32.901377Z",
     "shell.execute_reply": "2024-04-24T14:34:32.900111Z"
    },
    "tags": []
   },
   "outputs": [],
   "source": [
    "# copy/paste the definition of the function 'download' from p12 here\n",
    "def download(url, filename):\n",
    "\n",
    "    if os.path.exists(filename):\n",
    "        return (str(filename) + \" already exists!\")\n",
    "    try:\n",
    "        response = requests.get(url)\n",
    "    \n",
    "        response.raise_for_status()\n",
    "    except requests.RequestException as e:\n",
    "        return f\"Failed to download the file: {e}\"\n",
    "\n",
    "\n",
    "    with open(filename, 'w', encoding='utf-8') as file:\n",
    "        file.write(response.text)\n",
    "    return (str(filename) + \" created!\")\n"
   ]
  },
  {
   "cell_type": "code",
   "execution_count": 21,
   "id": "fed453d3",
   "metadata": {
    "execution": {
     "iopub.execute_input": "2024-04-24T14:34:32.905410Z",
     "iopub.status.busy": "2024-04-24T14:34:32.904390Z",
     "iopub.status.idle": "2024-04-24T14:34:32.913251Z",
     "shell.execute_reply": "2024-04-24T14:34:32.912243Z"
    },
    "tags": []
   },
   "outputs": [
    {
     "data": {
      "text/plain": [
       "'rankings.json already exists!'"
      ]
     },
     "execution_count": 21,
     "metadata": {},
     "output_type": "execute_result"
    }
   ],
   "source": [
    "# use the 'download' function to download the data from the webpage\n",
    "# 'https://git.doit.wisc.edu/cdis/cs/courses/cs220/cs220-s24-projects/-/raw/main/p13/rankings.json'\n",
    "# to the file 'rankings.json'\n",
    "url = 'https://git.doit.wisc.edu/cdis/cs/courses/cs220/cs220-s24-projects/-/raw/main/p13/rankings.json'\n",
    "file = 'rankings.json'\n",
    "\n",
    "download_result = download(url, file)\n",
    "download_result"
   ]
  },
  {
   "cell_type": "markdown",
   "id": "8811a4ec",
   "metadata": {
    "deletable": false,
    "editable": false
   },
   "source": [
    "### Data Structure 1: `conn`\n",
    "\n",
    "You **must** now create a **database** called `rankings.db` out of `rankings.json`, connect to it, and save it in a variable called `conn`. You **must** use this connection to the database `rankings.db` to answer the questions that follow."
   ]
  },
  {
   "cell_type": "code",
   "execution_count": 22,
   "id": "b4a69f72",
   "metadata": {
    "execution": {
     "iopub.execute_input": "2024-04-24T14:34:32.917265Z",
     "iopub.status.busy": "2024-04-24T14:34:32.917265Z",
     "iopub.status.idle": "2024-04-24T14:34:33.517110Z",
     "shell.execute_reply": "2024-04-24T14:34:33.517110Z"
    },
    "lines_to_next_cell": 0,
    "tags": []
   },
   "outputs": [
    {
     "data": {
      "text/plain": [
       "1500"
      ]
     },
     "execution_count": 22,
     "metadata": {},
     "output_type": "execute_result"
    }
   ],
   "source": [
    "# create a database called 'rankings.db' out of 'rankings.json'\n",
    "\n",
    "# TODO: load the data from 'rankings.json' into a variable called 'rankings' using pandas' 'read_json' function\n",
    "# TODO: connect to 'rankings.db' and save it to a variable called 'conn'\n",
    "# TODO: write the contents of the DataFrame 'rankings' to the sqlite database\n",
    "rankings = pd.read_json('rankings.json')\n",
    "conn = sqlite3.connect('rankings.db')\n",
    "rankings.to_sql('rankings', conn, if_exists='replace', index=False)"
   ]
  },
  {
   "cell_type": "code",
   "execution_count": 23,
   "id": "3021183b",
   "metadata": {
    "execution": {
     "iopub.execute_input": "2024-04-24T14:34:33.522138Z",
     "iopub.status.busy": "2024-04-24T14:34:33.521120Z",
     "iopub.status.idle": "2024-04-24T14:34:33.549290Z",
     "shell.execute_reply": "2024-04-24T14:34:33.548261Z"
    },
    "tags": []
   },
   "outputs": [
    {
     "data": {
      "text/html": [
       "<div>\n",
       "<style scoped>\n",
       "    .dataframe tbody tr th:only-of-type {\n",
       "        vertical-align: middle;\n",
       "    }\n",
       "\n",
       "    .dataframe tbody tr th {\n",
       "        vertical-align: top;\n",
       "    }\n",
       "\n",
       "    .dataframe thead th {\n",
       "        text-align: right;\n",
       "    }\n",
       "</style>\n",
       "<table border=\"1\" class=\"dataframe\">\n",
       "  <thead>\n",
       "    <tr style=\"text-align: right;\">\n",
       "      <th></th>\n",
       "      <th>Year</th>\n",
       "      <th>Rank</th>\n",
       "      <th>Institution Name</th>\n",
       "      <th>Country</th>\n",
       "      <th>Academic Reputation</th>\n",
       "      <th>Employer Reputation</th>\n",
       "      <th>Faculty Student</th>\n",
       "      <th>Citations per Faculty</th>\n",
       "      <th>International Faculty</th>\n",
       "      <th>International Students</th>\n",
       "      <th>International Research Network</th>\n",
       "      <th>Employment Outcomes</th>\n",
       "      <th>Sustainability</th>\n",
       "      <th>Overall</th>\n",
       "    </tr>\n",
       "  </thead>\n",
       "  <tbody>\n",
       "    <tr>\n",
       "      <th>0</th>\n",
       "      <td>2022</td>\n",
       "      <td>1</td>\n",
       "      <td>Massachusetts Institute of Technology (MIT)</td>\n",
       "      <td>United States</td>\n",
       "      <td>100.0</td>\n",
       "      <td>100.0</td>\n",
       "      <td>100.0</td>\n",
       "      <td>100.0</td>\n",
       "      <td>100.0</td>\n",
       "      <td>91.4</td>\n",
       "      <td>None</td>\n",
       "      <td>None</td>\n",
       "      <td>None</td>\n",
       "      <td>100.0</td>\n",
       "    </tr>\n",
       "    <tr>\n",
       "      <th>1</th>\n",
       "      <td>2022</td>\n",
       "      <td>2</td>\n",
       "      <td>University of Oxford</td>\n",
       "      <td>United Kingdom</td>\n",
       "      <td>100.0</td>\n",
       "      <td>100.0</td>\n",
       "      <td>100.0</td>\n",
       "      <td>96.0</td>\n",
       "      <td>99.5</td>\n",
       "      <td>98.5</td>\n",
       "      <td>None</td>\n",
       "      <td>None</td>\n",
       "      <td>None</td>\n",
       "      <td>99.5</td>\n",
       "    </tr>\n",
       "    <tr>\n",
       "      <th>2</th>\n",
       "      <td>2022</td>\n",
       "      <td>3</td>\n",
       "      <td>Stanford University</td>\n",
       "      <td>United States</td>\n",
       "      <td>100.0</td>\n",
       "      <td>100.0</td>\n",
       "      <td>100.0</td>\n",
       "      <td>99.9</td>\n",
       "      <td>99.8</td>\n",
       "      <td>67.0</td>\n",
       "      <td>None</td>\n",
       "      <td>None</td>\n",
       "      <td>None</td>\n",
       "      <td>98.7</td>\n",
       "    </tr>\n",
       "    <tr>\n",
       "      <th>3</th>\n",
       "      <td>2022</td>\n",
       "      <td>3</td>\n",
       "      <td>University of Cambridge</td>\n",
       "      <td>United Kingdom</td>\n",
       "      <td>100.0</td>\n",
       "      <td>100.0</td>\n",
       "      <td>100.0</td>\n",
       "      <td>92.1</td>\n",
       "      <td>100.0</td>\n",
       "      <td>97.7</td>\n",
       "      <td>None</td>\n",
       "      <td>None</td>\n",
       "      <td>None</td>\n",
       "      <td>98.7</td>\n",
       "    </tr>\n",
       "    <tr>\n",
       "      <th>4</th>\n",
       "      <td>2022</td>\n",
       "      <td>5</td>\n",
       "      <td>Harvard University</td>\n",
       "      <td>United States</td>\n",
       "      <td>100.0</td>\n",
       "      <td>100.0</td>\n",
       "      <td>99.1</td>\n",
       "      <td>100.0</td>\n",
       "      <td>84.2</td>\n",
       "      <td>70.1</td>\n",
       "      <td>None</td>\n",
       "      <td>None</td>\n",
       "      <td>None</td>\n",
       "      <td>98.0</td>\n",
       "    </tr>\n",
       "  </tbody>\n",
       "</table>\n",
       "</div>"
      ],
      "text/plain": [
       "   Year  Rank                              Institution Name         Country  \\\n",
       "0  2022     1  Massachusetts Institute of Technology (MIT)    United States   \n",
       "1  2022     2                          University of Oxford  United Kingdom   \n",
       "2  2022     3                           Stanford University   United States   \n",
       "3  2022     3                       University of Cambridge  United Kingdom   \n",
       "4  2022     5                            Harvard University   United States   \n",
       "\n",
       "   Academic Reputation  Employer Reputation  Faculty Student  \\\n",
       "0                100.0                100.0            100.0   \n",
       "1                100.0                100.0            100.0   \n",
       "2                100.0                100.0            100.0   \n",
       "3                100.0                100.0            100.0   \n",
       "4                100.0                100.0             99.1   \n",
       "\n",
       "   Citations per Faculty  International Faculty  International Students  \\\n",
       "0                  100.0                  100.0                    91.4   \n",
       "1                   96.0                   99.5                    98.5   \n",
       "2                   99.9                   99.8                    67.0   \n",
       "3                   92.1                  100.0                    97.7   \n",
       "4                  100.0                   84.2                    70.1   \n",
       "\n",
       "  International Research Network Employment Outcomes Sustainability  Overall  \n",
       "0                           None                None           None    100.0  \n",
       "1                           None                None           None     99.5  \n",
       "2                           None                None           None     98.7  \n",
       "3                           None                None           None     98.7  \n",
       "4                           None                None           None     98.0  "
      ]
     },
     "execution_count": 23,
     "metadata": {},
     "output_type": "execute_result"
    }
   ],
   "source": [
    "# run this cell and confirm that you have defined the variables correctly\n",
    "\n",
    "pd.read_sql(\"SELECT * FROM rankings LIMIT 5\", conn)"
   ]
  },
  {
   "cell_type": "code",
   "execution_count": 24,
   "id": "065addd0",
   "metadata": {
    "deletable": false,
    "editable": false
   },
   "outputs": [
    {
     "data": {
      "text/html": [
       "<p><strong><pre style='display: inline;'>conn</pre></strong> passed! 🍀</p><p><strong><pre style='display: inline;'>conn - 1</pre> message:</strong> Note that the Gradescope autograder will deduct points if your code fails the following rubric point - 'data structure is defined more than once (-1)'.The public tests cannot determine if your code satisfies these requirements. Verify your code manually.</p><p><strong><pre style='display: inline;'>conn - 2</pre> message:</strong> Note that the Gradescope autograder will deduct points if your code fails the following rubric point - 'did not close the connection to `conn` at the end (-2)'.The public tests cannot determine if your code satisfies these requirements. Verify your code manually.</p>"
      ],
      "text/plain": [
       "conn results: All test cases passed!\n",
       "conn - 1 message: Note that the Gradescope autograder will deduct points if your code fails the following rubric point - 'data structure is defined more than once (-1)'.The public tests cannot determine if your code satisfies these requirements. Verify your code manually.\n",
       "conn - 2 message: Note that the Gradescope autograder will deduct points if your code fails the following rubric point - 'did not close the connection to `conn` at the end (-2)'.The public tests cannot determine if your code satisfies these requirements. Verify your code manually."
      ]
     },
     "execution_count": 24,
     "metadata": {},
     "output_type": "execute_result"
    }
   ],
   "source": [
    "grader.check(\"conn\")"
   ]
  },
  {
   "cell_type": "markdown",
   "id": "d75f6fea",
   "metadata": {
    "deletable": false,
    "editable": false
   },
   "source": [
    "**Question 1:** List **all** the statistics of the institution with the `Institution Name` *University of Wisconsin-Madison*. \n",
    "\n",
    "You **must** display **all** the columns. The rows **must** be in *ascending* order of `Year`.\n",
    "\n",
    "Your output **must** be a **DataFrame** that looks like this:\n",
    "\n",
    "||**Year**|**Rank**|**Institution Name**|**Country**|**Academic Reputation**|**Employer Reputation**|**Faculty Student**|**Citations per Faculty**|**International Faculty**|**International Students**|**International Research Network**|**Employment Outcomes**|**Sustainability**|**Overall**|\n",
    "|---|---|---|---|---|---|---|---|---|---|---|---|---|---|---|\n",
    "|**0**|2022|75|University of Wisconsin-Madison|United States|83.4|52.8|69.2|58.4|8.1|27.5|nan|nan|nan|66.2|\n",
    "|**1**|2023|83|University of Wisconsin-Madison|United States|82.4|48.1|70.6|41.9|37.7|23.8|93.2|84.6|nan|63.7|\n",
    "|**2**|2024|102|University of Wisconsin-Madison|United States|80.2|47.8|61.3|37.4|30.9|22.8|83.6|73.1|83.7|60.0|"
   ]
  },
  {
   "cell_type": "code",
   "execution_count": 90,
   "id": "a493dd4d",
   "metadata": {
    "execution": {
     "iopub.execute_input": "2024-04-24T14:34:33.967143Z",
     "iopub.status.busy": "2024-04-24T14:34:33.967143Z",
     "iopub.status.idle": "2024-04-24T14:34:33.987979Z",
     "shell.execute_reply": "2024-04-24T14:34:33.986968Z"
    },
    "tags": []
   },
   "outputs": [
    {
     "data": {
      "text/html": [
       "<div>\n",
       "<style scoped>\n",
       "    .dataframe tbody tr th:only-of-type {\n",
       "        vertical-align: middle;\n",
       "    }\n",
       "\n",
       "    .dataframe tbody tr th {\n",
       "        vertical-align: top;\n",
       "    }\n",
       "\n",
       "    .dataframe thead th {\n",
       "        text-align: right;\n",
       "    }\n",
       "</style>\n",
       "<table border=\"1\" class=\"dataframe\">\n",
       "  <thead>\n",
       "    <tr style=\"text-align: right;\">\n",
       "      <th></th>\n",
       "      <th>Year</th>\n",
       "      <th>Rank</th>\n",
       "      <th>Institution Name</th>\n",
       "      <th>Country</th>\n",
       "      <th>Academic Reputation</th>\n",
       "      <th>Employer Reputation</th>\n",
       "      <th>Faculty Student</th>\n",
       "      <th>Citations per Faculty</th>\n",
       "      <th>International Faculty</th>\n",
       "      <th>International Students</th>\n",
       "      <th>International Research Network</th>\n",
       "      <th>Employment Outcomes</th>\n",
       "      <th>Sustainability</th>\n",
       "      <th>Overall</th>\n",
       "    </tr>\n",
       "  </thead>\n",
       "  <tbody>\n",
       "    <tr>\n",
       "      <th>0</th>\n",
       "      <td>2022</td>\n",
       "      <td>75</td>\n",
       "      <td>University of Wisconsin-Madison</td>\n",
       "      <td>United States</td>\n",
       "      <td>83.4</td>\n",
       "      <td>52.8</td>\n",
       "      <td>69.2</td>\n",
       "      <td>58.4</td>\n",
       "      <td>8.1</td>\n",
       "      <td>27.5</td>\n",
       "      <td>NaN</td>\n",
       "      <td>NaN</td>\n",
       "      <td>NaN</td>\n",
       "      <td>66.2</td>\n",
       "    </tr>\n",
       "    <tr>\n",
       "      <th>1</th>\n",
       "      <td>2023</td>\n",
       "      <td>83</td>\n",
       "      <td>University of Wisconsin-Madison</td>\n",
       "      <td>United States</td>\n",
       "      <td>82.4</td>\n",
       "      <td>48.1</td>\n",
       "      <td>70.6</td>\n",
       "      <td>41.9</td>\n",
       "      <td>37.7</td>\n",
       "      <td>23.8</td>\n",
       "      <td>93.2</td>\n",
       "      <td>84.6</td>\n",
       "      <td>NaN</td>\n",
       "      <td>63.7</td>\n",
       "    </tr>\n",
       "    <tr>\n",
       "      <th>2</th>\n",
       "      <td>2024</td>\n",
       "      <td>102</td>\n",
       "      <td>University of Wisconsin-Madison</td>\n",
       "      <td>United States</td>\n",
       "      <td>80.2</td>\n",
       "      <td>47.8</td>\n",
       "      <td>61.3</td>\n",
       "      <td>37.4</td>\n",
       "      <td>30.9</td>\n",
       "      <td>22.8</td>\n",
       "      <td>83.6</td>\n",
       "      <td>73.1</td>\n",
       "      <td>83.7</td>\n",
       "      <td>60.0</td>\n",
       "    </tr>\n",
       "  </tbody>\n",
       "</table>\n",
       "</div>"
      ],
      "text/plain": [
       "   Year  Rank                 Institution Name        Country  \\\n",
       "0  2022    75  University of Wisconsin-Madison  United States   \n",
       "1  2023    83  University of Wisconsin-Madison  United States   \n",
       "2  2024   102  University of Wisconsin-Madison  United States   \n",
       "\n",
       "   Academic Reputation  Employer Reputation  Faculty Student  \\\n",
       "0                 83.4                 52.8             69.2   \n",
       "1                 82.4                 48.1             70.6   \n",
       "2                 80.2                 47.8             61.3   \n",
       "\n",
       "   Citations per Faculty  International Faculty  International Students  \\\n",
       "0                   58.4                    8.1                    27.5   \n",
       "1                   41.9                   37.7                    23.8   \n",
       "2                   37.4                   30.9                    22.8   \n",
       "\n",
       "   International Research Network  Employment Outcomes  Sustainability  \\\n",
       "0                             NaN                  NaN             NaN   \n",
       "1                            93.2                 84.6             NaN   \n",
       "2                            83.6                 73.1            83.7   \n",
       "\n",
       "   Overall  \n",
       "0     66.2  \n",
       "1     63.7  \n",
       "2     60.0  "
      ]
     },
     "execution_count": 90,
     "metadata": {},
     "output_type": "execute_result"
    }
   ],
   "source": [
    "conn = sqlite3.connect('rankings.db')\n",
    "\n",
    "# SQL query to select all columns for University of Wisconsin-Madison, sorted by Year\n",
    "query = \"\"\"\n",
    "SELECT *\n",
    "FROM rankings\n",
    "WHERE `Institution Name` = 'University of Wisconsin-Madison'\n",
    "ORDER BY Year ASC\n",
    "\"\"\"\n",
    "\n",
    "# Execute the query and store the result in a DataFrame\n",
    "uw_stats = pd.read_sql(query, conn)\n",
    "\n",
    "# Display the DataFrame\n",
    "uw_stats\n"
   ]
  },
  {
   "cell_type": "code",
   "execution_count": 91,
   "id": "3faf4a9a",
   "metadata": {
    "deletable": false,
    "editable": false
   },
   "outputs": [
    {
     "data": {
      "text/html": [
       "<p><strong><pre style='display: inline;'>q1</pre></strong> passed! ✨</p><p><strong><pre style='display: inline;'>q1 - 2</pre> message:</strong> Note that the Gradescope autograder will deduct points if your code fails the following rubric point - 'did not use SQL to answer (-2)'.The public tests cannot determine if your code satisfies these requirements. Verify your code manually.</p><p><strong><pre style='display: inline;'>q1 - 3</pre> message:</strong> Note that the Gradescope autograder will deduct points if your code fails the following rubric point - 'incorrect logic is used to answer (-1)'.The public tests cannot determine if your code satisfies these requirements. Verify your code manually.</p>"
      ],
      "text/plain": [
       "q1 results: All test cases passed!\n",
       "q1 - 2 message: Note that the Gradescope autograder will deduct points if your code fails the following rubric point - 'did not use SQL to answer (-2)'.The public tests cannot determine if your code satisfies these requirements. Verify your code manually.\n",
       "q1 - 3 message: Note that the Gradescope autograder will deduct points if your code fails the following rubric point - 'incorrect logic is used to answer (-1)'.The public tests cannot determine if your code satisfies these requirements. Verify your code manually."
      ]
     },
     "execution_count": 91,
     "metadata": {},
     "output_type": "execute_result"
    }
   ],
   "source": [
    "grader.check(\"q1\")"
   ]
  },
  {
   "cell_type": "markdown",
   "id": "df32cce5",
   "metadata": {
    "deletable": false,
    "editable": false
   },
   "source": [
    "**Question 2:** What are the **top** *10* institutions in *Japan* which had the **highest** score of `International Students` in the `Year` *2024*?\n",
    "\n",
    "You **must** display the columns `Institution Name` and `International Students`. The rows **must** be in *descending* order of `International Students`.\n",
    "\n",
    "Your output **must** be a **DataFrame** that looks like this:\n",
    "\n",
    "||**Institution Name**|**International Students**|\n",
    "|---|---|---|\n",
    "|**0**|Tokyo Institute of Technology (Tokyo Tech)|31.7|\n",
    "|**1**|The University of Tokyo|29.2|\n",
    "|**2**|Waseda University|28.6|\n",
    "|**3**|Kyushu University|25.6|\n",
    "|**4**|Hitotsubashi University|22.4|\n",
    "|**5**|University of Tsukuba|21.2|\n",
    "|**6**|Kyoto University|20.8|\n",
    "|**7**|Nagoya University|19.1|\n",
    "|**8**|Hokkaido University|14.4|\n",
    "|**9**|Tohoku University|13.8|"
   ]
  },
  {
   "cell_type": "code",
   "execution_count": 94,
   "id": "5dff8ddf",
   "metadata": {
    "execution": {
     "iopub.execute_input": "2024-04-24T14:34:34.428197Z",
     "iopub.status.busy": "2024-04-24T14:34:34.428197Z",
     "iopub.status.idle": "2024-04-24T14:34:34.440808Z",
     "shell.execute_reply": "2024-04-24T14:34:34.439799Z"
    },
    "tags": []
   },
   "outputs": [
    {
     "data": {
      "text/html": [
       "<div>\n",
       "<style scoped>\n",
       "    .dataframe tbody tr th:only-of-type {\n",
       "        vertical-align: middle;\n",
       "    }\n",
       "\n",
       "    .dataframe tbody tr th {\n",
       "        vertical-align: top;\n",
       "    }\n",
       "\n",
       "    .dataframe thead th {\n",
       "        text-align: right;\n",
       "    }\n",
       "</style>\n",
       "<table border=\"1\" class=\"dataframe\">\n",
       "  <thead>\n",
       "    <tr style=\"text-align: right;\">\n",
       "      <th></th>\n",
       "      <th>Institution Name</th>\n",
       "      <th>International Students</th>\n",
       "    </tr>\n",
       "  </thead>\n",
       "  <tbody>\n",
       "    <tr>\n",
       "      <th>0</th>\n",
       "      <td>Tokyo Institute of Technology (Tokyo Tech)</td>\n",
       "      <td>31.7</td>\n",
       "    </tr>\n",
       "    <tr>\n",
       "      <th>1</th>\n",
       "      <td>The University of Tokyo</td>\n",
       "      <td>29.2</td>\n",
       "    </tr>\n",
       "    <tr>\n",
       "      <th>2</th>\n",
       "      <td>Waseda University</td>\n",
       "      <td>28.6</td>\n",
       "    </tr>\n",
       "    <tr>\n",
       "      <th>3</th>\n",
       "      <td>Kyushu University</td>\n",
       "      <td>25.6</td>\n",
       "    </tr>\n",
       "    <tr>\n",
       "      <th>4</th>\n",
       "      <td>Hitotsubashi University</td>\n",
       "      <td>22.4</td>\n",
       "    </tr>\n",
       "    <tr>\n",
       "      <th>5</th>\n",
       "      <td>University of Tsukuba</td>\n",
       "      <td>21.2</td>\n",
       "    </tr>\n",
       "    <tr>\n",
       "      <th>6</th>\n",
       "      <td>Kyoto University</td>\n",
       "      <td>20.8</td>\n",
       "    </tr>\n",
       "    <tr>\n",
       "      <th>7</th>\n",
       "      <td>Nagoya University</td>\n",
       "      <td>19.1</td>\n",
       "    </tr>\n",
       "    <tr>\n",
       "      <th>8</th>\n",
       "      <td>Hokkaido University</td>\n",
       "      <td>14.4</td>\n",
       "    </tr>\n",
       "    <tr>\n",
       "      <th>9</th>\n",
       "      <td>Tohoku University</td>\n",
       "      <td>13.8</td>\n",
       "    </tr>\n",
       "  </tbody>\n",
       "</table>\n",
       "</div>"
      ],
      "text/plain": [
       "                             Institution Name  International Students\n",
       "0  Tokyo Institute of Technology (Tokyo Tech)                    31.7\n",
       "1                     The University of Tokyo                    29.2\n",
       "2                           Waseda University                    28.6\n",
       "3                           Kyushu University                    25.6\n",
       "4                     Hitotsubashi University                    22.4\n",
       "5                       University of Tsukuba                    21.2\n",
       "6                            Kyoto University                    20.8\n",
       "7                           Nagoya University                    19.1\n",
       "8                         Hokkaido University                    14.4\n",
       "9                           Tohoku University                    13.8"
      ]
     },
     "execution_count": 94,
     "metadata": {},
     "output_type": "execute_result"
    }
   ],
   "source": [
    "# compute and store the answer in the variable 'japan_top_10_inter', then display it\n",
    "\n",
    "# SQL query to find the top 10 Japanese institutions by International Students score in 2024\n",
    "query = \"\"\"\n",
    "SELECT `Institution Name`, `International Students`\n",
    "FROM rankings\n",
    "WHERE `Country` = 'Japan' AND `Year` = 2024\n",
    "ORDER BY `International Students` DESC\n",
    "LIMIT 10\n",
    "\"\"\"\n",
    "\n",
    "# Execute the query and store the result in a DataFrame\n",
    "japan_top_10_inter = pd.read_sql(query, conn)\n",
    "\n",
    "# Display the DataFrame\n",
    "japan_top_10_inter\n"
   ]
  },
  {
   "cell_type": "code",
   "execution_count": 95,
   "id": "11841227",
   "metadata": {
    "deletable": false,
    "editable": false
   },
   "outputs": [
    {
     "data": {
      "text/html": [
       "<p><strong><pre style='display: inline;'>q2</pre></strong> passed! 🍀</p><p><strong><pre style='display: inline;'>q2 - 2</pre> message:</strong> Note that the Gradescope autograder will deduct points if your code fails the following rubric point - 'did not use SQL to answer (-2)'.The public tests cannot determine if your code satisfies these requirements. Verify your code manually.</p><p><strong><pre style='display: inline;'>q2 - 3</pre> message:</strong> Note that the Gradescope autograder will deduct points if your code fails the following rubric point - 'incorrect logic is used to answer (-2)'.The public tests cannot determine if your code satisfies these requirements. Verify your code manually.</p>"
      ],
      "text/plain": [
       "q2 results: All test cases passed!\n",
       "q2 - 2 message: Note that the Gradescope autograder will deduct points if your code fails the following rubric point - 'did not use SQL to answer (-2)'.The public tests cannot determine if your code satisfies these requirements. Verify your code manually.\n",
       "q2 - 3 message: Note that the Gradescope autograder will deduct points if your code fails the following rubric point - 'incorrect logic is used to answer (-2)'.The public tests cannot determine if your code satisfies these requirements. Verify your code manually."
      ]
     },
     "execution_count": 95,
     "metadata": {},
     "output_type": "execute_result"
    }
   ],
   "source": [
    "grader.check(\"q2\")"
   ]
  },
  {
   "cell_type": "markdown",
   "id": "a32f7b29",
   "metadata": {
    "deletable": false,
    "editable": false
   },
   "source": [
    "**Question 3:** What are the **top** *10* institutions in the *United States* which had the **highest** *reputation* in the `Year` *2023*?\n",
    "\n",
    "The `Reputation` of an institution is defined as the sum of `Academic Reputation` and `Employer Reputation`. You **must** display the columns `Institution Name` and `Reputation`. The rows **must** be in *descending* order of `Reputation`. In case the `reputation` is tied, the rows must be in *alphabetical* order of `Institution Name`.\n",
    "\n",
    "Your output **must** be a **DataFrame** that looks like this:\n",
    "\n",
    "||**Institution Name**|**Reputation**|\n",
    "|---|---|---|\n",
    "|**0**|Harvard University|200.0|\n",
    "|**1**|Massachusetts Institute of Technology (MIT) |200.0|\n",
    "|**2**|Stanford University|200.0|\n",
    "|**3**|University of California, Berkeley (UCB)|200.0|\n",
    "|**4**|University of California, Los Angeles (UCLA)|199.9|\n",
    "|**5**|Yale University|199.9|\n",
    "|**6**|Princeton University|198.8|\n",
    "|**7**|Columbia University|197.8|\n",
    "|**8**|New York University (NYU)|194.9|\n",
    "|**9**|University of Chicago|191.4|\n",
    "\n",
    "**Hint:** You can use mathematical expressions in your **SELECT** clause. For example, if you wish to add the `Academic Reputation` and `Employer Reputation` for each institution, you could use the following query:\n",
    "\n",
    "```sql\n",
    "SELECT (`Academic Reputation` + `Employer Reputation`) FROM rankings\n",
    "```"
   ]
  },
  {
   "cell_type": "code",
   "execution_count": 97,
   "id": "65dce186",
   "metadata": {
    "execution": {
     "iopub.execute_input": "2024-04-24T14:34:34.890791Z",
     "iopub.status.busy": "2024-04-24T14:34:34.890791Z",
     "iopub.status.idle": "2024-04-24T14:34:34.903204Z",
     "shell.execute_reply": "2024-04-24T14:34:34.902191Z"
    },
    "tags": []
   },
   "outputs": [
    {
     "data": {
      "text/html": [
       "<div>\n",
       "<style scoped>\n",
       "    .dataframe tbody tr th:only-of-type {\n",
       "        vertical-align: middle;\n",
       "    }\n",
       "\n",
       "    .dataframe tbody tr th {\n",
       "        vertical-align: top;\n",
       "    }\n",
       "\n",
       "    .dataframe thead th {\n",
       "        text-align: right;\n",
       "    }\n",
       "</style>\n",
       "<table border=\"1\" class=\"dataframe\">\n",
       "  <thead>\n",
       "    <tr style=\"text-align: right;\">\n",
       "      <th></th>\n",
       "      <th>Institution Name</th>\n",
       "      <th>Reputation</th>\n",
       "    </tr>\n",
       "  </thead>\n",
       "  <tbody>\n",
       "    <tr>\n",
       "      <th>0</th>\n",
       "      <td>Harvard University</td>\n",
       "      <td>200.0</td>\n",
       "    </tr>\n",
       "    <tr>\n",
       "      <th>1</th>\n",
       "      <td>Massachusetts Institute of Technology (MIT)</td>\n",
       "      <td>200.0</td>\n",
       "    </tr>\n",
       "    <tr>\n",
       "      <th>2</th>\n",
       "      <td>Stanford University</td>\n",
       "      <td>200.0</td>\n",
       "    </tr>\n",
       "    <tr>\n",
       "      <th>3</th>\n",
       "      <td>University of California, Berkeley (UCB)</td>\n",
       "      <td>200.0</td>\n",
       "    </tr>\n",
       "    <tr>\n",
       "      <th>4</th>\n",
       "      <td>University of California, Los Angeles (UCLA)</td>\n",
       "      <td>199.9</td>\n",
       "    </tr>\n",
       "    <tr>\n",
       "      <th>5</th>\n",
       "      <td>Yale University</td>\n",
       "      <td>199.9</td>\n",
       "    </tr>\n",
       "    <tr>\n",
       "      <th>6</th>\n",
       "      <td>Princeton University</td>\n",
       "      <td>198.8</td>\n",
       "    </tr>\n",
       "    <tr>\n",
       "      <th>7</th>\n",
       "      <td>Columbia University</td>\n",
       "      <td>197.8</td>\n",
       "    </tr>\n",
       "    <tr>\n",
       "      <th>8</th>\n",
       "      <td>New York University (NYU)</td>\n",
       "      <td>194.9</td>\n",
       "    </tr>\n",
       "    <tr>\n",
       "      <th>9</th>\n",
       "      <td>University of Chicago</td>\n",
       "      <td>191.4</td>\n",
       "    </tr>\n",
       "  </tbody>\n",
       "</table>\n",
       "</div>"
      ],
      "text/plain": [
       "                               Institution Name  Reputation\n",
       "0                            Harvard University       200.0\n",
       "1  Massachusetts Institute of Technology (MIT)        200.0\n",
       "2                           Stanford University       200.0\n",
       "3      University of California, Berkeley (UCB)       200.0\n",
       "4  University of California, Los Angeles (UCLA)       199.9\n",
       "5                               Yale University       199.9\n",
       "6                          Princeton University       198.8\n",
       "7                           Columbia University       197.8\n",
       "8                     New York University (NYU)       194.9\n",
       "9                         University of Chicago       191.4"
      ]
     },
     "execution_count": 97,
     "metadata": {},
     "output_type": "execute_result"
    }
   ],
   "source": [
    "# compute and store the answer in the variable 'us_top_10_rep', then display it\n",
    "\n",
    "# SQL query to find the top 10 U.S. institutions by reputation in 2023\n",
    "query = \"\"\"\n",
    "SELECT `Institution Name`, (`Academic Reputation` + `Employer Reputation`) AS Reputation\n",
    "FROM rankings\n",
    "WHERE `Country` = 'United States' AND `Year` = 2023\n",
    "ORDER BY Reputation DESC, `Institution Name` ASC\n",
    "LIMIT 10\n",
    "\"\"\"\n",
    "\n",
    "# Execute the query and store the result in a DataFrame\n",
    "us_top_10_rep = pd.read_sql(query, conn)\n",
    "\n",
    "# Display the DataFrame\n",
    "us_top_10_rep\n"
   ]
  },
  {
   "cell_type": "code",
   "execution_count": 98,
   "id": "0c9e2150",
   "metadata": {
    "deletable": false,
    "editable": false
   },
   "outputs": [
    {
     "data": {
      "text/html": [
       "<p><strong><pre style='display: inline;'>q3</pre></strong> passed! 🚀</p><p><strong><pre style='display: inline;'>q3 - 2</pre> message:</strong> Note that the Gradescope autograder will deduct points if your code fails the following rubric point - 'did not use SQL to answer (-2)'.The public tests cannot determine if your code satisfies these requirements. Verify your code manually.</p><p><strong><pre style='display: inline;'>q3 - 3</pre> message:</strong> Note that the Gradescope autograder will deduct points if your code fails the following rubric point - 'incorrect logic is used to answer (-2)'.The public tests cannot determine if your code satisfies these requirements. Verify your code manually.</p>"
      ],
      "text/plain": [
       "q3 results: All test cases passed!\n",
       "q3 - 2 message: Note that the Gradescope autograder will deduct points if your code fails the following rubric point - 'did not use SQL to answer (-2)'.The public tests cannot determine if your code satisfies these requirements. Verify your code manually.\n",
       "q3 - 3 message: Note that the Gradescope autograder will deduct points if your code fails the following rubric point - 'incorrect logic is used to answer (-2)'.The public tests cannot determine if your code satisfies these requirements. Verify your code manually."
      ]
     },
     "execution_count": 98,
     "metadata": {},
     "output_type": "execute_result"
    }
   ],
   "source": [
    "grader.check(\"q3\")"
   ]
  },
  {
   "cell_type": "markdown",
   "id": "fb2d82c7",
   "metadata": {
    "deletable": false,
    "editable": false
   },
   "source": [
    "**Question 4:** What are the **top** *10* countries which had the **most** *institutions* listed in the `year` *2022*?\n",
    "\n",
    "You **must** display the columns `Country` and `Number of Institutions`. The `Number of Institutions` of a country is defined as the number of institutions from that country. The rows **must** be in *descending* order of `Number of Institutions`. In case the `Number of Institutions` is tied, the rows must be in *alphabetical* order of `Country`.\n",
    "\n",
    "**Hint:** You **must** use the `COUNT` SQL function to answer this question.\n",
    "\n",
    "Your output **must** be a **DataFrame** that looks like this:\n",
    "\n",
    "||**Country**|**Number of Institutions**|\n",
    "|---|---|---|\n",
    "|**0**|United States|87|\n",
    "|**1**|United Kingdom|49|\n",
    "|**2**|Germany|31|\n",
    "|**3**|Australia|26|\n",
    "|**4**|China (Mainland)|26|\n",
    "|**5**|Russia|17|\n",
    "|**6**|Canada|16|\n",
    "|**7**|Japan|16|\n",
    "|**8**|South Korea|16|\n",
    "|**9**|Italy|14|"
   ]
  },
  {
   "cell_type": "code",
   "execution_count": 99,
   "id": "e6446be7",
   "metadata": {
    "execution": {
     "iopub.execute_input": "2024-04-24T14:34:35.332852Z",
     "iopub.status.busy": "2024-04-24T14:34:35.332852Z",
     "iopub.status.idle": "2024-04-24T14:34:35.344880Z",
     "shell.execute_reply": "2024-04-24T14:34:35.343870Z"
    },
    "tags": []
   },
   "outputs": [
    {
     "data": {
      "text/html": [
       "<div>\n",
       "<style scoped>\n",
       "    .dataframe tbody tr th:only-of-type {\n",
       "        vertical-align: middle;\n",
       "    }\n",
       "\n",
       "    .dataframe tbody tr th {\n",
       "        vertical-align: top;\n",
       "    }\n",
       "\n",
       "    .dataframe thead th {\n",
       "        text-align: right;\n",
       "    }\n",
       "</style>\n",
       "<table border=\"1\" class=\"dataframe\">\n",
       "  <thead>\n",
       "    <tr style=\"text-align: right;\">\n",
       "      <th></th>\n",
       "      <th>Country</th>\n",
       "      <th>Number of Institutions</th>\n",
       "    </tr>\n",
       "  </thead>\n",
       "  <tbody>\n",
       "    <tr>\n",
       "      <th>0</th>\n",
       "      <td>United States</td>\n",
       "      <td>87</td>\n",
       "    </tr>\n",
       "    <tr>\n",
       "      <th>1</th>\n",
       "      <td>United Kingdom</td>\n",
       "      <td>49</td>\n",
       "    </tr>\n",
       "    <tr>\n",
       "      <th>2</th>\n",
       "      <td>Germany</td>\n",
       "      <td>31</td>\n",
       "    </tr>\n",
       "    <tr>\n",
       "      <th>3</th>\n",
       "      <td>Australia</td>\n",
       "      <td>26</td>\n",
       "    </tr>\n",
       "    <tr>\n",
       "      <th>4</th>\n",
       "      <td>China (Mainland)</td>\n",
       "      <td>26</td>\n",
       "    </tr>\n",
       "    <tr>\n",
       "      <th>5</th>\n",
       "      <td>Russia</td>\n",
       "      <td>17</td>\n",
       "    </tr>\n",
       "    <tr>\n",
       "      <th>6</th>\n",
       "      <td>Canada</td>\n",
       "      <td>16</td>\n",
       "    </tr>\n",
       "    <tr>\n",
       "      <th>7</th>\n",
       "      <td>Japan</td>\n",
       "      <td>16</td>\n",
       "    </tr>\n",
       "    <tr>\n",
       "      <th>8</th>\n",
       "      <td>South Korea</td>\n",
       "      <td>16</td>\n",
       "    </tr>\n",
       "    <tr>\n",
       "      <th>9</th>\n",
       "      <td>Italy</td>\n",
       "      <td>14</td>\n",
       "    </tr>\n",
       "  </tbody>\n",
       "</table>\n",
       "</div>"
      ],
      "text/plain": [
       "            Country  Number of Institutions\n",
       "0     United States                      87\n",
       "1    United Kingdom                      49\n",
       "2           Germany                      31\n",
       "3         Australia                      26\n",
       "4  China (Mainland)                      26\n",
       "5            Russia                      17\n",
       "6            Canada                      16\n",
       "7             Japan                      16\n",
       "8       South Korea                      16\n",
       "9             Italy                      14"
      ]
     },
     "execution_count": 99,
     "metadata": {},
     "output_type": "execute_result"
    }
   ],
   "source": [
    "# compute and store the answer in the variable 'top_10_countries', then display it\n",
    "query = \"\"\"\n",
    "SELECT Country, COUNT(`Institution Name`) AS `Number of Institutions`\n",
    "FROM rankings\n",
    "WHERE Year = 2022\n",
    "GROUP BY Country\n",
    "ORDER BY `Number of Institutions` DESC, Country ASC\n",
    "LIMIT 10\n",
    "\"\"\"\n",
    "\n",
    "# Execute the query and store the result in a DataFrame\n",
    "top_10_countries = pd.read_sql(query, conn)\n",
    "\n",
    "# Display the DataFrame\n",
    "top_10_countries\n"
   ]
  },
  {
   "cell_type": "code",
   "execution_count": 100,
   "id": "c797b8d6",
   "metadata": {
    "deletable": false,
    "editable": false
   },
   "outputs": [
    {
     "data": {
      "text/html": [
       "<p><strong><pre style='display: inline;'>q4</pre></strong> passed! 💯</p><p><strong><pre style='display: inline;'>q4 - 2</pre> message:</strong> Note that the Gradescope autograder will deduct points if your code fails the following rubric point - 'did not use SQL to answer (-2)'.The public tests cannot determine if your code satisfies these requirements. Verify your code manually.</p><p><strong><pre style='display: inline;'>q4 - 3</pre> message:</strong> Note that the Gradescope autograder will deduct points if your code fails the following rubric point - 'incorrect logic is used to answer (-2)'.The public tests cannot determine if your code satisfies these requirements. Verify your code manually.</p>"
      ],
      "text/plain": [
       "q4 results: All test cases passed!\n",
       "q4 - 2 message: Note that the Gradescope autograder will deduct points if your code fails the following rubric point - 'did not use SQL to answer (-2)'.The public tests cannot determine if your code satisfies these requirements. Verify your code manually.\n",
       "q4 - 3 message: Note that the Gradescope autograder will deduct points if your code fails the following rubric point - 'incorrect logic is used to answer (-2)'.The public tests cannot determine if your code satisfies these requirements. Verify your code manually."
      ]
     },
     "execution_count": 100,
     "metadata": {},
     "output_type": "execute_result"
    }
   ],
   "source": [
    "grader.check(\"q4\")"
   ]
  },
  {
   "cell_type": "markdown",
   "id": "d5f22258",
   "metadata": {
    "deletable": false,
    "editable": false
   },
   "source": [
    "**Question 5:** Create a **bar plot** using the data from Question 4 with the `Country` on the **x-axis** and the `Number of Institutions` on the **y-axis**.\n",
    "\n",
    "In addition to the top ten countries, you **must** also aggregate the data for **all** the **other** countries, and represent that number in the **row** `Other`. You are **allowed** to do this using any combination of  SQL queries and pandas operations.\n",
    "\n",
    "You **must** first compute a **DataFrame** `num_institutions` containing the **Country**, and the **Number of Institutions** data.\n",
    "\n",
    "Your output **must** be a **DataFrame** that looks like this:\n",
    "\n",
    "||**Country**|**Number of Institutions**|\n",
    "|---|---|---|\n",
    "|**0**|United States|87|\n",
    "|**1**|United Kingdom|49|\n",
    "|**2**|Germany|31|\n",
    "|**3**|Australia|26|\n",
    "|**4**|China (Mainland)|26|\n",
    "|**5**|Russia|17|\n",
    "|**6**|Canada|16|\n",
    "|**7**|Japan|16|\n",
    "|**8**|South Korea|16|\n",
    "|**9**|Italy|14|\n",
    "|**10**|Other|202|\n",
    "\n",
    "**Hint**: You can use the `concat` method of a DataFrame to add two DataFrames together. For example:\n",
    "\n",
    "```python\n",
    "my_new_dataframe = pd.concat([my_dataframe, new_dataframe])\n",
    "```\n",
    "will create a *new* **DataFrame** `my_new_dataframe` which contains all the rows from `my_dataframe` and `new_dataframe`. In order to use this method, you will first have to create a **new** DataFrame with the **same** columns as `top_10_countries`, but with only **one row** of data. The `Country` **must** be `Other`, and the `Number of Institutions` **must** be the aggregate sum of institutions from all other countries. You **must** then *concatenate* this DataFrame with `top_10_countries`."
   ]
  },
  {
   "cell_type": "code",
   "execution_count": 33,
   "id": "a50e6e39",
   "metadata": {
    "execution": {
     "iopub.execute_input": "2024-04-24T14:34:35.906475Z",
     "iopub.status.busy": "2024-04-24T14:34:35.906475Z",
     "iopub.status.idle": "2024-04-24T14:34:36.000483Z",
     "shell.execute_reply": "2024-04-24T14:34:35.999453Z"
    },
    "tags": []
   },
   "outputs": [
    {
     "data": {
      "text/html": [
       "<div>\n",
       "<style scoped>\n",
       "    .dataframe tbody tr th:only-of-type {\n",
       "        vertical-align: middle;\n",
       "    }\n",
       "\n",
       "    .dataframe tbody tr th {\n",
       "        vertical-align: top;\n",
       "    }\n",
       "\n",
       "    .dataframe thead th {\n",
       "        text-align: right;\n",
       "    }\n",
       "</style>\n",
       "<table border=\"1\" class=\"dataframe\">\n",
       "  <thead>\n",
       "    <tr style=\"text-align: right;\">\n",
       "      <th></th>\n",
       "      <th>Country</th>\n",
       "      <th>Number of Institutions</th>\n",
       "    </tr>\n",
       "  </thead>\n",
       "  <tbody>\n",
       "    <tr>\n",
       "      <th>0</th>\n",
       "      <td>United States</td>\n",
       "      <td>87</td>\n",
       "    </tr>\n",
       "    <tr>\n",
       "      <th>1</th>\n",
       "      <td>United Kingdom</td>\n",
       "      <td>49</td>\n",
       "    </tr>\n",
       "    <tr>\n",
       "      <th>2</th>\n",
       "      <td>Germany</td>\n",
       "      <td>31</td>\n",
       "    </tr>\n",
       "    <tr>\n",
       "      <th>3</th>\n",
       "      <td>Australia</td>\n",
       "      <td>26</td>\n",
       "    </tr>\n",
       "    <tr>\n",
       "      <th>4</th>\n",
       "      <td>China (Mainland)</td>\n",
       "      <td>26</td>\n",
       "    </tr>\n",
       "    <tr>\n",
       "      <th>5</th>\n",
       "      <td>Russia</td>\n",
       "      <td>17</td>\n",
       "    </tr>\n",
       "    <tr>\n",
       "      <th>6</th>\n",
       "      <td>Canada</td>\n",
       "      <td>16</td>\n",
       "    </tr>\n",
       "    <tr>\n",
       "      <th>7</th>\n",
       "      <td>Japan</td>\n",
       "      <td>16</td>\n",
       "    </tr>\n",
       "    <tr>\n",
       "      <th>8</th>\n",
       "      <td>South Korea</td>\n",
       "      <td>16</td>\n",
       "    </tr>\n",
       "    <tr>\n",
       "      <th>9</th>\n",
       "      <td>Italy</td>\n",
       "      <td>14</td>\n",
       "    </tr>\n",
       "    <tr>\n",
       "      <th>10</th>\n",
       "      <td>Other</td>\n",
       "      <td>202</td>\n",
       "    </tr>\n",
       "  </tbody>\n",
       "</table>\n",
       "</div>"
      ],
      "text/plain": [
       "             Country  Number of Institutions\n",
       "0      United States                      87\n",
       "1     United Kingdom                      49\n",
       "2            Germany                      31\n",
       "3          Australia                      26\n",
       "4   China (Mainland)                      26\n",
       "5             Russia                      17\n",
       "6             Canada                      16\n",
       "7              Japan                      16\n",
       "8        South Korea                      16\n",
       "9              Italy                      14\n",
       "10             Other                     202"
      ]
     },
     "execution_count": 33,
     "metadata": {},
     "output_type": "execute_result"
    }
   ],
   "source": [
    "query_all = \"\"\"\n",
    "SELECT Country, COUNT(`Institution Name`) AS `Number of Institutions`\n",
    "FROM rankings\n",
    "WHERE Year = 2022\n",
    "GROUP BY Country\n",
    "ORDER BY `Number of Institutions` DESC, Country ASC\n",
    "\"\"\"\n",
    "\n",
    "all_countries = pd.read_sql(query_all, conn)\n",
    "\n",
    "top_10_countries = all_countries.head(10)\n",
    "\n",
    "other_institutions_sum = all_countries.iloc[10:]['Number of Institutions'].sum()\n",
    "\n",
    "other_row = pd.DataFrame({\n",
    "    'Country': ['Other'],\n",
    "    'Number of Institutions': [other_institutions_sum]\n",
    "})\n",
    "\n",
    "num_institutions = pd.concat([top_10_countries, other_row], ignore_index=True)\n",
    "\n",
    "\n",
    "num_institutions\n"
   ]
  },
  {
   "cell_type": "markdown",
   "id": "026d1122",
   "metadata": {
    "deletable": false,
    "editable": false
   },
   "source": [
    "Now, **plot** `num_institutions` as **bar plot** with the **x-axis** labelled *Country* and the **y-axis** labelled *Number of Institutions*.\n",
    "\n",
    "You **must** use the `bar_plot` function to create the plot. Your plot should look like this:"
   ]
  },
  {
   "cell_type": "code",
   "execution_count": 34,
   "id": "71f45ff1",
   "metadata": {
    "execution": {
     "iopub.execute_input": "2024-04-24T14:34:36.004483Z",
     "iopub.status.busy": "2024-04-24T14:34:36.004483Z",
     "iopub.status.idle": "2024-04-24T14:34:36.348333Z",
     "shell.execute_reply": "2024-04-24T14:34:36.347316Z"
    },
    "tags": []
   },
   "outputs": [
    {
     "data": {
      "image/png": "[encoded data removed]",
      "text/plain": [
       "<Figure size 640x480 with 1 Axes>"
      ]
     },
     "metadata": {},
     "output_type": "display_data"
    }
   ],
   "source": [
    "# create the bar plot using the DataFrame 'num_institutions' with the x-axis labelled \"Country\" \n",
    "# and the y-axis labelled \"Number of Institutions\"\n",
    "bar_plot(num_institutions, 'Country', 'Number of Institutions')\n"
   ]
  },
  {
   "cell_type": "code",
   "execution_count": 35,
   "id": "45fdf279",
   "metadata": {
    "deletable": false,
    "editable": false
   },
   "outputs": [
    {
     "data": {
      "text/html": [
       "<p><strong><pre style='display: inline;'>q5</pre></strong> passed! 🌟</p><p><strong><pre style='display: inline;'>q5 - 2</pre> message:</strong> Note that the Gradescope autograder will deduct points if your code fails the following rubric point - 'incorrect logic is used to answer (-2)'.The public tests cannot determine if your code satisfies these requirements. Verify your code manually.</p><p><strong><pre style='display: inline;'>q5 - 3</pre> message:</strong> Note that the Gradescope autograder will deduct points if your code fails the following rubric point - '`bar_plot` function is not used to plot (-1)'.The public tests cannot determine if your code satisfies these requirements. Verify your code manually.</p><p><strong><pre style='display: inline;'>q5 - 4</pre> message:</strong> Note that the Gradescope autograder will deduct points if your code fails the following rubric point - 'plot is not properly labeled (-1)'.The public tests cannot determine if your code satisfies these requirements. Verify your code manually.</p>"
      ],
      "text/plain": [
       "q5 results: All test cases passed!\n",
       "q5 - 2 message: Note that the Gradescope autograder will deduct points if your code fails the following rubric point - 'incorrect logic is used to answer (-2)'.The public tests cannot determine if your code satisfies these requirements. Verify your code manually.\n",
       "q5 - 3 message: Note that the Gradescope autograder will deduct points if your code fails the following rubric point - '`bar_plot` function is not used to plot (-1)'.The public tests cannot determine if your code satisfies these requirements. Verify your code manually.\n",
       "q5 - 4 message: Note that the Gradescope autograder will deduct points if your code fails the following rubric point - 'plot is not properly labeled (-1)'.The public tests cannot determine if your code satisfies these requirements. Verify your code manually."
      ]
     },
     "execution_count": 35,
     "metadata": {},
     "output_type": "execute_result"
    }
   ],
   "source": [
    "grader.check(\"q5\")"
   ]
  },
  {
   "cell_type": "markdown",
   "id": "e5c8cd4b",
   "metadata": {
    "deletable": false,
    "editable": false
   },
   "source": [
    "**Question 6:** Create a **bar plot** of the **top** *10* countries with the **highest** *total* `Overall` listed in the `year` *2022*.\n",
    "\n",
    "The `Total Score` of a `Country` is defined as the **sum** of `Overall` of **all** institutions in that `Country`. You **must** display the columns `Country` and `Total Score`. The rows **must** be in *descending* order of `Total Score`.\n",
    "\n",
    "You **must** first compute a **DataFrame** `top_10_total_score` containing the **Country**, and the **Total Score** data.\n",
    "\n",
    "Your **DataFrame** should looks like this:\n",
    "\n",
    "||**Country**|**Total Score**|\n",
    "|---|---|---|\n",
    "|**0**|United States|4441.9|\n",
    "|**1**|United Kingdom|2543.8|\n",
    "|**2**|Australia|1243.3|\n",
    "|**3**|Germany|1235.3|\n",
    "|**4**|China (Mainland)|1138.5|\n",
    "|**5**|Japan|796.3|\n",
    "|**6**|Canada|785.6|\n",
    "|**7**|South Korea|739.1|\n",
    "|**8**|Netherlands|673.6|\n",
    "|**9**|Russia|582.6|"
   ]
  },
  {
   "cell_type": "code",
   "execution_count": 36,
   "id": "73f55d5c",
   "metadata": {
    "execution": {
     "iopub.execute_input": "2024-04-24T14:34:37.187593Z",
     "iopub.status.busy": "2024-04-24T14:34:37.187593Z",
     "iopub.status.idle": "2024-04-24T14:34:37.200706Z",
     "shell.execute_reply": "2024-04-24T14:34:37.199671Z"
    },
    "tags": []
   },
   "outputs": [
    {
     "data": {
      "text/html": [
       "<div>\n",
       "<style scoped>\n",
       "    .dataframe tbody tr th:only-of-type {\n",
       "        vertical-align: middle;\n",
       "    }\n",
       "\n",
       "    .dataframe tbody tr th {\n",
       "        vertical-align: top;\n",
       "    }\n",
       "\n",
       "    .dataframe thead th {\n",
       "        text-align: right;\n",
       "    }\n",
       "</style>\n",
       "<table border=\"1\" class=\"dataframe\">\n",
       "  <thead>\n",
       "    <tr style=\"text-align: right;\">\n",
       "      <th></th>\n",
       "      <th>Country</th>\n",
       "      <th>Total Score</th>\n",
       "    </tr>\n",
       "  </thead>\n",
       "  <tbody>\n",
       "    <tr>\n",
       "      <th>0</th>\n",
       "      <td>United States</td>\n",
       "      <td>4441.9</td>\n",
       "    </tr>\n",
       "    <tr>\n",
       "      <th>1</th>\n",
       "      <td>United Kingdom</td>\n",
       "      <td>2543.8</td>\n",
       "    </tr>\n",
       "    <tr>\n",
       "      <th>2</th>\n",
       "      <td>Australia</td>\n",
       "      <td>1243.3</td>\n",
       "    </tr>\n",
       "    <tr>\n",
       "      <th>3</th>\n",
       "      <td>Germany</td>\n",
       "      <td>1235.3</td>\n",
       "    </tr>\n",
       "    <tr>\n",
       "      <th>4</th>\n",
       "      <td>China (Mainland)</td>\n",
       "      <td>1138.5</td>\n",
       "    </tr>\n",
       "    <tr>\n",
       "      <th>5</th>\n",
       "      <td>Japan</td>\n",
       "      <td>796.3</td>\n",
       "    </tr>\n",
       "    <tr>\n",
       "      <th>6</th>\n",
       "      <td>Canada</td>\n",
       "      <td>785.6</td>\n",
       "    </tr>\n",
       "    <tr>\n",
       "      <th>7</th>\n",
       "      <td>South Korea</td>\n",
       "      <td>739.1</td>\n",
       "    </tr>\n",
       "    <tr>\n",
       "      <th>8</th>\n",
       "      <td>Netherlands</td>\n",
       "      <td>673.6</td>\n",
       "    </tr>\n",
       "    <tr>\n",
       "      <th>9</th>\n",
       "      <td>Russia</td>\n",
       "      <td>582.6</td>\n",
       "    </tr>\n",
       "  </tbody>\n",
       "</table>\n",
       "</div>"
      ],
      "text/plain": [
       "            Country  Total Score\n",
       "0     United States       4441.9\n",
       "1    United Kingdom       2543.8\n",
       "2         Australia       1243.3\n",
       "3           Germany       1235.3\n",
       "4  China (Mainland)       1138.5\n",
       "5             Japan        796.3\n",
       "6            Canada        785.6\n",
       "7       South Korea        739.1\n",
       "8       Netherlands        673.6\n",
       "9            Russia        582.6"
      ]
     },
     "execution_count": 36,
     "metadata": {},
     "output_type": "execute_result"
    }
   ],
   "source": [
    "conn = sqlite3.connect('rankings.db')\n",
    "\n",
    "# SQL query to calculate the total Overall score for each country in 2022\n",
    "query = \"\"\"\n",
    "SELECT Country, SUM(Overall) AS `Total Score`\n",
    "FROM rankings\n",
    "WHERE Year = 2022\n",
    "GROUP BY Country\n",
    "ORDER BY `Total Score` DESC\n",
    "LIMIT 10\n",
    "\"\"\"\n",
    "\n",
    "top_10_total_score = pd.read_sql(query, conn)\n",
    "top_10_total_score\n"
   ]
  },
  {
   "cell_type": "markdown",
   "id": "51185aa2",
   "metadata": {
    "deletable": false,
    "editable": false
   },
   "source": [
    "Now, **plot** `top_10_total_score` as **bar plot** with the **x-axis** labelled *Country* and the **y-axis** labelled *Total Score*.\n",
    "\n",
    "You **must** use the `bar_plot` function to create the plot. Your plot should look like this:"
   ]
  },
  {
   "cell_type": "code",
   "execution_count": 37,
   "id": "a92c3a75",
   "metadata": {
    "execution": {
     "iopub.execute_input": "2024-04-24T14:34:37.204701Z",
     "iopub.status.busy": "2024-04-24T14:34:37.204701Z",
     "iopub.status.idle": "2024-04-24T14:34:37.441980Z",
     "shell.execute_reply": "2024-04-24T14:34:37.440963Z"
    },
    "tags": []
   },
   "outputs": [
    {
     "data": {
      "image/png": "[encoded data removed]",
      "text/plain": [
       "<Figure size 640x480 with 1 Axes>"
      ]
     },
     "metadata": {},
     "output_type": "display_data"
    }
   ],
   "source": [
    "# create the bar plot using the DataFrame 'top_10_total_score' with the x-axis labelled \"Country\" \n",
    "# and the y-axis labelled \"Total Score\"\n",
    "bar_plot(top_10_total_score, 'Country', 'Total Score')\n"
   ]
  },
  {
   "cell_type": "code",
   "execution_count": 38,
   "id": "81ddfd4f",
   "metadata": {
    "deletable": false,
    "editable": false
   },
   "outputs": [
    {
     "data": {
      "text/html": [
       "<p><strong><pre style='display: inline;'>q6</pre></strong> passed! 🚀</p><p><strong><pre style='display: inline;'>q6 - 2</pre> message:</strong> Note that the Gradescope autograder will deduct points if your code fails the following rubric point - 'did not use SQL to answer (-2)'.The public tests cannot determine if your code satisfies these requirements. Verify your code manually.</p><p><strong><pre style='display: inline;'>q6 - 3</pre> message:</strong> Note that the Gradescope autograder will deduct points if your code fails the following rubric point - 'incorrect logic is used to answer (-2)'.The public tests cannot determine if your code satisfies these requirements. Verify your code manually.</p><p><strong><pre style='display: inline;'>q6 - 4</pre> message:</strong> Note that the Gradescope autograder will deduct points if your code fails the following rubric point - '`bar_plot` function is not used to plot (-1)'.The public tests cannot determine if your code satisfies these requirements. Verify your code manually.</p><p><strong><pre style='display: inline;'>q6 - 5</pre> message:</strong> Note that the Gradescope autograder will deduct points if your code fails the following rubric point - 'plot is not properly labeled (-1)'.The public tests cannot determine if your code satisfies these requirements. Verify your code manually.</p>"
      ],
      "text/plain": [
       "q6 results: All test cases passed!\n",
       "q6 - 2 message: Note that the Gradescope autograder will deduct points if your code fails the following rubric point - 'did not use SQL to answer (-2)'.The public tests cannot determine if your code satisfies these requirements. Verify your code manually.\n",
       "q6 - 3 message: Note that the Gradescope autograder will deduct points if your code fails the following rubric point - 'incorrect logic is used to answer (-2)'.The public tests cannot determine if your code satisfies these requirements. Verify your code manually.\n",
       "q6 - 4 message: Note that the Gradescope autograder will deduct points if your code fails the following rubric point - '`bar_plot` function is not used to plot (-1)'.The public tests cannot determine if your code satisfies these requirements. Verify your code manually.\n",
       "q6 - 5 message: Note that the Gradescope autograder will deduct points if your code fails the following rubric point - 'plot is not properly labeled (-1)'.The public tests cannot determine if your code satisfies these requirements. Verify your code manually."
      ]
     },
     "execution_count": 38,
     "metadata": {},
     "output_type": "execute_result"
    }
   ],
   "source": [
    "grader.check(\"q6\")"
   ]
  },
  {
   "cell_type": "markdown",
   "id": "de1479dc",
   "metadata": {
    "deletable": false,
    "editable": false
   },
   "source": [
    "**Question 7:** What are the **top** *10* institutions in the *United States* which had the **highest** *International Score* in the `year` *2024*?\n",
    "\n",
    "The *International Score* of an institution is defined as the **sum** of `International Faculty` and `International Students` scores of that institution. You **must** display the columns `Institution Name` and `International Score`. The rows **must** be in *descending* order of `International Score`.\n",
    "\n",
    "Your output **must** be a **DataFrame** that looks like this:\n",
    "\n",
    "||**Institution Name**|**International Score**|\n",
    "|---|---|---|\n",
    "|**0**|Massachusetts Institute of Technology (MIT) |188.2|\n",
    "|**1**|Rice University|185.8|\n",
    "|**2**|California Institute of Technology (Caltech)|181.0|\n",
    "|**3**|Yale University|168.6|\n",
    "|**4**|University of Pennsylvania|166.3|\n",
    "|**5**|University of Chicago|165.6|\n",
    "|**6**|University of Rochester|163.1|\n",
    "|**7**|University of California, Berkeley (UCB)|156.1|\n",
    "|**8**|Johns Hopkins University|155.8|\n",
    "|**9**|Northeastern University|154.5|"
   ]
  },
  {
   "cell_type": "code",
   "execution_count": 39,
   "id": "e8e84295",
   "metadata": {
    "execution": {
     "iopub.execute_input": "2024-04-24T14:34:38.274373Z",
     "iopub.status.busy": "2024-04-24T14:34:38.273372Z",
     "iopub.status.idle": "2024-04-24T14:34:38.286563Z",
     "shell.execute_reply": "2024-04-24T14:34:38.285532Z"
    },
    "tags": []
   },
   "outputs": [
    {
     "data": {
      "text/html": [
       "<div>\n",
       "<style scoped>\n",
       "    .dataframe tbody tr th:only-of-type {\n",
       "        vertical-align: middle;\n",
       "    }\n",
       "\n",
       "    .dataframe tbody tr th {\n",
       "        vertical-align: top;\n",
       "    }\n",
       "\n",
       "    .dataframe thead th {\n",
       "        text-align: right;\n",
       "    }\n",
       "</style>\n",
       "<table border=\"1\" class=\"dataframe\">\n",
       "  <thead>\n",
       "    <tr style=\"text-align: right;\">\n",
       "      <th></th>\n",
       "      <th>Institution Name</th>\n",
       "      <th>International Score</th>\n",
       "    </tr>\n",
       "  </thead>\n",
       "  <tbody>\n",
       "    <tr>\n",
       "      <th>0</th>\n",
       "      <td>Massachusetts Institute of Technology (MIT)</td>\n",
       "      <td>188.2</td>\n",
       "    </tr>\n",
       "    <tr>\n",
       "      <th>1</th>\n",
       "      <td>Rice University</td>\n",
       "      <td>185.8</td>\n",
       "    </tr>\n",
       "    <tr>\n",
       "      <th>2</th>\n",
       "      <td>California Institute of Technology (Caltech)</td>\n",
       "      <td>181.0</td>\n",
       "    </tr>\n",
       "    <tr>\n",
       "      <th>3</th>\n",
       "      <td>Yale University</td>\n",
       "      <td>168.6</td>\n",
       "    </tr>\n",
       "    <tr>\n",
       "      <th>4</th>\n",
       "      <td>University of Pennsylvania</td>\n",
       "      <td>166.3</td>\n",
       "    </tr>\n",
       "    <tr>\n",
       "      <th>5</th>\n",
       "      <td>University of Chicago</td>\n",
       "      <td>165.6</td>\n",
       "    </tr>\n",
       "    <tr>\n",
       "      <th>6</th>\n",
       "      <td>University of Rochester</td>\n",
       "      <td>163.1</td>\n",
       "    </tr>\n",
       "    <tr>\n",
       "      <th>7</th>\n",
       "      <td>University of California, Berkeley (UCB)</td>\n",
       "      <td>156.1</td>\n",
       "    </tr>\n",
       "    <tr>\n",
       "      <th>8</th>\n",
       "      <td>Johns Hopkins University</td>\n",
       "      <td>155.8</td>\n",
       "    </tr>\n",
       "    <tr>\n",
       "      <th>9</th>\n",
       "      <td>Northeastern University</td>\n",
       "      <td>154.5</td>\n",
       "    </tr>\n",
       "  </tbody>\n",
       "</table>\n",
       "</div>"
      ],
      "text/plain": [
       "                               Institution Name  International Score\n",
       "0  Massachusetts Institute of Technology (MIT)                 188.2\n",
       "1                               Rice University                185.8\n",
       "2  California Institute of Technology (Caltech)                181.0\n",
       "3                               Yale University                168.6\n",
       "4                    University of Pennsylvania                166.3\n",
       "5                         University of Chicago                165.6\n",
       "6                       University of Rochester                163.1\n",
       "7      University of California, Berkeley (UCB)                156.1\n",
       "8                      Johns Hopkins University                155.8\n",
       "9                       Northeastern University                154.5"
      ]
     },
     "execution_count": 39,
     "metadata": {},
     "output_type": "execute_result"
    }
   ],
   "source": [
    "# compute and store the answer in the variable 'top_10_inter_score', then display it\n",
    "\n",
    "# SQL query to find the top 10 U.S. institutions by International Score in 2024\n",
    "query = \"\"\"\n",
    "SELECT `Institution Name`, \n",
    "       (`International Faculty` + `International Students`) AS `International Score`\n",
    "FROM rankings\n",
    "WHERE `Country` = 'United States' AND `Year` = 2024\n",
    "ORDER BY `International Score` DESC\n",
    "LIMIT 10\n",
    "\"\"\"\n",
    "\n",
    "# Execute the query and store the result in a DataFrame\n",
    "top_10_inter_score = pd.read_sql(query, conn)\n",
    "\n",
    "# Close the database connection\n",
    "\n",
    "# Display the DataFrame\n",
    "top_10_inter_score\n"
   ]
  },
  {
   "cell_type": "code",
   "execution_count": 40,
   "id": "9eaeef0f",
   "metadata": {
    "deletable": false,
    "editable": false
   },
   "outputs": [
    {
     "data": {
      "text/html": [
       "<p><strong><pre style='display: inline;'>q7</pre></strong> passed! 💯</p><p><strong><pre style='display: inline;'>q7 - 2</pre> message:</strong> Note that the Gradescope autograder will deduct points if your code fails the following rubric point - 'did not use SQL to answer (-2)'.The public tests cannot determine if your code satisfies these requirements. Verify your code manually.</p><p><strong><pre style='display: inline;'>q7 - 3</pre> message:</strong> Note that the Gradescope autograder will deduct points if your code fails the following rubric point - 'incorrect logic is used to answer (-2)'.The public tests cannot determine if your code satisfies these requirements. Verify your code manually.</p>"
      ],
      "text/plain": [
       "q7 results: All test cases passed!\n",
       "q7 - 2 message: Note that the Gradescope autograder will deduct points if your code fails the following rubric point - 'did not use SQL to answer (-2)'.The public tests cannot determine if your code satisfies these requirements. Verify your code manually.\n",
       "q7 - 3 message: Note that the Gradescope autograder will deduct points if your code fails the following rubric point - 'incorrect logic is used to answer (-2)'.The public tests cannot determine if your code satisfies these requirements. Verify your code manually."
      ]
     },
     "execution_count": 40,
     "metadata": {},
     "output_type": "execute_result"
    }
   ],
   "source": [
    "grader.check(\"q7\")"
   ]
  },
  {
   "cell_type": "markdown",
   "id": "71ad92ee",
   "metadata": {
    "deletable": false,
    "editable": false
   },
   "source": [
    "**Question 8:** Create a **scatter plot** representing the `Citations per Faculty` (on the **x-axis**) against the `Overall` (on the **y-axis**) of each institution in the `Year` *2024*.\n",
    "\n",
    "You **must** first compute a **DataFrame** `citations_overall` containing the **Citations per Faculty**, and the **Overall** data from the `Year` *2024*, of each **institution**."
   ]
  },
  {
   "cell_type": "code",
   "execution_count": 41,
   "id": "39556952",
   "metadata": {
    "execution": {
     "iopub.execute_input": "2024-04-24T14:34:38.713083Z",
     "iopub.status.busy": "2024-04-24T14:34:38.713083Z",
     "iopub.status.idle": "2024-04-24T14:34:38.725938Z",
     "shell.execute_reply": "2024-04-24T14:34:38.724907Z"
    },
    "tags": []
   },
   "outputs": [
    {
     "data": {
      "text/html": [
       "<div>\n",
       "<style scoped>\n",
       "    .dataframe tbody tr th:only-of-type {\n",
       "        vertical-align: middle;\n",
       "    }\n",
       "\n",
       "    .dataframe tbody tr th {\n",
       "        vertical-align: top;\n",
       "    }\n",
       "\n",
       "    .dataframe thead th {\n",
       "        text-align: right;\n",
       "    }\n",
       "</style>\n",
       "<table border=\"1\" class=\"dataframe\">\n",
       "  <thead>\n",
       "    <tr style=\"text-align: right;\">\n",
       "      <th></th>\n",
       "      <th>Institution Name</th>\n",
       "      <th>Citations per Faculty</th>\n",
       "      <th>Overall</th>\n",
       "    </tr>\n",
       "  </thead>\n",
       "  <tbody>\n",
       "    <tr>\n",
       "      <th>0</th>\n",
       "      <td>Massachusetts Institute of Technology (MIT)</td>\n",
       "      <td>100.0</td>\n",
       "      <td>100.0</td>\n",
       "    </tr>\n",
       "    <tr>\n",
       "      <th>1</th>\n",
       "      <td>University of Cambridge</td>\n",
       "      <td>92.3</td>\n",
       "      <td>99.2</td>\n",
       "    </tr>\n",
       "    <tr>\n",
       "      <th>2</th>\n",
       "      <td>University of Oxford</td>\n",
       "      <td>90.6</td>\n",
       "      <td>98.9</td>\n",
       "    </tr>\n",
       "    <tr>\n",
       "      <th>3</th>\n",
       "      <td>Harvard University</td>\n",
       "      <td>100.0</td>\n",
       "      <td>98.3</td>\n",
       "    </tr>\n",
       "    <tr>\n",
       "      <th>4</th>\n",
       "      <td>Stanford University</td>\n",
       "      <td>99.9</td>\n",
       "      <td>98.1</td>\n",
       "    </tr>\n",
       "  </tbody>\n",
       "</table>\n",
       "</div>"
      ],
      "text/plain": [
       "                               Institution Name  Citations per Faculty  \\\n",
       "0  Massachusetts Institute of Technology (MIT)                   100.0   \n",
       "1                       University of Cambridge                   92.3   \n",
       "2                          University of Oxford                   90.6   \n",
       "3                            Harvard University                  100.0   \n",
       "4                           Stanford University                   99.9   \n",
       "\n",
       "   Overall  \n",
       "0    100.0  \n",
       "1     99.2  \n",
       "2     98.9  \n",
       "3     98.3  \n",
       "4     98.1  "
      ]
     },
     "execution_count": 41,
     "metadata": {},
     "output_type": "execute_result"
    }
   ],
   "source": [
    "# first compute and store the DataFrame 'citations_overall', then display its head\n",
    "# do NOT plot just yet\n",
    "query = \"\"\"\n",
    "SELECT `Institution Name`, `Citations per Faculty`, `Overall`\n",
    "FROM rankings\n",
    "WHERE `Year` = 2024\n",
    "\"\"\"\n",
    "\n",
    "# Execute the query and store the result in a DataFrame\n",
    "citations_overall = pd.read_sql(query, conn)\n",
    "\n",
    "# Close the database connection\n",
    "\n",
    "# Display the head of the DataFrame to check the first few rows\n",
    "citations_overall.head()\n"
   ]
  },
  {
   "cell_type": "markdown",
   "id": "7e867525",
   "metadata": {
    "deletable": false,
    "editable": false
   },
   "source": [
    "Now, **plot** `citations_overall` as **scatter plot** with the **x-axis** labelled *Citations per Faculty* and the **y-axis** labelled *Overall*.\n",
    "\n",
    "You **must** use the `scatter_plot` function to create the plot. Your plot should look like this:"
   ]
  },
  {
   "cell_type": "code",
   "execution_count": 42,
   "id": "2b7897b3",
   "metadata": {
    "execution": {
     "iopub.execute_input": "2024-04-24T14:34:38.729939Z",
     "iopub.status.busy": "2024-04-24T14:34:38.729939Z",
     "iopub.status.idle": "2024-04-24T14:34:38.959067Z",
     "shell.execute_reply": "2024-04-24T14:34:38.958049Z"
    },
    "tags": []
   },
   "outputs": [
    {
     "data": {
      "image/png": "[encoded data removed]",
      "text/plain": [
       "<Figure size 640x480 with 1 Axes>"
      ]
     },
     "metadata": {},
     "output_type": "display_data"
    }
   ],
   "source": [
    "# create the scatter plot using the DataFrame 'citations_overall' with the x-axis labelled \"Citations per Faculty\" \n",
    "# and the y-axis labelled \"Overall\"\n",
    "scatter_plot(citations_overall, \"Citations per Faculty\", \"Overall\")"
   ]
  },
  {
   "cell_type": "code",
   "execution_count": 43,
   "id": "6f3291ce",
   "metadata": {
    "deletable": false,
    "editable": false
   },
   "outputs": [
    {
     "data": {
      "text/html": [
       "<p><strong><pre style='display: inline;'>q8</pre></strong> passed! 💯</p><p><strong><pre style='display: inline;'>q8 - 2</pre> message:</strong> Note that the Gradescope autograder will deduct points if your code fails the following rubric point - 'did not use SQL to answer (-2)'.The public tests cannot determine if your code satisfies these requirements. Verify your code manually.</p><p><strong><pre style='display: inline;'>q8 - 3</pre> message:</strong> Note that the Gradescope autograder will deduct points if your code fails the following rubric point - 'incorrect logic is used to answer (-2)'.The public tests cannot determine if your code satisfies these requirements. Verify your code manually.</p><p><strong><pre style='display: inline;'>q8 - 4</pre> message:</strong> Note that the Gradescope autograder will deduct points if your code fails the following rubric point - '`scatter_plot` function is not used to plot (-1)'.The public tests cannot determine if your code satisfies these requirements. Verify your code manually.</p><p><strong><pre style='display: inline;'>q8 - 5</pre> message:</strong> Note that the Gradescope autograder will deduct points if your code fails the following rubric point - 'plot is not properly labeled (-1)'.The public tests cannot determine if your code satisfies these requirements. Verify your code manually.</p>"
      ],
      "text/plain": [
       "q8 results: All test cases passed!\n",
       "q8 - 2 message: Note that the Gradescope autograder will deduct points if your code fails the following rubric point - 'did not use SQL to answer (-2)'.The public tests cannot determine if your code satisfies these requirements. Verify your code manually.\n",
       "q8 - 3 message: Note that the Gradescope autograder will deduct points if your code fails the following rubric point - 'incorrect logic is used to answer (-2)'.The public tests cannot determine if your code satisfies these requirements. Verify your code manually.\n",
       "q8 - 4 message: Note that the Gradescope autograder will deduct points if your code fails the following rubric point - '`scatter_plot` function is not used to plot (-1)'.The public tests cannot determine if your code satisfies these requirements. Verify your code manually.\n",
       "q8 - 5 message: Note that the Gradescope autograder will deduct points if your code fails the following rubric point - 'plot is not properly labeled (-1)'.The public tests cannot determine if your code satisfies these requirements. Verify your code manually."
      ]
     },
     "execution_count": 43,
     "metadata": {},
     "output_type": "execute_result"
    }
   ],
   "source": [
    "grader.check(\"q8\")"
   ]
  },
  {
   "cell_type": "markdown",
   "id": "4b64b888",
   "metadata": {
    "deletable": false,
    "editable": false
   },
   "source": [
    "**Question 9:** Create a **scatter plot** representing the `Academic Reputation` (on the **x-axis**) against the `Employer Reputation` (on the **y-axis**) of each institution from the *United States* in the `year` *2023*.\n",
    "\n",
    "You **must** first compute a **DataFrame** `reputations_usa` containing the **Academic Reputation**, and the **Employer Reputation** data from the `Year` *2023*, of each **institution** in the `Country` *United States*."
   ]
  },
  {
   "cell_type": "code",
   "execution_count": 44,
   "id": "0205db15",
   "metadata": {
    "execution": {
     "iopub.execute_input": "2024-04-24T14:34:40.377384Z",
     "iopub.status.busy": "2024-04-24T14:34:40.377384Z",
     "iopub.status.idle": "2024-04-24T14:34:40.389418Z",
     "shell.execute_reply": "2024-04-24T14:34:40.388386Z"
    },
    "tags": []
   },
   "outputs": [
    {
     "data": {
      "text/html": [
       "<div>\n",
       "<style scoped>\n",
       "    .dataframe tbody tr th:only-of-type {\n",
       "        vertical-align: middle;\n",
       "    }\n",
       "\n",
       "    .dataframe tbody tr th {\n",
       "        vertical-align: top;\n",
       "    }\n",
       "\n",
       "    .dataframe thead th {\n",
       "        text-align: right;\n",
       "    }\n",
       "</style>\n",
       "<table border=\"1\" class=\"dataframe\">\n",
       "  <thead>\n",
       "    <tr style=\"text-align: right;\">\n",
       "      <th></th>\n",
       "      <th>Institution Name</th>\n",
       "      <th>Academic Reputation</th>\n",
       "      <th>Employer Reputation</th>\n",
       "    </tr>\n",
       "  </thead>\n",
       "  <tbody>\n",
       "    <tr>\n",
       "      <th>0</th>\n",
       "      <td>Massachusetts Institute of Technology (MIT)</td>\n",
       "      <td>100.0</td>\n",
       "      <td>100.0</td>\n",
       "    </tr>\n",
       "    <tr>\n",
       "      <th>1</th>\n",
       "      <td>Stanford University</td>\n",
       "      <td>100.0</td>\n",
       "      <td>100.0</td>\n",
       "    </tr>\n",
       "    <tr>\n",
       "      <th>2</th>\n",
       "      <td>Harvard University</td>\n",
       "      <td>100.0</td>\n",
       "      <td>100.0</td>\n",
       "    </tr>\n",
       "    <tr>\n",
       "      <th>3</th>\n",
       "      <td>California Institute of Technology (Caltech)</td>\n",
       "      <td>96.5</td>\n",
       "      <td>87.1</td>\n",
       "    </tr>\n",
       "    <tr>\n",
       "      <th>4</th>\n",
       "      <td>University of Chicago</td>\n",
       "      <td>99.2</td>\n",
       "      <td>92.2</td>\n",
       "    </tr>\n",
       "  </tbody>\n",
       "</table>\n",
       "</div>"
      ],
      "text/plain": [
       "                               Institution Name  Academic Reputation  \\\n",
       "0  Massachusetts Institute of Technology (MIT)                 100.0   \n",
       "1                           Stanford University                100.0   \n",
       "2                            Harvard University                100.0   \n",
       "3  California Institute of Technology (Caltech)                 96.5   \n",
       "4                         University of Chicago                 99.2   \n",
       "\n",
       "   Employer Reputation  \n",
       "0                100.0  \n",
       "1                100.0  \n",
       "2                100.0  \n",
       "3                 87.1  \n",
       "4                 92.2  "
      ]
     },
     "execution_count": 44,
     "metadata": {},
     "output_type": "execute_result"
    }
   ],
   "source": [
    "query = \"\"\"\n",
    "SELECT `Institution Name`, `Academic Reputation`, `Employer Reputation`\n",
    "FROM rankings\n",
    "WHERE `Country` = 'United States' AND `Year` = 2023\n",
    "\"\"\"\n",
    "\n",
    "# Execute the query and store the result in a DataFrame\n",
    "reputations_usa = pd.read_sql(query, conn)\n",
    "\n",
    "\n",
    "\n",
    "# Display the head of the DataFrame to check the first few rows\n",
    "reputations_usa.head()\n"
   ]
  },
  {
   "cell_type": "markdown",
   "id": "7396270e",
   "metadata": {
    "deletable": false,
    "editable": false
   },
   "source": [
    "Now, **plot** `reputations_usa` as **scatter plot** with the **x-axis** labelled *Academic Reputation* and the **y-axis** labelled *Employer Reputation*.\n",
    "\n",
    "You **must** use the `scatter_plot` function to create the plot. Your plot should look like this:"
   ]
  },
  {
   "cell_type": "code",
   "execution_count": 45,
   "id": "75c882ba",
   "metadata": {
    "execution": {
     "iopub.execute_input": "2024-04-24T14:34:40.393417Z",
     "iopub.status.busy": "2024-04-24T14:34:40.393417Z",
     "iopub.status.idle": "2024-04-24T14:34:40.601264Z",
     "shell.execute_reply": "2024-04-24T14:34:40.600234Z"
    },
    "tags": []
   },
   "outputs": [
    {
     "data": {
      "image/png": "[encoded data removed]",
      "text/plain": [
       "<Figure size 640x480 with 1 Axes>"
      ]
     },
     "metadata": {},
     "output_type": "display_data"
    }
   ],
   "source": [
    "# create the scatter plot using the DataFrame 'reputations_usa' with the x-axis labelled \"Academic Reputation\" \n",
    "# and the y-axis labelled \"Employer Reputation\"\n",
    "scatter_plot(reputations_usa, \"Academic Reputation\", \"Employer Reputation\")"
   ]
  },
  {
   "cell_type": "code",
   "execution_count": 46,
   "id": "2e0c9849",
   "metadata": {
    "deletable": false,
    "editable": false
   },
   "outputs": [
    {
     "data": {
      "text/html": [
       "<p><strong><pre style='display: inline;'>q9</pre></strong> passed! 🍀</p><p><strong><pre style='display: inline;'>q9 - 2</pre> message:</strong> Note that the Gradescope autograder will deduct points if your code fails the following rubric point - 'did not use SQL to answer (-2)'.The public tests cannot determine if your code satisfies these requirements. Verify your code manually.</p><p><strong><pre style='display: inline;'>q9 - 3</pre> message:</strong> Note that the Gradescope autograder will deduct points if your code fails the following rubric point - 'incorrect logic is used to answer (-2)'.The public tests cannot determine if your code satisfies these requirements. Verify your code manually.</p><p><strong><pre style='display: inline;'>q9 - 4</pre> message:</strong> Note that the Gradescope autograder will deduct points if your code fails the following rubric point - '`scatter_plot` function is not used to plot (-1)'.The public tests cannot determine if your code satisfies these requirements. Verify your code manually.</p><p><strong><pre style='display: inline;'>q9 - 5</pre> message:</strong> Note that the Gradescope autograder will deduct points if your code fails the following rubric point - 'plot is not properly labeled (-1)'.The public tests cannot determine if your code satisfies these requirements. Verify your code manually.</p>"
      ],
      "text/plain": [
       "q9 results: All test cases passed!\n",
       "q9 - 2 message: Note that the Gradescope autograder will deduct points if your code fails the following rubric point - 'did not use SQL to answer (-2)'.The public tests cannot determine if your code satisfies these requirements. Verify your code manually.\n",
       "q9 - 3 message: Note that the Gradescope autograder will deduct points if your code fails the following rubric point - 'incorrect logic is used to answer (-2)'.The public tests cannot determine if your code satisfies these requirements. Verify your code manually.\n",
       "q9 - 4 message: Note that the Gradescope autograder will deduct points if your code fails the following rubric point - '`scatter_plot` function is not used to plot (-1)'.The public tests cannot determine if your code satisfies these requirements. Verify your code manually.\n",
       "q9 - 5 message: Note that the Gradescope autograder will deduct points if your code fails the following rubric point - 'plot is not properly labeled (-1)'.The public tests cannot determine if your code satisfies these requirements. Verify your code manually."
      ]
     },
     "execution_count": 46,
     "metadata": {},
     "output_type": "execute_result"
    }
   ],
   "source": [
    "grader.check(\"q9\")"
   ]
  },
  {
   "cell_type": "markdown",
   "id": "402d0e41",
   "metadata": {
    "deletable": false,
    "editable": false
   },
   "source": [
    "**Question 10:** Create a **scatter plot** representing the `International Students` (on the **x-axis**) against the `Faculty Student` (on the **y-axis**) for the **top ranked** institution of **each** `Country` in the `Year` *2023*.\n",
    "\n",
    "You **must** first compute a **DataFrame** `top_ranked_inter_faculty` containing the **International Students**, and the **Faculty Student** data from the `Year` *2023*, of the **top** ranked **institution** (i.e., the institution with the **least** `rank`) of each **country**.\n",
    "\n",
    "**Hint:** You can use the `MIN` SQL function to return the least value of a selected column. However, there are a few things to keep in mind while using this function.\n",
    "* The function must be in **uppercase** (i.e., you must use `MIN`, and **not** `min`).\n",
    "* The column you are finding the minimum of must be inside backticks (``` ` ```). For example, if you want to find the minimum `Rank`, you need to say ```MIN(`Rank`)```.\n",
    "\n",
    "If you do not follow the syntax above, your code will likely fail."
   ]
  },
  {
   "cell_type": "code",
   "execution_count": 47,
   "id": "e0785ff5",
   "metadata": {
    "execution": {
     "iopub.execute_input": "2024-04-24T14:34:41.508996Z",
     "iopub.status.busy": "2024-04-24T14:34:41.508996Z",
     "iopub.status.idle": "2024-04-24T14:34:41.521927Z",
     "shell.execute_reply": "2024-04-24T14:34:41.521927Z"
    },
    "tags": []
   },
   "outputs": [
    {
     "data": {
      "text/html": [
       "<div>\n",
       "<style scoped>\n",
       "    .dataframe tbody tr th:only-of-type {\n",
       "        vertical-align: middle;\n",
       "    }\n",
       "\n",
       "    .dataframe tbody tr th {\n",
       "        vertical-align: top;\n",
       "    }\n",
       "\n",
       "    .dataframe thead th {\n",
       "        text-align: right;\n",
       "    }\n",
       "</style>\n",
       "<table border=\"1\" class=\"dataframe\">\n",
       "  <thead>\n",
       "    <tr style=\"text-align: right;\">\n",
       "      <th></th>\n",
       "      <th>Country</th>\n",
       "      <th>Institution Name</th>\n",
       "      <th>International Students</th>\n",
       "      <th>Faculty Student</th>\n",
       "    </tr>\n",
       "  </thead>\n",
       "  <tbody>\n",
       "    <tr>\n",
       "      <th>0</th>\n",
       "      <td>United States</td>\n",
       "      <td>Massachusetts Institute of Technology (MIT)</td>\n",
       "      <td>90.0</td>\n",
       "      <td>100.0</td>\n",
       "    </tr>\n",
       "    <tr>\n",
       "      <th>1</th>\n",
       "      <td>United Kingdom</td>\n",
       "      <td>University of Cambridge</td>\n",
       "      <td>96.3</td>\n",
       "      <td>100.0</td>\n",
       "    </tr>\n",
       "    <tr>\n",
       "      <th>2</th>\n",
       "      <td>Switzerland</td>\n",
       "      <td>ETH Zurich - Swiss Federal Institute of Technology</td>\n",
       "      <td>98.0</td>\n",
       "      <td>74.2</td>\n",
       "    </tr>\n",
       "    <tr>\n",
       "      <th>3</th>\n",
       "      <td>Singapore</td>\n",
       "      <td>National University of Singapore (NUS)</td>\n",
       "      <td>73.5</td>\n",
       "      <td>79.8</td>\n",
       "    </tr>\n",
       "    <tr>\n",
       "      <th>4</th>\n",
       "      <td>China (Mainland)</td>\n",
       "      <td>Peking University</td>\n",
       "      <td>36.9</td>\n",
       "      <td>87.3</td>\n",
       "    </tr>\n",
       "  </tbody>\n",
       "</table>\n",
       "</div>"
      ],
      "text/plain": [
       "            Country                                    Institution Name  \\\n",
       "0     United States        Massachusetts Institute of Technology (MIT)    \n",
       "1    United Kingdom                             University of Cambridge   \n",
       "2       Switzerland  ETH Zurich - Swiss Federal Institute of Technology   \n",
       "3         Singapore              National University of Singapore (NUS)   \n",
       "4  China (Mainland)                                   Peking University   \n",
       "\n",
       "   International Students  Faculty Student  \n",
       "0                    90.0            100.0  \n",
       "1                    96.3            100.0  \n",
       "2                    98.0             74.2  \n",
       "3                    73.5             79.8  \n",
       "4                    36.9             87.3  "
      ]
     },
     "execution_count": 47,
     "metadata": {},
     "output_type": "execute_result"
    }
   ],
   "source": [
    "# first compute and store the DataFrame 'top_ranked_inter_faculty', then display its head\n",
    "# do NOT plot just yet\n",
    "query = \"\"\"\n",
    "SELECT r1.`Country`, r1.`Institution Name`, r1.`International Students`, r1.`Faculty Student`\n",
    "FROM rankings r1\n",
    "INNER JOIN (\n",
    "    SELECT `Country`, MIN(`Rank`) AS MinRank\n",
    "    FROM rankings\n",
    "    WHERE `Year` = 2023\n",
    "    GROUP BY `Country`\n",
    ") r2 ON r1.`Country` = r2.`Country` AND r1.`Rank` = r2.MinRank\n",
    "WHERE r1.`Year` = 2023\n",
    "\"\"\"\n",
    "\n",
    "# Execute the query and store the result in a DataFrame\n",
    "top_ranked_inter_faculty = pd.read_sql(query, conn)\n",
    "\n",
    "\n",
    "# Display the head of the DataFrame to check the first few rows\n",
    "top_ranked_inter_faculty.head()\n"
   ]
  },
  {
   "cell_type": "markdown",
   "id": "f8726dfb",
   "metadata": {
    "deletable": false,
    "editable": false
   },
   "source": [
    "Now, **plot** `top_ranked_inter_faculty` as **scatter plot** with the **x-axis** labelled *International Students* and the **y-axis** labelled *Faculty Student*.\n",
    "\n",
    "You **must** use the `scatter_plot` function to create the plot. Your plot should look like this:"
   ]
  },
  {
   "cell_type": "code",
   "execution_count": 48,
   "id": "e5b7e9ca",
   "metadata": {
    "execution": {
     "iopub.execute_input": "2024-04-24T14:34:41.526959Z",
     "iopub.status.busy": "2024-04-24T14:34:41.526959Z",
     "iopub.status.idle": "2024-04-24T14:34:41.728735Z",
     "shell.execute_reply": "2024-04-24T14:34:41.727717Z"
    },
    "tags": []
   },
   "outputs": [
    {
     "data": {
      "image/png": "[encoded data removed]",
      "text/plain": [
       "<Figure size 640x480 with 1 Axes>"
      ]
     },
     "metadata": {},
     "output_type": "display_data"
    }
   ],
   "source": [
    "# create the scatter plot using the DataFrame 'top_ranked_inter_faculty' with the x-axis labelled \"International Students\" \n",
    "# and the y-axis labelled \"Faculty Student\"\n",
    "scatter_plot(top_ranked_inter_faculty, \"International Students\", \"Faculty Student\")"
   ]
  },
  {
   "cell_type": "code",
   "execution_count": 49,
   "id": "604ab3c2",
   "metadata": {
    "deletable": false,
    "editable": false
   },
   "outputs": [
    {
     "data": {
      "text/html": [
       "<p><strong><pre style='display: inline;'>q10</pre></strong> passed! ✨</p><p><strong><pre style='display: inline;'>q10 - 2</pre> message:</strong> Note that the Gradescope autograder will deduct points if your code fails the following rubric point - 'did not use SQL to answer (-2)'.The public tests cannot determine if your code satisfies these requirements. Verify your code manually.</p><p><strong><pre style='display: inline;'>q10 - 3</pre> message:</strong> Note that the Gradescope autograder will deduct points if your code fails the following rubric point - 'incorrect logic is used to answer (-2)'.The public tests cannot determine if your code satisfies these requirements. Verify your code manually.</p><p><strong><pre style='display: inline;'>q10 - 4</pre> message:</strong> Note that the Gradescope autograder will deduct points if your code fails the following rubric point - '`scatter_plot` function is not used to plot (-1)'.The public tests cannot determine if your code satisfies these requirements. Verify your code manually.</p><p><strong><pre style='display: inline;'>q10 - 5</pre> message:</strong> Note that the Gradescope autograder will deduct points if your code fails the following rubric point - 'plot is not properly labeled (-1)'.The public tests cannot determine if your code satisfies these requirements. Verify your code manually.</p>"
      ],
      "text/plain": [
       "q10 results: All test cases passed!\n",
       "q10 - 2 message: Note that the Gradescope autograder will deduct points if your code fails the following rubric point - 'did not use SQL to answer (-2)'.The public tests cannot determine if your code satisfies these requirements. Verify your code manually.\n",
       "q10 - 3 message: Note that the Gradescope autograder will deduct points if your code fails the following rubric point - 'incorrect logic is used to answer (-2)'.The public tests cannot determine if your code satisfies these requirements. Verify your code manually.\n",
       "q10 - 4 message: Note that the Gradescope autograder will deduct points if your code fails the following rubric point - '`scatter_plot` function is not used to plot (-1)'.The public tests cannot determine if your code satisfies these requirements. Verify your code manually.\n",
       "q10 - 5 message: Note that the Gradescope autograder will deduct points if your code fails the following rubric point - 'plot is not properly labeled (-1)'.The public tests cannot determine if your code satisfies these requirements. Verify your code manually."
      ]
     },
     "execution_count": 49,
     "metadata": {},
     "output_type": "execute_result"
    }
   ],
   "source": [
    "grader.check(\"q10\")"
   ]
  },
  {
   "cell_type": "markdown",
   "id": "c1e07968",
   "metadata": {
    "deletable": false,
    "editable": false
   },
   "source": [
    "### Correlations:\n",
    "\n",
    "You can use the `.corr()` method on a **DataFrame** that has **two** columns to get the *correlation* between those two columns.\n",
    "\n",
    "For example, if we have a **DataFrame** `df` with the two columns `Citations per Faculty` and `Overall`, `df.corr()` would return\n",
    "\n",
    "||**Citations per Faculty**|**Overall**|\n",
    "|---------|------|---------|\n",
    "|Citations per Faculty|1.000000|0.617044|\n",
    "|Overall|0.617044|1.000000|\n",
    "\n",
    "You can use `.loc` here to **extract** the *correlation* between the two columns (`0.617044` in this case)."
   ]
  },
  {
   "cell_type": "markdown",
   "id": "d473b7f9",
   "metadata": {
    "deletable": false,
    "editable": false
   },
   "source": [
    "**Question 11:** Find the **correlation** between `International Students` and `Overall` for institutions from the `Country` *United Kingdom* that were ranked in the **top** *100* in the `year` *2022*.\n",
    "\n",
    "Your output **must** be a **float** representing the absolute correlation. The **only** `pandas` operations you are **allowed** to use are: `.corr`, `.loc` and `.iloc`. You **must** use SQL to gather all other data."
   ]
  },
  {
   "cell_type": "code",
   "execution_count": 50,
   "id": "935ba9ca",
   "metadata": {
    "execution": {
     "iopub.execute_input": "2024-04-24T14:34:42.748785Z",
     "iopub.status.busy": "2024-04-24T14:34:42.748785Z",
     "iopub.status.idle": "2024-04-24T14:34:42.757363Z",
     "shell.execute_reply": "2024-04-24T14:34:42.757363Z"
    },
    "tags": []
   },
   "outputs": [
    {
     "data": {
      "text/plain": [
       "0.4534457221342215"
      ]
     },
     "execution_count": 50,
     "metadata": {},
     "output_type": "execute_result"
    }
   ],
   "source": [
    "# compute and store the answer in the variable 'uk_inter_score_corr', then display it\n",
    "query = \"\"\"\n",
    "SELECT `International Students`, `Overall`\n",
    "FROM rankings\n",
    "WHERE `Country` = 'United Kingdom' AND `Year` = 2022 AND `Rank` <= 100\n",
    "\"\"\"\n",
    "\n",
    "# Execute the query and store the result in a DataFrame\n",
    "uk_data = pd.read_sql(query, conn)\n",
    "# Compute the correlation matrix\n",
    "correlation_matrix = uk_data.corr()\n",
    "\n",
    "# Extract the correlation between International Students and Overall\n",
    "uk_inter_score_corr = abs(correlation_matrix.loc['International Students', 'Overall'])\n",
    "uk_inter_score_corr\n"
   ]
  },
  {
   "cell_type": "code",
   "execution_count": 51,
   "id": "bbb68716",
   "metadata": {
    "deletable": false,
    "editable": false
   },
   "outputs": [
    {
     "data": {
      "text/html": [
       "<p><strong><pre style='display: inline;'>q11</pre></strong> passed! 🎉</p><p><strong><pre style='display: inline;'>q11 - 2</pre> message:</strong> Note that the Gradescope autograder will deduct points if your code fails the following rubric point - 'did not use SQL to answer (-2)'.The public tests cannot determine if your code satisfies these requirements. Verify your code manually.</p><p><strong><pre style='display: inline;'>q11 - 3</pre> message:</strong> Note that the Gradescope autograder will deduct points if your code fails the following rubric point - 'incorrect logic is used to answer (-1)'.The public tests cannot determine if your code satisfies these requirements. Verify your code manually.</p>"
      ],
      "text/plain": [
       "q11 results: All test cases passed!\n",
       "q11 - 2 message: Note that the Gradescope autograder will deduct points if your code fails the following rubric point - 'did not use SQL to answer (-2)'.The public tests cannot determine if your code satisfies these requirements. Verify your code manually.\n",
       "q11 - 3 message: Note that the Gradescope autograder will deduct points if your code fails the following rubric point - 'incorrect logic is used to answer (-1)'.The public tests cannot determine if your code satisfies these requirements. Verify your code manually."
      ]
     },
     "execution_count": 51,
     "metadata": {},
     "output_type": "execute_result"
    }
   ],
   "source": [
    "grader.check(\"q11\")"
   ]
  },
  {
   "cell_type": "markdown",
   "id": "7649cf84",
   "metadata": {
    "deletable": false,
    "editable": false
   },
   "source": [
    "Let us now define a new score called `Citations per International` as follows:\n",
    "\n",
    "$$\\texttt{Citations per International} = \\frac{\\texttt{Citations per Faculty} \\times \\texttt{International Faculty}}{100}.$$\n"
   ]
  },
  {
   "cell_type": "markdown",
   "id": "d2d81f69",
   "metadata": {
    "deletable": false,
    "editable": false
   },
   "source": [
    "**Question 12:** Find the **correlation** between `Citations per International` and `Overall` for **all** institutions in the `year` *2024*.\n",
    "\n",
    "Your output **must** be a **float** representing the absolute correlation. The **only** `pandas` operations you are **allowed** to use are: `.corr`, `.loc` and `.iloc`. You **must** use SQL to gather all other data."
   ]
  },
  {
   "cell_type": "code",
   "execution_count": 52,
   "id": "01855a94",
   "metadata": {
    "execution": {
     "iopub.execute_input": "2024-04-24T14:34:43.176659Z",
     "iopub.status.busy": "2024-04-24T14:34:43.175675Z",
     "iopub.status.idle": "2024-04-24T14:34:43.186080Z",
     "shell.execute_reply": "2024-04-24T14:34:43.185043Z"
    },
    "tags": []
   },
   "outputs": [
    {
     "data": {
      "text/plain": [
       "0.5943163420092246"
      ]
     },
     "execution_count": 52,
     "metadata": {},
     "output_type": "execute_result"
    }
   ],
   "source": [
    "# compute and store the answer in the variable 'cit_per_inter_score_corr', then display it\n",
    "query = \"\"\"\n",
    "SELECT `Citations per Faculty`, `International Faculty`, `Overall`\n",
    "FROM rankings\n",
    "WHERE `Year` = 2024\n",
    "\"\"\"\n",
    "\n",
    "# Execute the query and store the result in a DataFrame\n",
    "data_2024 = pd.read_sql(query, conn)\n",
    "data_2024['Citations per International'] = (data_2024['Citations per Faculty'] * data_2024['International Faculty']) / 100\n",
    "correlation_matrix = data_2024[['Citations per International', 'Overall']].corr()\n",
    "\n",
    "# Extract the correlation between Citations per International and Overall\n",
    "cit_per_inter_score_corr = abs(correlation_matrix.loc['Citations per International', 'Overall'])\n",
    "cit_per_inter_score_corr\n"
   ]
  },
  {
   "cell_type": "code",
   "execution_count": 53,
   "id": "5a02c27e",
   "metadata": {
    "deletable": false,
    "editable": false
   },
   "outputs": [
    {
     "data": {
      "text/html": [
       "<p><strong><pre style='display: inline;'>q12</pre></strong> passed! 🍀</p><p><strong><pre style='display: inline;'>q12 - 2</pre> message:</strong> Note that the Gradescope autograder will deduct points if your code fails the following rubric point - 'did not use SQL to answer (-2)'.The public tests cannot determine if your code satisfies these requirements. Verify your code manually.</p><p><strong><pre style='display: inline;'>q12 - 3</pre> message:</strong> Note that the Gradescope autograder will deduct points if your code fails the following rubric point - 'incorrect logic is used to answer (-1)'.The public tests cannot determine if your code satisfies these requirements. Verify your code manually.</p>"
      ],
      "text/plain": [
       "q12 results: All test cases passed!\n",
       "q12 - 2 message: Note that the Gradescope autograder will deduct points if your code fails the following rubric point - 'did not use SQL to answer (-2)'.The public tests cannot determine if your code satisfies these requirements. Verify your code manually.\n",
       "q12 - 3 message: Note that the Gradescope autograder will deduct points if your code fails the following rubric point - 'incorrect logic is used to answer (-1)'.The public tests cannot determine if your code satisfies these requirements. Verify your code manually."
      ]
     },
     "execution_count": 53,
     "metadata": {},
     "output_type": "execute_result"
    }
   ],
   "source": [
    "grader.check(\"q12\")"
   ]
  },
  {
   "cell_type": "markdown",
   "id": "cb05ad59",
   "metadata": {
    "deletable": false,
    "editable": false
   },
   "source": [
    "**Question 13:** What are the **top** *15* countries with the **highest** *total* of `Citations per International` in the `Year` *2024*.\n",
    "\n",
    "The *total* `Citations per International` of a `Country` is defined as the **sum** of `Citations per International` scores of **all** institutions in that `Country`. You **must** display the columns `Country` and `Sum of International Citations`. The rows **must** be in *descending* order of `Sum of International Citations`.\n",
    "\n",
    "Your output **must** be a **DataFrame** that looks like this:\n",
    "\n",
    "||**Country**|**Sum of International Citations**|\n",
    "|---|---|---|\n",
    "|**0**|United States|2294.2671|\n",
    "|**1**|United Kingdom|2279.9530|\n",
    "|**2**|Australia|1895.6595|\n",
    "|**3**|Canada|822.9573|\n",
    "|**4**|Netherlands|749.9450|\n",
    "|**5**|Switzerland|664.2349|\n",
    "|**6**|Germany|635.0223|\n",
    "|**7**|China (Mainland)|578.7473|\n",
    "|**8**|Hong Kong SAR|513.1582|\n",
    "|**9**|France|385.9691|\n",
    "|**10**|Sweden|382.8463|\n",
    "|**11**|New Zealand|344.3393|\n",
    "|**12**|Belgium|300.6716|\n",
    "|**13**|Denmark|217.8851|\n",
    "|**14**|Finland|210.7134|"
   ]
  },
  {
   "cell_type": "code",
   "execution_count": 54,
   "id": "f7117c50",
   "metadata": {
    "execution": {
     "iopub.execute_input": "2024-04-24T14:34:43.615546Z",
     "iopub.status.busy": "2024-04-24T14:34:43.615546Z",
     "iopub.status.idle": "2024-04-24T14:34:43.629486Z",
     "shell.execute_reply": "2024-04-24T14:34:43.628470Z"
    },
    "tags": []
   },
   "outputs": [
    {
     "data": {
      "text/html": [
       "<div>\n",
       "<style scoped>\n",
       "    .dataframe tbody tr th:only-of-type {\n",
       "        vertical-align: middle;\n",
       "    }\n",
       "\n",
       "    .dataframe tbody tr th {\n",
       "        vertical-align: top;\n",
       "    }\n",
       "\n",
       "    .dataframe thead th {\n",
       "        text-align: right;\n",
       "    }\n",
       "</style>\n",
       "<table border=\"1\" class=\"dataframe\">\n",
       "  <thead>\n",
       "    <tr style=\"text-align: right;\">\n",
       "      <th></th>\n",
       "      <th>Country</th>\n",
       "      <th>Sum of International Citations</th>\n",
       "    </tr>\n",
       "  </thead>\n",
       "  <tbody>\n",
       "    <tr>\n",
       "      <th>0</th>\n",
       "      <td>United States</td>\n",
       "      <td>2294.2671</td>\n",
       "    </tr>\n",
       "    <tr>\n",
       "      <th>1</th>\n",
       "      <td>United Kingdom</td>\n",
       "      <td>2279.9530</td>\n",
       "    </tr>\n",
       "    <tr>\n",
       "      <th>2</th>\n",
       "      <td>Australia</td>\n",
       "      <td>1895.6595</td>\n",
       "    </tr>\n",
       "    <tr>\n",
       "      <th>3</th>\n",
       "      <td>Canada</td>\n",
       "      <td>822.9573</td>\n",
       "    </tr>\n",
       "    <tr>\n",
       "      <th>4</th>\n",
       "      <td>Netherlands</td>\n",
       "      <td>749.9450</td>\n",
       "    </tr>\n",
       "    <tr>\n",
       "      <th>5</th>\n",
       "      <td>Switzerland</td>\n",
       "      <td>664.2349</td>\n",
       "    </tr>\n",
       "    <tr>\n",
       "      <th>6</th>\n",
       "      <td>Germany</td>\n",
       "      <td>635.0223</td>\n",
       "    </tr>\n",
       "    <tr>\n",
       "      <th>7</th>\n",
       "      <td>China (Mainland)</td>\n",
       "      <td>578.7473</td>\n",
       "    </tr>\n",
       "    <tr>\n",
       "      <th>8</th>\n",
       "      <td>Hong Kong SAR</td>\n",
       "      <td>513.1582</td>\n",
       "    </tr>\n",
       "    <tr>\n",
       "      <th>9</th>\n",
       "      <td>France</td>\n",
       "      <td>385.9691</td>\n",
       "    </tr>\n",
       "    <tr>\n",
       "      <th>10</th>\n",
       "      <td>Sweden</td>\n",
       "      <td>382.8463</td>\n",
       "    </tr>\n",
       "    <tr>\n",
       "      <th>11</th>\n",
       "      <td>New Zealand</td>\n",
       "      <td>344.3393</td>\n",
       "    </tr>\n",
       "    <tr>\n",
       "      <th>12</th>\n",
       "      <td>Belgium</td>\n",
       "      <td>300.6716</td>\n",
       "    </tr>\n",
       "    <tr>\n",
       "      <th>13</th>\n",
       "      <td>Denmark</td>\n",
       "      <td>217.8851</td>\n",
       "    </tr>\n",
       "    <tr>\n",
       "      <th>14</th>\n",
       "      <td>Finland</td>\n",
       "      <td>210.7134</td>\n",
       "    </tr>\n",
       "  </tbody>\n",
       "</table>\n",
       "</div>"
      ],
      "text/plain": [
       "             Country  Sum of International Citations\n",
       "0      United States                       2294.2671\n",
       "1     United Kingdom                       2279.9530\n",
       "2          Australia                       1895.6595\n",
       "3             Canada                        822.9573\n",
       "4        Netherlands                        749.9450\n",
       "5        Switzerland                        664.2349\n",
       "6            Germany                        635.0223\n",
       "7   China (Mainland)                        578.7473\n",
       "8      Hong Kong SAR                        513.1582\n",
       "9             France                        385.9691\n",
       "10            Sweden                        382.8463\n",
       "11       New Zealand                        344.3393\n",
       "12           Belgium                        300.6716\n",
       "13           Denmark                        217.8851\n",
       "14           Finland                        210.7134"
      ]
     },
     "execution_count": 54,
     "metadata": {},
     "output_type": "execute_result"
    }
   ],
   "source": [
    "# compute and store the answer in the variable 'top_cit_per_inter', then display it\n",
    "query = \"\"\"\n",
    "SELECT Country,\n",
    "       SUM((`Citations per Faculty` * `International Faculty`) / 100) AS `Sum of International Citations`\n",
    "FROM rankings\n",
    "WHERE `Year` = 2024\n",
    "GROUP BY Country\n",
    "ORDER BY `Sum of International Citations` DESC\n",
    "LIMIT 15\n",
    "\"\"\"\n",
    "\n",
    "# Execute the query and store the result in a DataFrame\n",
    "top_cit_per_inter = pd.read_sql(query, conn)\n",
    "top_cit_per_inter\n"
   ]
  },
  {
   "cell_type": "code",
   "execution_count": 55,
   "id": "85812914",
   "metadata": {
    "deletable": false,
    "editable": false
   },
   "outputs": [
    {
     "data": {
      "text/html": [
       "<p><strong><pre style='display: inline;'>q13</pre></strong> passed! 🌟</p><p><strong><pre style='display: inline;'>q13 - 2</pre> message:</strong> Note that the Gradescope autograder will deduct points if your code fails the following rubric point - 'did not use SQL to answer (-2)'.The public tests cannot determine if your code satisfies these requirements. Verify your code manually.</p><p><strong><pre style='display: inline;'>q13 - 3</pre> message:</strong> Note that the Gradescope autograder will deduct points if your code fails the following rubric point - 'incorrect logic is used to answer (-2)'.The public tests cannot determine if your code satisfies these requirements. Verify your code manually.</p>"
      ],
      "text/plain": [
       "q13 results: All test cases passed!\n",
       "q13 - 2 message: Note that the Gradescope autograder will deduct points if your code fails the following rubric point - 'did not use SQL to answer (-2)'.The public tests cannot determine if your code satisfies these requirements. Verify your code manually.\n",
       "q13 - 3 message: Note that the Gradescope autograder will deduct points if your code fails the following rubric point - 'incorrect logic is used to answer (-2)'.The public tests cannot determine if your code satisfies these requirements. Verify your code manually."
      ]
     },
     "execution_count": 55,
     "metadata": {},
     "output_type": "execute_result"
    }
   ],
   "source": [
    "grader.check(\"q13\")"
   ]
  },
  {
   "cell_type": "markdown",
   "id": "57aec620",
   "metadata": {
    "deletable": false,
    "editable": false
   },
   "source": [
    "**Question 14:** Among the institutions ranked within the **top** *300*  in the `Year` *2023*, find the **average** `Citations per International` for **each** `Country`.\n",
    "\n",
    "You **must** display the columns `Country` and `Average Citations per International` representing the **average** of `Citations per International` for **each** `Country`. The rows **must** be in *descending* order of `Average Citations per International`. You **must** **omit** rows where `Citations per International` and `International Faculty` columns are **missing** by using the clause:\n",
    "\n",
    "```sql\n",
    "WHERE (`Citations per Faculty` IS NOT NULL AND `International Faculty` IS NOT NULL)\n",
    "```\n",
    "\n",
    "\n",
    "**Hint:** To find the **average**, you can use `SUM()` and `COUNT()` or you can simply use `AVG()`.\n",
    "\n",
    "Your output **must** be a **DataFrame** whose **first ten rows** look like this:\n",
    "\n",
    "||**Country**|**Average Citations per International**|\n",
    "|---|---|---|\n",
    "|**0**|Singapore|92.950000|\n",
    "|**1**|Australia|82.001726|\n",
    "|**2**|Hong Kong SAR|78.318000|\n",
    "|**3**|Switzerland|78.004875|\n",
    "|**4**|Netherlands|58.039117|\n",
    "|**5**|United Kingdom|56.838479|\n",
    "|**6**|Sweden|52.991567|\n",
    "|**7**|Canada|48.342191|\n",
    "|**8**|Denmark|47.686267|\n",
    "|**9**|Belgium|47.580433|"
   ]
  },
  {
   "cell_type": "code",
   "execution_count": 56,
   "id": "12f99017",
   "metadata": {
    "execution": {
     "iopub.execute_input": "2024-04-24T14:34:44.057606Z",
     "iopub.status.busy": "2024-04-24T14:34:44.057606Z",
     "iopub.status.idle": "2024-04-24T14:34:44.072707Z",
     "shell.execute_reply": "2024-04-24T14:34:44.071696Z"
    },
    "tags": []
   },
   "outputs": [
    {
     "data": {
      "text/html": [
       "<div>\n",
       "<style scoped>\n",
       "    .dataframe tbody tr th:only-of-type {\n",
       "        vertical-align: middle;\n",
       "    }\n",
       "\n",
       "    .dataframe tbody tr th {\n",
       "        vertical-align: top;\n",
       "    }\n",
       "\n",
       "    .dataframe thead th {\n",
       "        text-align: right;\n",
       "    }\n",
       "</style>\n",
       "<table border=\"1\" class=\"dataframe\">\n",
       "  <thead>\n",
       "    <tr style=\"text-align: right;\">\n",
       "      <th></th>\n",
       "      <th>Country</th>\n",
       "      <th>Average Citations per International</th>\n",
       "    </tr>\n",
       "  </thead>\n",
       "  <tbody>\n",
       "    <tr>\n",
       "      <th>0</th>\n",
       "      <td>Singapore</td>\n",
       "      <td>92.950000</td>\n",
       "    </tr>\n",
       "    <tr>\n",
       "      <th>1</th>\n",
       "      <td>Australia</td>\n",
       "      <td>82.001726</td>\n",
       "    </tr>\n",
       "    <tr>\n",
       "      <th>2</th>\n",
       "      <td>Hong Kong SAR</td>\n",
       "      <td>78.318000</td>\n",
       "    </tr>\n",
       "    <tr>\n",
       "      <th>3</th>\n",
       "      <td>Switzerland</td>\n",
       "      <td>78.004875</td>\n",
       "    </tr>\n",
       "    <tr>\n",
       "      <th>4</th>\n",
       "      <td>Netherlands</td>\n",
       "      <td>58.039117</td>\n",
       "    </tr>\n",
       "    <tr>\n",
       "      <th>5</th>\n",
       "      <td>United Kingdom</td>\n",
       "      <td>56.838479</td>\n",
       "    </tr>\n",
       "    <tr>\n",
       "      <th>6</th>\n",
       "      <td>Sweden</td>\n",
       "      <td>52.991567</td>\n",
       "    </tr>\n",
       "    <tr>\n",
       "      <th>7</th>\n",
       "      <td>Canada</td>\n",
       "      <td>48.342191</td>\n",
       "    </tr>\n",
       "    <tr>\n",
       "      <th>8</th>\n",
       "      <td>Denmark</td>\n",
       "      <td>47.686267</td>\n",
       "    </tr>\n",
       "    <tr>\n",
       "      <th>9</th>\n",
       "      <td>Belgium</td>\n",
       "      <td>47.580433</td>\n",
       "    </tr>\n",
       "    <tr>\n",
       "      <th>10</th>\n",
       "      <td>Norway</td>\n",
       "      <td>44.820000</td>\n",
       "    </tr>\n",
       "    <tr>\n",
       "      <th>11</th>\n",
       "      <td>Saudi Arabia</td>\n",
       "      <td>43.294600</td>\n",
       "    </tr>\n",
       "    <tr>\n",
       "      <th>12</th>\n",
       "      <td>Finland</td>\n",
       "      <td>42.823267</td>\n",
       "    </tr>\n",
       "    <tr>\n",
       "      <th>13</th>\n",
       "      <td>Ireland</td>\n",
       "      <td>38.282033</td>\n",
       "    </tr>\n",
       "    <tr>\n",
       "      <th>14</th>\n",
       "      <td>New Zealand</td>\n",
       "      <td>38.215660</td>\n",
       "    </tr>\n",
       "    <tr>\n",
       "      <th>15</th>\n",
       "      <td>Qatar</td>\n",
       "      <td>36.900000</td>\n",
       "    </tr>\n",
       "    <tr>\n",
       "      <th>16</th>\n",
       "      <td>China (Mainland)</td>\n",
       "      <td>36.544577</td>\n",
       "    </tr>\n",
       "    <tr>\n",
       "      <th>17</th>\n",
       "      <td>United States</td>\n",
       "      <td>36.240415</td>\n",
       "    </tr>\n",
       "    <tr>\n",
       "      <th>18</th>\n",
       "      <td>France</td>\n",
       "      <td>32.660511</td>\n",
       "    </tr>\n",
       "    <tr>\n",
       "      <th>19</th>\n",
       "      <td>United Arab Emirates</td>\n",
       "      <td>31.700000</td>\n",
       "    </tr>\n",
       "    <tr>\n",
       "      <th>20</th>\n",
       "      <td>Austria</td>\n",
       "      <td>31.611433</td>\n",
       "    </tr>\n",
       "    <tr>\n",
       "      <th>21</th>\n",
       "      <td>South Africa</td>\n",
       "      <td>27.696600</td>\n",
       "    </tr>\n",
       "    <tr>\n",
       "      <th>22</th>\n",
       "      <td>Israel</td>\n",
       "      <td>26.089950</td>\n",
       "    </tr>\n",
       "    <tr>\n",
       "      <th>23</th>\n",
       "      <td>Germany</td>\n",
       "      <td>24.701627</td>\n",
       "    </tr>\n",
       "    <tr>\n",
       "      <th>24</th>\n",
       "      <td>Lebanon</td>\n",
       "      <td>14.980000</td>\n",
       "    </tr>\n",
       "    <tr>\n",
       "      <th>25</th>\n",
       "      <td>South Korea</td>\n",
       "      <td>14.784700</td>\n",
       "    </tr>\n",
       "    <tr>\n",
       "      <th>26</th>\n",
       "      <td>Spain</td>\n",
       "      <td>14.626767</td>\n",
       "    </tr>\n",
       "    <tr>\n",
       "      <th>27</th>\n",
       "      <td>Italy</td>\n",
       "      <td>10.578600</td>\n",
       "    </tr>\n",
       "    <tr>\n",
       "      <th>28</th>\n",
       "      <td>Taiwan</td>\n",
       "      <td>8.763275</td>\n",
       "    </tr>\n",
       "    <tr>\n",
       "      <th>29</th>\n",
       "      <td>Brunei</td>\n",
       "      <td>8.500000</td>\n",
       "    </tr>\n",
       "    <tr>\n",
       "      <th>30</th>\n",
       "      <td>Japan</td>\n",
       "      <td>7.592830</td>\n",
       "    </tr>\n",
       "    <tr>\n",
       "      <th>31</th>\n",
       "      <td>Malaysia</td>\n",
       "      <td>5.926371</td>\n",
       "    </tr>\n",
       "    <tr>\n",
       "      <th>32</th>\n",
       "      <td>Estonia</td>\n",
       "      <td>5.720000</td>\n",
       "    </tr>\n",
       "    <tr>\n",
       "      <th>33</th>\n",
       "      <td>Portugal</td>\n",
       "      <td>5.283600</td>\n",
       "    </tr>\n",
       "    <tr>\n",
       "      <th>34</th>\n",
       "      <td>India</td>\n",
       "      <td>3.698383</td>\n",
       "    </tr>\n",
       "    <tr>\n",
       "      <th>35</th>\n",
       "      <td>Brazil</td>\n",
       "      <td>3.292400</td>\n",
       "    </tr>\n",
       "    <tr>\n",
       "      <th>36</th>\n",
       "      <td>Czech Republic</td>\n",
       "      <td>2.557300</td>\n",
       "    </tr>\n",
       "    <tr>\n",
       "      <th>37</th>\n",
       "      <td>Chile</td>\n",
       "      <td>1.772050</td>\n",
       "    </tr>\n",
       "    <tr>\n",
       "      <th>38</th>\n",
       "      <td>Russia</td>\n",
       "      <td>1.433386</td>\n",
       "    </tr>\n",
       "    <tr>\n",
       "      <th>39</th>\n",
       "      <td>Indonesia</td>\n",
       "      <td>1.180100</td>\n",
       "    </tr>\n",
       "    <tr>\n",
       "      <th>40</th>\n",
       "      <td>Argentina</td>\n",
       "      <td>1.146600</td>\n",
       "    </tr>\n",
       "    <tr>\n",
       "      <th>41</th>\n",
       "      <td>Colombia</td>\n",
       "      <td>1.059850</td>\n",
       "    </tr>\n",
       "    <tr>\n",
       "      <th>42</th>\n",
       "      <td>Mexico</td>\n",
       "      <td>0.716750</td>\n",
       "    </tr>\n",
       "    <tr>\n",
       "      <th>43</th>\n",
       "      <td>Kazakhstan</td>\n",
       "      <td>0.539850</td>\n",
       "    </tr>\n",
       "    <tr>\n",
       "      <th>44</th>\n",
       "      <td>Poland</td>\n",
       "      <td>0.470300</td>\n",
       "    </tr>\n",
       "    <tr>\n",
       "      <th>45</th>\n",
       "      <td>Thailand</td>\n",
       "      <td>0.445800</td>\n",
       "    </tr>\n",
       "    <tr>\n",
       "      <th>46</th>\n",
       "      <td>Belarus</td>\n",
       "      <td>0.044200</td>\n",
       "    </tr>\n",
       "  </tbody>\n",
       "</table>\n",
       "</div>"
      ],
      "text/plain": [
       "                 Country  Average Citations per International\n",
       "0              Singapore                            92.950000\n",
       "1              Australia                            82.001726\n",
       "2          Hong Kong SAR                            78.318000\n",
       "3            Switzerland                            78.004875\n",
       "4            Netherlands                            58.039117\n",
       "5         United Kingdom                            56.838479\n",
       "6                 Sweden                            52.991567\n",
       "7                 Canada                            48.342191\n",
       "8                Denmark                            47.686267\n",
       "9                Belgium                            47.580433\n",
       "10                Norway                            44.820000\n",
       "11          Saudi Arabia                            43.294600\n",
       "12               Finland                            42.823267\n",
       "13               Ireland                            38.282033\n",
       "14           New Zealand                            38.215660\n",
       "15                 Qatar                            36.900000\n",
       "16      China (Mainland)                            36.544577\n",
       "17         United States                            36.240415\n",
       "18                France                            32.660511\n",
       "19  United Arab Emirates                            31.700000\n",
       "20               Austria                            31.611433\n",
       "21          South Africa                            27.696600\n",
       "22                Israel                            26.089950\n",
       "23               Germany                            24.701627\n",
       "24               Lebanon                            14.980000\n",
       "25           South Korea                            14.784700\n",
       "26                 Spain                            14.626767\n",
       "27                 Italy                            10.578600\n",
       "28                Taiwan                             8.763275\n",
       "29                Brunei                             8.500000\n",
       "30                 Japan                             7.592830\n",
       "31              Malaysia                             5.926371\n",
       "32               Estonia                             5.720000\n",
       "33              Portugal                             5.283600\n",
       "34                 India                             3.698383\n",
       "35                Brazil                             3.292400\n",
       "36        Czech Republic                             2.557300\n",
       "37                 Chile                             1.772050\n",
       "38                Russia                             1.433386\n",
       "39             Indonesia                             1.180100\n",
       "40             Argentina                             1.146600\n",
       "41              Colombia                             1.059850\n",
       "42                Mexico                             0.716750\n",
       "43            Kazakhstan                             0.539850\n",
       "44                Poland                             0.470300\n",
       "45              Thailand                             0.445800\n",
       "46               Belarus                             0.044200"
      ]
     },
     "execution_count": 56,
     "metadata": {},
     "output_type": "execute_result"
    }
   ],
   "source": [
    "# compute and store the answer in the variable 'avg_cit_per_inter', then display it\n",
    "query = \"\"\"\n",
    "SELECT Country,\n",
    "       AVG((`Citations per Faculty` * `International Faculty`) / 100) AS `Average Citations per International`\n",
    "FROM rankings\n",
    "WHERE `Year` = 2023 AND `Rank` <= 300 AND `Citations per Faculty` IS NOT NULL AND `International Faculty` IS NOT NULL\n",
    "GROUP BY Country\n",
    "ORDER BY `Average Citations per International` DESC\n",
    "\"\"\"\n",
    "\n",
    "avg_cit_per_inter = pd.read_sql(query, conn)\n",
    "avg_cit_per_inter"
   ]
  },
  {
   "cell_type": "code",
   "execution_count": 57,
   "id": "0af2f73e",
   "metadata": {
    "deletable": false,
    "editable": false
   },
   "outputs": [
    {
     "data": {
      "text/html": [
       "<p><strong><pre style='display: inline;'>q14</pre></strong> passed! 🚀</p><p><strong><pre style='display: inline;'>q14 - 2</pre> message:</strong> Note that the Gradescope autograder will deduct points if your code fails the following rubric point - 'did not use SQL to answer (-2)'.The public tests cannot determine if your code satisfies these requirements. Verify your code manually.</p><p><strong><pre style='display: inline;'>q14 - 3</pre> message:</strong> Note that the Gradescope autograder will deduct points if your code fails the following rubric point - 'incorrect logic is used to answer (-2)'.The public tests cannot determine if your code satisfies these requirements. Verify your code manually.</p>"
      ],
      "text/plain": [
       "q14 results: All test cases passed!\n",
       "q14 - 2 message: Note that the Gradescope autograder will deduct points if your code fails the following rubric point - 'did not use SQL to answer (-2)'.The public tests cannot determine if your code satisfies these requirements. Verify your code manually.\n",
       "q14 - 3 message: Note that the Gradescope autograder will deduct points if your code fails the following rubric point - 'incorrect logic is used to answer (-2)'.The public tests cannot determine if your code satisfies these requirements. Verify your code manually."
      ]
     },
     "execution_count": 57,
     "metadata": {},
     "output_type": "execute_result"
    }
   ],
   "source": [
    "grader.check(\"q14\")"
   ]
  },
  {
   "cell_type": "markdown",
   "id": "a651fd5d",
   "metadata": {
    "deletable": false,
    "editable": false
   },
   "source": [
    "**Question 15** Find the **institution** with the **highest** value of `Citations per International` for **each** `Country` in the `Year` *2024*.\n",
    "\n",
    "Your output **must** be a **DataFrame** with the columns `Country`, `Institution Name`, and a new column `Maximum Citations per International` representing the **maximum** value of `Citations per International` for that country. The rows **must** be in *descending* order of `Maximum Citations per International`. You **must** **omit** rows where `Maximum Citations per International` is **missing** by using the clause:\n",
    "\n",
    "```sql\n",
    "HAVING `Maximum Citations per International` IS NOT NULL\n",
    "```\n",
    "\n",
    "**Hint:** You can use the `MAX()` function to return the largest value within a group.\n",
    "\n",
    "Your output **must** be a **DataFrame** whose **first ten rows** look like this:\n",
    "\n",
    "||**Country**|**Institution Name**|**Maximum Citations per International**|\n",
    "|---|---|---|---|\n",
    "|**0**|United States|Massachusetts Institute of Technology (MIT) |100.0000|\n",
    "|**1**|Hong Kong SAR|City University of Hong Kong|99.9000|\n",
    "|**2**|Switzerland|University of Bern|99.2000|\n",
    "|**3**|Australia|The University of Western Australia|98.9000|\n",
    "|**4**|Canada|Western University|98.0051|\n",
    "|**5**|Macau SAR|University of Macau|96.9000|\n",
    "|**6**|China (Mainland)|Zhejiang University|95.3552|\n",
    "|**7**|Singapore|Nanyang Technological University, Singapore (NTU)|94.4000|\n",
    "|**8**|United Kingdom|Imperial College London|94.0000|\n",
    "|**9**|France|Institut Polytechnique de Paris|92.3930|"
   ]
  },
  {
   "cell_type": "code",
   "execution_count": 58,
   "id": "55dc6c25",
   "metadata": {
    "execution": {
     "iopub.execute_input": "2024-04-24T14:34:44.523500Z",
     "iopub.status.busy": "2024-04-24T14:34:44.523500Z",
     "iopub.status.idle": "2024-04-24T14:34:44.542866Z",
     "shell.execute_reply": "2024-04-24T14:34:44.541854Z"
    },
    "tags": []
   },
   "outputs": [
    {
     "data": {
      "text/html": [
       "<div>\n",
       "<style scoped>\n",
       "    .dataframe tbody tr th:only-of-type {\n",
       "        vertical-align: middle;\n",
       "    }\n",
       "\n",
       "    .dataframe tbody tr th {\n",
       "        vertical-align: top;\n",
       "    }\n",
       "\n",
       "    .dataframe thead th {\n",
       "        text-align: right;\n",
       "    }\n",
       "</style>\n",
       "<table border=\"1\" class=\"dataframe\">\n",
       "  <thead>\n",
       "    <tr style=\"text-align: right;\">\n",
       "      <th></th>\n",
       "      <th>Country</th>\n",
       "      <th>Institution Name</th>\n",
       "      <th>Maximum Citations per International</th>\n",
       "    </tr>\n",
       "  </thead>\n",
       "  <tbody>\n",
       "    <tr>\n",
       "      <th>0</th>\n",
       "      <td>United States</td>\n",
       "      <td>Massachusetts Institute of Technology (MIT)</td>\n",
       "      <td>100.0000</td>\n",
       "    </tr>\n",
       "    <tr>\n",
       "      <th>1</th>\n",
       "      <td>Hong Kong SAR</td>\n",
       "      <td>City University of Hong Kong</td>\n",
       "      <td>99.9000</td>\n",
       "    </tr>\n",
       "    <tr>\n",
       "      <th>2</th>\n",
       "      <td>Switzerland</td>\n",
       "      <td>University of Bern</td>\n",
       "      <td>99.2000</td>\n",
       "    </tr>\n",
       "    <tr>\n",
       "      <th>3</th>\n",
       "      <td>Australia</td>\n",
       "      <td>The University of Western Australia</td>\n",
       "      <td>98.9000</td>\n",
       "    </tr>\n",
       "    <tr>\n",
       "      <th>4</th>\n",
       "      <td>Canada</td>\n",
       "      <td>Western University</td>\n",
       "      <td>98.0051</td>\n",
       "    </tr>\n",
       "    <tr>\n",
       "      <th>5</th>\n",
       "      <td>Macau SAR</td>\n",
       "      <td>University of Macau</td>\n",
       "      <td>96.9000</td>\n",
       "    </tr>\n",
       "    <tr>\n",
       "      <th>6</th>\n",
       "      <td>China (Mainland)</td>\n",
       "      <td>Zhejiang University</td>\n",
       "      <td>95.3552</td>\n",
       "    </tr>\n",
       "    <tr>\n",
       "      <th>7</th>\n",
       "      <td>Singapore</td>\n",
       "      <td>Nanyang Technological University, Singapore (NTU)</td>\n",
       "      <td>94.4000</td>\n",
       "    </tr>\n",
       "    <tr>\n",
       "      <th>8</th>\n",
       "      <td>United Kingdom</td>\n",
       "      <td>Imperial College London</td>\n",
       "      <td>94.0000</td>\n",
       "    </tr>\n",
       "    <tr>\n",
       "      <th>9</th>\n",
       "      <td>France</td>\n",
       "      <td>Institut Polytechnique de Paris</td>\n",
       "      <td>92.3930</td>\n",
       "    </tr>\n",
       "  </tbody>\n",
       "</table>\n",
       "</div>"
      ],
      "text/plain": [
       "            Country                                   Institution Name  \\\n",
       "0     United States       Massachusetts Institute of Technology (MIT)    \n",
       "1     Hong Kong SAR                       City University of Hong Kong   \n",
       "2       Switzerland                                 University of Bern   \n",
       "3         Australia                The University of Western Australia   \n",
       "4            Canada                                 Western University   \n",
       "5         Macau SAR                                University of Macau   \n",
       "6  China (Mainland)                                Zhejiang University   \n",
       "7         Singapore  Nanyang Technological University, Singapore (NTU)   \n",
       "8    United Kingdom                            Imperial College London   \n",
       "9            France                    Institut Polytechnique de Paris   \n",
       "\n",
       "   Maximum Citations per International  \n",
       "0                             100.0000  \n",
       "1                              99.9000  \n",
       "2                              99.2000  \n",
       "3                              98.9000  \n",
       "4                              98.0051  \n",
       "5                              96.9000  \n",
       "6                              95.3552  \n",
       "7                              94.4000  \n",
       "8                              94.0000  \n",
       "9                              92.3930  "
      ]
     },
     "execution_count": 58,
     "metadata": {},
     "output_type": "execute_result"
    }
   ],
   "source": [
    "max_cit_per_inter = pd.read_sql(\"\"\"\n",
    "SELECT \"Country\", \"Institution Name\", MAX(\"Citations per International\") AS \"Maximum Citations per International\"\n",
    "FROM (\n",
    "    SELECT Country, \"Institution Name\",\n",
    "    (\"Citations per Faculty\" * \"International Faculty\" / 100) AS \"Citations per International\"\n",
    "    FROM rankings\n",
    "    WHERE \"Year\" = 2024 AND \"Citations per Faculty\" IS NOT NULL AND \"International Faculty\" IS NOT NULL\n",
    "    )\n",
    "GROUP BY \"Country\"\n",
    "ORDER BY \"Maximum Citations per International\" DESC\n",
    "\"\"\", conn)\n",
    "\n",
    "\n",
    "max_cit_per_inter.head(10)"
   ]
  },
  {
   "cell_type": "code",
   "execution_count": 59,
   "id": "e7fe478d",
   "metadata": {
    "deletable": false,
    "editable": false
   },
   "outputs": [
    {
     "data": {
      "text/html": [
       "<p><strong><pre style='display: inline;'>q15</pre></strong> passed! 💯</p><p><strong><pre style='display: inline;'>q15 - 2</pre> message:</strong> Note that the Gradescope autograder will deduct points if your code fails the following rubric point - 'did not use SQL to answer (-2)'.The public tests cannot determine if your code satisfies these requirements. Verify your code manually.</p><p><strong><pre style='display: inline;'>q15 - 3</pre> message:</strong> Note that the Gradescope autograder will deduct points if your code fails the following rubric point - 'incorrect logic is used to answer (-2)'.The public tests cannot determine if your code satisfies these requirements. Verify your code manually.</p>"
      ],
      "text/plain": [
       "q15 results: All test cases passed!\n",
       "q15 - 2 message: Note that the Gradescope autograder will deduct points if your code fails the following rubric point - 'did not use SQL to answer (-2)'.The public tests cannot determine if your code satisfies these requirements. Verify your code manually.\n",
       "q15 - 3 message: Note that the Gradescope autograder will deduct points if your code fails the following rubric point - 'incorrect logic is used to answer (-2)'.The public tests cannot determine if your code satisfies these requirements. Verify your code manually."
      ]
     },
     "execution_count": 59,
     "metadata": {},
     "output_type": "execute_result"
    }
   ],
   "source": [
    "grader.check(\"q15\")"
   ]
  },
  {
   "cell_type": "markdown",
   "id": "dbbdfd94",
   "metadata": {
    "deletable": false,
    "editable": false
   },
   "source": [
    "**Question 16**: Among the institutions ranked within the **top** *50*  in the `Year` *2022*, create a **horizontal bar plot** representing the **average** of both the`Citations per Faculty` and `International Faculty` scores for **all** institutions in **each** `Country`.\n",
    "\n",
    "You **must** first create a **DataFrame** `country_citations_inter` with **three** columns: `Country`, `Average Citations per Faculty` and `Average International Faculty` representing the name, the average value of `Citations per Faculty` and the average value of `International Faculty` for each country respectively.\n",
    "\n",
    "You **must** ensure that the countries in the **DataFrame** are **ordered** in **increasing** order of the **difference** between the `Average Citations per Faculty` and `Average International Faculty`."
   ]
  },
  {
   "cell_type": "code",
   "execution_count": 60,
   "id": "2745f090",
   "metadata": {
    "execution": {
     "iopub.execute_input": "2024-04-24T14:34:45.000238Z",
     "iopub.status.busy": "2024-04-24T14:34:44.999234Z",
     "iopub.status.idle": "2024-04-24T14:34:45.013147Z",
     "shell.execute_reply": "2024-04-24T14:34:45.013147Z"
    },
    "tags": []
   },
   "outputs": [
    {
     "data": {
      "text/html": [
       "<div>\n",
       "<style scoped>\n",
       "    .dataframe tbody tr th:only-of-type {\n",
       "        vertical-align: middle;\n",
       "    }\n",
       "\n",
       "    .dataframe tbody tr th {\n",
       "        vertical-align: top;\n",
       "    }\n",
       "\n",
       "    .dataframe thead th {\n",
       "        text-align: right;\n",
       "    }\n",
       "</style>\n",
       "<table border=\"1\" class=\"dataframe\">\n",
       "  <thead>\n",
       "    <tr style=\"text-align: right;\">\n",
       "      <th></th>\n",
       "      <th>Country</th>\n",
       "      <th>Average Citations per Faculty</th>\n",
       "      <th>Average International Faculty</th>\n",
       "    </tr>\n",
       "  </thead>\n",
       "  <tbody>\n",
       "    <tr>\n",
       "      <th>0</th>\n",
       "      <td>Canada</td>\n",
       "      <td>57.033333</td>\n",
       "      <td>93.3000</td>\n",
       "    </tr>\n",
       "    <tr>\n",
       "      <th>1</th>\n",
       "      <td>Germany</td>\n",
       "      <td>27.200000</td>\n",
       "      <td>56.9000</td>\n",
       "    </tr>\n",
       "    <tr>\n",
       "      <th>2</th>\n",
       "      <td>United Kingdom</td>\n",
       "      <td>77.937500</td>\n",
       "      <td>98.9375</td>\n",
       "    </tr>\n",
       "    <tr>\n",
       "      <th>3</th>\n",
       "      <td>Hong Kong SAR</td>\n",
       "      <td>81.166667</td>\n",
       "      <td>100.0000</td>\n",
       "    </tr>\n",
       "    <tr>\n",
       "      <th>4</th>\n",
       "      <td>Australia</td>\n",
       "      <td>91.180000</td>\n",
       "      <td>99.4200</td>\n",
       "    </tr>\n",
       "    <tr>\n",
       "      <th>5</th>\n",
       "      <td>Singapore</td>\n",
       "      <td>93.050000</td>\n",
       "      <td>100.0000</td>\n",
       "    </tr>\n",
       "    <tr>\n",
       "      <th>6</th>\n",
       "      <td>France</td>\n",
       "      <td>73.350000</td>\n",
       "      <td>75.9000</td>\n",
       "    </tr>\n",
       "    <tr>\n",
       "      <th>7</th>\n",
       "      <td>Switzerland</td>\n",
       "      <td>99.800000</td>\n",
       "      <td>100.0000</td>\n",
       "    </tr>\n",
       "    <tr>\n",
       "      <th>8</th>\n",
       "      <td>United States</td>\n",
       "      <td>83.700000</td>\n",
       "      <td>65.9000</td>\n",
       "    </tr>\n",
       "    <tr>\n",
       "      <th>9</th>\n",
       "      <td>China (Mainland)</td>\n",
       "      <td>84.240000</td>\n",
       "      <td>55.5400</td>\n",
       "    </tr>\n",
       "    <tr>\n",
       "      <th>10</th>\n",
       "      <td>Japan</td>\n",
       "      <td>69.650000</td>\n",
       "      <td>4.3500</td>\n",
       "    </tr>\n",
       "    <tr>\n",
       "      <th>11</th>\n",
       "      <td>South Korea</td>\n",
       "      <td>86.900000</td>\n",
       "      <td>6.2500</td>\n",
       "    </tr>\n",
       "  </tbody>\n",
       "</table>\n",
       "</div>"
      ],
      "text/plain": [
       "             Country  Average Citations per Faculty  \\\n",
       "0             Canada                      57.033333   \n",
       "1            Germany                      27.200000   \n",
       "2     United Kingdom                      77.937500   \n",
       "3      Hong Kong SAR                      81.166667   \n",
       "4          Australia                      91.180000   \n",
       "5          Singapore                      93.050000   \n",
       "6             France                      73.350000   \n",
       "7        Switzerland                      99.800000   \n",
       "8      United States                      83.700000   \n",
       "9   China (Mainland)                      84.240000   \n",
       "10             Japan                      69.650000   \n",
       "11       South Korea                      86.900000   \n",
       "\n",
       "    Average International Faculty  \n",
       "0                         93.3000  \n",
       "1                         56.9000  \n",
       "2                         98.9375  \n",
       "3                        100.0000  \n",
       "4                         99.4200  \n",
       "5                        100.0000  \n",
       "6                         75.9000  \n",
       "7                        100.0000  \n",
       "8                         65.9000  \n",
       "9                         55.5400  \n",
       "10                         4.3500  \n",
       "11                         6.2500  "
      ]
     },
     "execution_count": 60,
     "metadata": {},
     "output_type": "execute_result"
    }
   ],
   "source": [
    "# first compute and store the DataFrame 'country_citations_inter', then display it\n",
    "# do NOT plot just yet\n",
    "country_citations_inter = pd.read_sql(\"\"\"\n",
    "select \"Country\",\n",
    "        AVG(\"Citations per Faculty\") as \"Average Citations per Faculty\",\n",
    "        AVG(\"International Faculty\") as \"Average International Faculty\"\n",
    "from rankings\n",
    "where \"Year\" = 2022 and \"Rank\" <=50\n",
    "group by \"Country\"\n",
    "order by (\"Average Citations per Faculty\" - \"Average International Faculty\") asc\n",
    "\"\"\", conn)\n",
    "country_citations_inter"
   ]
  },
  {
   "cell_type": "markdown",
   "id": "68d7d67b",
   "metadata": {
    "deletable": false,
    "editable": false
   },
   "source": [
    "Now, **plot** `country_citations_inter` as **horizontal bar plot** with the **x-axis** labelled *Country*.\n",
    "\n",
    "You **must** use the `horizontal_bar_plot` function to plot this data. Verify that the countries are **ordered** in **decreasing** order of the **difference** between `Average Citations per Faculty` and `Average International Faculty`. Verify that the **legend** appears on your plot.\n",
    "\n",
    "**Hint:** If you want the countries in the plot to be ordered in **decreasing** order of the difference, you will need to make sure that in the DataFrame, they are ordered in the **increasing** order.\n",
    "\n",
    "Your plot should look like this:"
   ]
  },
  {
   "cell_type": "code",
   "execution_count": 61,
   "id": "03b34bac",
   "metadata": {
    "execution": {
     "iopub.execute_input": "2024-04-24T14:34:45.018177Z",
     "iopub.status.busy": "2024-04-24T14:34:45.018177Z",
     "iopub.status.idle": "2024-04-24T14:34:45.385861Z",
     "shell.execute_reply": "2024-04-24T14:34:45.384853Z"
    },
    "tags": []
   },
   "outputs": [
    {
     "data": {
      "image/png": "[encoded data removed]",
      "text/plain": [
       "<Figure size 640x480 with 1 Axes>"
      ]
     },
     "metadata": {},
     "output_type": "display_data"
    }
   ],
   "source": [
    "# create the horizontal bar plot using the DataFrame 'country_citations_inter' with the x-axis labelled \"Country\" \n",
    "horizontal_bar_plot(country_citations_inter, \"Country\")"
   ]
  },
  {
   "cell_type": "code",
   "execution_count": 62,
   "id": "26af7509",
   "metadata": {
    "deletable": false,
    "editable": false
   },
   "outputs": [
    {
     "data": {
      "text/html": [
       "<p><strong><pre style='display: inline;'>q16</pre></strong> passed! 🍀</p><p><strong><pre style='display: inline;'>q16 - 2</pre> message:</strong> Note that the Gradescope autograder will deduct points if your code fails the following rubric point - 'did not use SQL to answer (-2)'.The public tests cannot determine if your code satisfies these requirements. Verify your code manually.</p><p><strong><pre style='display: inline;'>q16 - 3</pre> message:</strong> Note that the Gradescope autograder will deduct points if your code fails the following rubric point - 'incorrect logic is used to answer (-2)'.The public tests cannot determine if your code satisfies these requirements. Verify your code manually.</p><p><strong><pre style='display: inline;'>q16 - 4</pre> message:</strong> Note that the Gradescope autograder will deduct points if your code fails the following rubric point - '`horizontal_bar_plot` function is not used to plot (-1)'.The public tests cannot determine if your code satisfies these requirements. Verify your code manually.</p><p><strong><pre style='display: inline;'>q16 - 5</pre> message:</strong> Note that the Gradescope autograder will deduct points if your code fails the following rubric point - 'plot is not properly labeled (-1)'.The public tests cannot determine if your code satisfies these requirements. Verify your code manually.</p>"
      ],
      "text/plain": [
       "q16 results: All test cases passed!\n",
       "q16 - 2 message: Note that the Gradescope autograder will deduct points if your code fails the following rubric point - 'did not use SQL to answer (-2)'.The public tests cannot determine if your code satisfies these requirements. Verify your code manually.\n",
       "q16 - 3 message: Note that the Gradescope autograder will deduct points if your code fails the following rubric point - 'incorrect logic is used to answer (-2)'.The public tests cannot determine if your code satisfies these requirements. Verify your code manually.\n",
       "q16 - 4 message: Note that the Gradescope autograder will deduct points if your code fails the following rubric point - '`horizontal_bar_plot` function is not used to plot (-1)'.The public tests cannot determine if your code satisfies these requirements. Verify your code manually.\n",
       "q16 - 5 message: Note that the Gradescope autograder will deduct points if your code fails the following rubric point - 'plot is not properly labeled (-1)'.The public tests cannot determine if your code satisfies these requirements. Verify your code manually."
      ]
     },
     "execution_count": 62,
     "metadata": {},
     "output_type": "execute_result"
    }
   ],
   "source": [
    "grader.check(\"q16\")"
   ]
  },
  {
   "cell_type": "markdown",
   "id": "058ff1ef",
   "metadata": {
    "deletable": false,
    "editable": false
   },
   "source": [
    "**Question 17:** Create a **scatter plot** representing the `Overall` (on the **x-axis**) against the `Rank` (on the **y-axis**) for **all** institutions in the `Year` *2022*. Additionally, **plot** a **regression line** within the same plot.\n",
    "\n",
    "You **must** first compute a **DataFrame** containing the **Overall**, and the **Rank** data from the `Year` *2022*. You **must** use the `get_regression_line` function to compute the best fit line."
   ]
  },
  {
   "cell_type": "code",
   "execution_count": 63,
   "id": "554f5b22",
   "metadata": {
    "execution": {
     "iopub.execute_input": "2024-04-24T14:34:46.307984Z",
     "iopub.status.busy": "2024-04-24T14:34:46.306977Z",
     "iopub.status.idle": "2024-04-24T14:34:46.325265Z",
     "shell.execute_reply": "2024-04-24T14:34:46.324249Z"
    },
    "tags": []
   },
   "outputs": [
    {
     "data": {
      "text/html": [
       "<div>\n",
       "<style scoped>\n",
       "    .dataframe tbody tr th:only-of-type {\n",
       "        vertical-align: middle;\n",
       "    }\n",
       "\n",
       "    .dataframe tbody tr th {\n",
       "        vertical-align: top;\n",
       "    }\n",
       "\n",
       "    .dataframe thead th {\n",
       "        text-align: right;\n",
       "    }\n",
       "</style>\n",
       "<table border=\"1\" class=\"dataframe\">\n",
       "  <thead>\n",
       "    <tr style=\"text-align: right;\">\n",
       "      <th></th>\n",
       "      <th>Overall</th>\n",
       "      <th>Rank</th>\n",
       "    </tr>\n",
       "  </thead>\n",
       "  <tbody>\n",
       "    <tr>\n",
       "      <th>0</th>\n",
       "      <td>100.0</td>\n",
       "      <td>1</td>\n",
       "    </tr>\n",
       "    <tr>\n",
       "      <th>1</th>\n",
       "      <td>99.5</td>\n",
       "      <td>2</td>\n",
       "    </tr>\n",
       "    <tr>\n",
       "      <th>2</th>\n",
       "      <td>98.7</td>\n",
       "      <td>3</td>\n",
       "    </tr>\n",
       "    <tr>\n",
       "      <th>3</th>\n",
       "      <td>98.7</td>\n",
       "      <td>3</td>\n",
       "    </tr>\n",
       "    <tr>\n",
       "      <th>4</th>\n",
       "      <td>98.0</td>\n",
       "      <td>5</td>\n",
       "    </tr>\n",
       "  </tbody>\n",
       "</table>\n",
       "</div>"
      ],
      "text/plain": [
       "   Overall  Rank\n",
       "0    100.0     1\n",
       "1     99.5     2\n",
       "2     98.7     3\n",
       "3     98.7     3\n",
       "4     98.0     5"
      ]
     },
     "execution_count": 63,
     "metadata": {},
     "output_type": "execute_result"
    }
   ],
   "source": [
    "# first compute and store the DataFrame 'overall_rank', then display its head\n",
    "# do NOT plot just yet\n",
    "overall_rank = pd.read_sql(\"\"\"\n",
    "select \"Overall\", \"Rank\" from rankings where \"Year\" = 2022\n",
    "\"\"\", conn)\n",
    "\n",
    "overall_rank.head()"
   ]
  },
  {
   "cell_type": "markdown",
   "id": "c87dbebc",
   "metadata": {
    "deletable": false,
    "editable": false
   },
   "source": [
    "Now, **plot** `overall_rank` as **scatter plot** with a **regression line** with the **x-axis** labelled *Overall* and the **y-axis** labelled *Rank*.\n",
    "\n",
    "You **must** use the `regression_line_plot` function to plot this data. Your plot should look like this:"
   ]
  },
  {
   "cell_type": "code",
   "execution_count": 64,
   "id": "1c5f6090",
   "metadata": {
    "execution": {
     "iopub.execute_input": "2024-04-24T14:34:46.331261Z",
     "iopub.status.busy": "2024-04-24T14:34:46.330262Z",
     "iopub.status.idle": "2024-04-24T14:34:46.845854Z",
     "shell.execute_reply": "2024-04-24T14:34:46.844848Z"
    },
    "tags": []
   },
   "outputs": [
    {
     "data": {
      "image/png": "[encoded data removed]",
      "text/plain": [
       "<Figure size 640x480 with 1 Axes>"
      ]
     },
     "metadata": {},
     "output_type": "display_data"
    }
   ],
   "source": [
    "# create the scatter plot and the regression line using the DataFrame 'overall_rank' with the x-axis labelled \"Overall\" \n",
    "# and the y-axis labelled \"Rank\"\n",
    "regression_line_plot(overall_rank, \"Overall\", \"Rank\")"
   ]
  },
  {
   "cell_type": "code",
   "execution_count": 65,
   "id": "7353fb9d",
   "metadata": {
    "deletable": false,
    "editable": false
   },
   "outputs": [
    {
     "data": {
      "text/html": [
       "<p><strong><pre style='display: inline;'>q17</pre></strong> passed! 🚀</p><p><strong><pre style='display: inline;'>q17 - 2</pre> message:</strong> Note that the Gradescope autograder will deduct points if your code fails the following rubric point - 'did not use SQL to answer (-2)'.The public tests cannot determine if your code satisfies these requirements. Verify your code manually.</p><p><strong><pre style='display: inline;'>q17 - 3</pre> message:</strong> Note that the Gradescope autograder will deduct points if your code fails the following rubric point - 'incorrect logic is used to answer (-2)'.The public tests cannot determine if your code satisfies these requirements. Verify your code manually.</p><p><strong><pre style='display: inline;'>q17 - 4</pre> message:</strong> Note that the Gradescope autograder will deduct points if your code fails the following rubric point - '`regression_line_plot` function is not used to plot (-1)'.The public tests cannot determine if your code satisfies these requirements. Verify your code manually.</p><p><strong><pre style='display: inline;'>q17 - 5</pre> message:</strong> Note that the Gradescope autograder will deduct points if your code fails the following rubric point - 'plot is not properly labeled (-1)'.The public tests cannot determine if your code satisfies these requirements. Verify your code manually.</p>"
      ],
      "text/plain": [
       "q17 results: All test cases passed!\n",
       "q17 - 2 message: Note that the Gradescope autograder will deduct points if your code fails the following rubric point - 'did not use SQL to answer (-2)'.The public tests cannot determine if your code satisfies these requirements. Verify your code manually.\n",
       "q17 - 3 message: Note that the Gradescope autograder will deduct points if your code fails the following rubric point - 'incorrect logic is used to answer (-2)'.The public tests cannot determine if your code satisfies these requirements. Verify your code manually.\n",
       "q17 - 4 message: Note that the Gradescope autograder will deduct points if your code fails the following rubric point - '`regression_line_plot` function is not used to plot (-1)'.The public tests cannot determine if your code satisfies these requirements. Verify your code manually.\n",
       "q17 - 5 message: Note that the Gradescope autograder will deduct points if your code fails the following rubric point - 'plot is not properly labeled (-1)'.The public tests cannot determine if your code satisfies these requirements. Verify your code manually."
      ]
     },
     "execution_count": 65,
     "metadata": {},
     "output_type": "execute_result"
    }
   ],
   "source": [
    "grader.check(\"q17\")"
   ]
  },
  {
   "cell_type": "markdown",
   "id": "ad06f06e",
   "metadata": {
    "deletable": false,
    "editable": false
   },
   "source": [
    "**Food for thought:** Does our linear regression model fit the points well? It looks like the relationship between the `Overall` and `Rank` is **not quite linear**. In fact, a cursory look at the data suggests that the relationship is in fact, inverse."
   ]
  },
  {
   "cell_type": "code",
   "execution_count": 66,
   "id": "5c3c0102",
   "metadata": {
    "execution": {
     "iopub.execute_input": "2024-04-24T14:34:48.436377Z",
     "iopub.status.busy": "2024-04-24T14:34:48.436377Z",
     "iopub.status.idle": "2024-04-24T14:34:48.441170Z",
     "shell.execute_reply": "2024-04-24T14:34:48.440136Z"
    }
   },
   "outputs": [],
   "source": [
    "# Food for thought is an entirely OPTIONAL exercise\n",
    "# you may leave your thoughts here as a comment if you wish to\n"
   ]
  },
  {
   "cell_type": "markdown",
   "id": "5f766d24",
   "metadata": {
    "deletable": false,
    "editable": false
   },
   "source": [
    "**Question 18:** Create a **scatter plot** representing the **inverse** of the `Overall` (on the **x-axis**) against the `Rank` (on the **y-axis**) for **all** institutions in the `Year` *2022*. Additionally, **plot** a **regression line**  within the same plot.\n",
    "\n",
    "The `Inverse Overall` for each institution is simply defined as `1/Overall` for that institution. You **must** first compute a **DataFrame** containing the **Inverse Overall**, and the **Rank** data from the `Year` *2022*. You **must** use the `get_regression_line` function to compute the best fit line."
   ]
  },
  {
   "cell_type": "code",
   "execution_count": 67,
   "id": "9e5568c5",
   "metadata": {
    "execution": {
     "iopub.execute_input": "2024-04-24T14:34:48.445169Z",
     "iopub.status.busy": "2024-04-24T14:34:48.445169Z",
     "iopub.status.idle": "2024-04-24T14:34:48.460814Z",
     "shell.execute_reply": "2024-04-24T14:34:48.459784Z"
    },
    "tags": []
   },
   "outputs": [
    {
     "data": {
      "text/html": [
       "<div>\n",
       "<style scoped>\n",
       "    .dataframe tbody tr th:only-of-type {\n",
       "        vertical-align: middle;\n",
       "    }\n",
       "\n",
       "    .dataframe tbody tr th {\n",
       "        vertical-align: top;\n",
       "    }\n",
       "\n",
       "    .dataframe thead th {\n",
       "        text-align: right;\n",
       "    }\n",
       "</style>\n",
       "<table border=\"1\" class=\"dataframe\">\n",
       "  <thead>\n",
       "    <tr style=\"text-align: right;\">\n",
       "      <th></th>\n",
       "      <th>Inverse Overall</th>\n",
       "      <th>Rank</th>\n",
       "    </tr>\n",
       "  </thead>\n",
       "  <tbody>\n",
       "    <tr>\n",
       "      <th>0</th>\n",
       "      <td>0.010000</td>\n",
       "      <td>1</td>\n",
       "    </tr>\n",
       "    <tr>\n",
       "      <th>1</th>\n",
       "      <td>0.010050</td>\n",
       "      <td>2</td>\n",
       "    </tr>\n",
       "    <tr>\n",
       "      <th>2</th>\n",
       "      <td>0.010132</td>\n",
       "      <td>3</td>\n",
       "    </tr>\n",
       "    <tr>\n",
       "      <th>3</th>\n",
       "      <td>0.010132</td>\n",
       "      <td>3</td>\n",
       "    </tr>\n",
       "    <tr>\n",
       "      <th>4</th>\n",
       "      <td>0.010204</td>\n",
       "      <td>5</td>\n",
       "    </tr>\n",
       "  </tbody>\n",
       "</table>\n",
       "</div>"
      ],
      "text/plain": [
       "   Inverse Overall  Rank\n",
       "0         0.010000     1\n",
       "1         0.010050     2\n",
       "2         0.010132     3\n",
       "3         0.010132     3\n",
       "4         0.010204     5"
      ]
     },
     "execution_count": 67,
     "metadata": {},
     "output_type": "execute_result"
    }
   ],
   "source": [
    "# first compute and store the DataFrame 'inverse_overall_rank', then display its head\n",
    "# do NOT plot just yet\n",
    "inverse_overall_rank = pd.read_sql(\"\"\"\n",
    "select(1/\"Overall\") as \"Inverse Overall\", \"Rank\"\n",
    "from rankings where \"Year\" = 2022\n",
    "\"\"\", conn)\n",
    "inverse_overall_rank.head()"
   ]
  },
  {
   "cell_type": "markdown",
   "id": "b26a070c",
   "metadata": {
    "deletable": false,
    "editable": false
   },
   "source": [
    "Now, **plot** `inverse_overall_rank` as **scatter plot** with a **regression line** with the **x-axis** labelled *Inverse Overall* and the **y-axis** labelled *Rank*.\n",
    "\n",
    "You **must** use the `regression_line_plot` function to plot this data. Your plot should look like this:"
   ]
  },
  {
   "cell_type": "code",
   "execution_count": 68,
   "id": "5364ddef",
   "metadata": {
    "execution": {
     "iopub.execute_input": "2024-04-24T14:34:48.464813Z",
     "iopub.status.busy": "2024-04-24T14:34:48.464813Z",
     "iopub.status.idle": "2024-04-24T14:34:48.738568Z",
     "shell.execute_reply": "2024-04-24T14:34:48.737557Z"
    },
    "tags": []
   },
   "outputs": [
    {
     "data": {
      "image/png": "[encoded data removed]",
      "text/plain": [
       "<Figure size 640x480 with 1 Axes>"
      ]
     },
     "metadata": {},
     "output_type": "display_data"
    }
   ],
   "source": [
    "# create the scatter plot and the regression line using the DataFrame 'inverse_overall_rank'\n",
    "# with the x-axis labelled \"Inverse Overall\" and the y-axis labelled \"Rank\"\n",
    "regression_line_plot(inverse_overall_rank, \"Inverse Overall\", \"Rank\")"
   ]
  },
  {
   "cell_type": "code",
   "execution_count": 69,
   "id": "b8ca3e4c",
   "metadata": {
    "deletable": false,
    "editable": false
   },
   "outputs": [
    {
     "data": {
      "text/html": [
       "<p><strong><pre style='display: inline;'>q18</pre></strong> passed! 🌈</p><p><strong><pre style='display: inline;'>q18 - 2</pre> message:</strong> Note that the Gradescope autograder will deduct points if your code fails the following rubric point - 'incorrect logic is used to answer (-2)'.The public tests cannot determine if your code satisfies these requirements. Verify your code manually.</p><p><strong><pre style='display: inline;'>q18 - 3</pre> message:</strong> Note that the Gradescope autograder will deduct points if your code fails the following rubric point - '`get_regression_line` function is not used to answer (-1)'.The public tests cannot determine if your code satisfies these requirements. Verify your code manually.</p><p><strong><pre style='display: inline;'>q18 - 4</pre> message:</strong> Note that the Gradescope autograder will deduct points if your code fails the following rubric point - '`regression_line_plot` function is not used to plot (-1)'.The public tests cannot determine if your code satisfies these requirements. Verify your code manually.</p><p><strong><pre style='display: inline;'>q18 - 5</pre> message:</strong> Note that the Gradescope autograder will deduct points if your code fails the following rubric point - 'plot is not properly labeled (-1)'.The public tests cannot determine if your code satisfies these requirements. Verify your code manually.</p>"
      ],
      "text/plain": [
       "q18 results: All test cases passed!\n",
       "q18 - 2 message: Note that the Gradescope autograder will deduct points if your code fails the following rubric point - 'incorrect logic is used to answer (-2)'.The public tests cannot determine if your code satisfies these requirements. Verify your code manually.\n",
       "q18 - 3 message: Note that the Gradescope autograder will deduct points if your code fails the following rubric point - '`get_regression_line` function is not used to answer (-1)'.The public tests cannot determine if your code satisfies these requirements. Verify your code manually.\n",
       "q18 - 4 message: Note that the Gradescope autograder will deduct points if your code fails the following rubric point - '`regression_line_plot` function is not used to plot (-1)'.The public tests cannot determine if your code satisfies these requirements. Verify your code manually.\n",
       "q18 - 5 message: Note that the Gradescope autograder will deduct points if your code fails the following rubric point - 'plot is not properly labeled (-1)'.The public tests cannot determine if your code satisfies these requirements. Verify your code manually."
      ]
     },
     "execution_count": 69,
     "metadata": {},
     "output_type": "execute_result"
    }
   ],
   "source": [
    "grader.check(\"q18\")"
   ]
  },
  {
   "cell_type": "markdown",
   "id": "b4fb9c82",
   "metadata": {
    "deletable": false,
    "editable": false
   },
   "source": [
    "This seems to be much better! Let us now use this **regression line** to **estimate** the `Rank` of an institution given its `Overall`."
   ]
  },
  {
   "cell_type": "markdown",
   "id": "52a2bc98",
   "metadata": {
    "deletable": false,
    "editable": false
   },
   "source": [
    "**Question 19:** Use the regression line to **estimate** the `Rank` of an institution with an `Overall` of *72*.\n",
    "\n",
    "Your output **must** be an **int**. If your **estimate** is a **float**, *round it up* using `math.ceil`.\n",
    "\n",
    "\n",
    "**Hints:**\n",
    "1. Call the `get_regression_coeff` function to get the coefficients `m` and `b`.\n",
    "2. Recall that the equation of a line is `y = m * x + b`. What are `x` and `y` here?"
   ]
  },
  {
   "cell_type": "code",
   "execution_count": 70,
   "id": "93dcf736",
   "metadata": {
    "execution": {
     "iopub.execute_input": "2024-04-24T14:34:50.342379Z",
     "iopub.status.busy": "2024-04-24T14:34:50.342379Z",
     "iopub.status.idle": "2024-04-24T14:34:50.350420Z",
     "shell.execute_reply": "2024-04-24T14:34:50.350420Z"
    },
    "tags": []
   },
   "outputs": [
    {
     "data": {
      "text/plain": [
       "59"
      ]
     },
     "execution_count": 70,
     "metadata": {},
     "output_type": "execute_result"
    }
   ],
   "source": [
    "# compute and store the answer in the variable 'rank_score_72', then display it\n",
    "m, b = get_regression_coeff(inverse_overall_rank, \"Inverse Overall\", \"Rank\")\n",
    "rank_score_72 = m * (1/72) + b\n",
    "rank_score_72 = math.ceil(rank_score_72)\n",
    "\n",
    "rank_score_72"
   ]
  },
  {
   "cell_type": "code",
   "execution_count": 71,
   "id": "4f47064d",
   "metadata": {
    "deletable": false,
    "editable": false
   },
   "outputs": [
    {
     "data": {
      "text/html": [
       "<p><strong><pre style='display: inline;'>q19</pre></strong> passed! 🌈</p><p><strong><pre style='display: inline;'>q19 - 2</pre> message:</strong> Note that the Gradescope autograder will deduct points if your code fails the following rubric point - 'incorrect logic is used to answer (-1)'.The public tests cannot determine if your code satisfies these requirements. Verify your code manually.</p><p><strong><pre style='display: inline;'>q19 - 3</pre> message:</strong> Note that the Gradescope autograder will deduct points if your code fails the following rubric point - '`get_regression_coeff` function is not used to answer (-1)'.The public tests cannot determine if your code satisfies these requirements. Verify your code manually.</p>"
      ],
      "text/plain": [
       "q19 results: All test cases passed!\n",
       "q19 - 2 message: Note that the Gradescope autograder will deduct points if your code fails the following rubric point - 'incorrect logic is used to answer (-1)'.The public tests cannot determine if your code satisfies these requirements. Verify your code manually.\n",
       "q19 - 3 message: Note that the Gradescope autograder will deduct points if your code fails the following rubric point - '`get_regression_coeff` function is not used to answer (-1)'.The public tests cannot determine if your code satisfies these requirements. Verify your code manually."
      ]
     },
     "execution_count": 71,
     "metadata": {},
     "output_type": "execute_result"
    }
   ],
   "source": [
    "grader.check(\"q19\")"
   ]
  },
  {
   "cell_type": "markdown",
   "id": "8fe92766",
   "metadata": {
    "deletable": false,
    "editable": false
   },
   "source": [
    "**Food for thought:** Can you find out the `Overall` of the university with this `Rank` in the `Year` *2022*? Does it match your prediction?"
   ]
  },
  {
   "cell_type": "code",
   "execution_count": 72,
   "id": "d6aa6864",
   "metadata": {
    "execution": {
     "iopub.execute_input": "2024-04-24T14:34:50.804358Z",
     "iopub.status.busy": "2024-04-24T14:34:50.804358Z",
     "iopub.status.idle": "2024-04-24T14:34:50.808715Z",
     "shell.execute_reply": "2024-04-24T14:34:50.808715Z"
    }
   },
   "outputs": [],
   "source": [
    "# Food for thought is an entirely OPTIONAL exercise\n",
    "# you may leave your thoughts here as a comment if you wish to\n"
   ]
  },
  {
   "cell_type": "markdown",
   "id": "26a5305a",
   "metadata": {
    "deletable": false,
    "editable": false
   },
   "source": [
    "**Question 20:** Using the data from Question 5, create a **pie plot** representing the number of institutions from each country.\n",
    "\n",
    "You **have** already computed a **DataFrame** `num_institutions` (in Question 5) containing the **Country**, and the **Number of Insititutions** data. Now, **plot** `num_institutions` as **pie plot** with the **title** *Number of Institutions*.\n",
    "\n",
    "You **must** use the `pie_plot` function to create the **pie plot**. The **colors** do **not** matter, but the plot **must** be titled `Number of Institutions`, and **must** be labelled as in the sample output below. Your plot should look like this:"
   ]
  },
  {
   "cell_type": "code",
   "execution_count": 73,
   "id": "6d4b0a8e",
   "metadata": {
    "execution": {
     "iopub.execute_input": "2024-04-24T14:34:50.814723Z",
     "iopub.status.busy": "2024-04-24T14:34:50.813727Z",
     "iopub.status.idle": "2024-04-24T14:34:51.023735Z",
     "shell.execute_reply": "2024-04-24T14:34:51.022705Z"
    },
    "tags": []
   },
   "outputs": [
    {
     "data": {
      "image/png": "[encoded data removed]",
      "text/plain": [
       "<Figure size 640x480 with 1 Axes>"
      ]
     },
     "metadata": {},
     "output_type": "display_data"
    }
   ],
   "source": [
    "# create the pie plot using the DataFrame 'num_institutions' titled \"Number of Institutions\"\n",
    "pie_plot(num_institutions, \"Country\", \"Number of Institutions\", \"Number of Institutions\")"
   ]
  },
  {
   "cell_type": "code",
   "execution_count": 74,
   "id": "b69d2932",
   "metadata": {
    "deletable": false,
    "editable": false
   },
   "outputs": [
    {
     "data": {
      "text/html": [
       "<p><strong><pre style='display: inline;'>q20</pre></strong> passed! 💯</p><p><strong><pre style='display: inline;'>q20 - 2</pre> message:</strong> Note that the Gradescope autograder will deduct points if your code fails the following rubric point - '`pie_plot` function is not used to plot (-1)'.The public tests cannot determine if your code satisfies these requirements. Verify your code manually.</p><p><strong><pre style='display: inline;'>q20 - 3</pre> message:</strong> Note that the Gradescope autograder will deduct points if your code fails the following rubric point - 'plot is not properly labeled (-1)'.The public tests cannot determine if your code satisfies these requirements. Verify your code manually.</p>"
      ],
      "text/plain": [
       "q20 results: All test cases passed!\n",
       "q20 - 2 message: Note that the Gradescope autograder will deduct points if your code fails the following rubric point - '`pie_plot` function is not used to plot (-1)'.The public tests cannot determine if your code satisfies these requirements. Verify your code manually.\n",
       "q20 - 3 message: Note that the Gradescope autograder will deduct points if your code fails the following rubric point - 'plot is not properly labeled (-1)'.The public tests cannot determine if your code satisfies these requirements. Verify your code manually."
      ]
     },
     "execution_count": 74,
     "metadata": {},
     "output_type": "execute_result"
    }
   ],
   "source": [
    "grader.check(\"q20\")"
   ]
  },
  {
   "cell_type": "markdown",
   "id": "aefcc1c3",
   "metadata": {
    "deletable": false,
    "editable": false
   },
   "source": [
    "**Food for thought:** It seems that we'll run out of colors! How can we make it so that **no two neighbors share a color**? You'll probably have to look online."
   ]
  },
  {
   "cell_type": "code",
   "execution_count": 75,
   "id": "aaf28097",
   "metadata": {
    "execution": {
     "iopub.execute_input": "2024-04-24T14:34:51.651349Z",
     "iopub.status.busy": "2024-04-24T14:34:51.650348Z",
     "iopub.status.idle": "2024-04-24T14:34:51.656098Z",
     "shell.execute_reply": "2024-04-24T14:34:51.655080Z"
    }
   },
   "outputs": [],
   "source": [
    "# Food for thought is an entirely OPTIONAL exercise\n",
    "# you may leave your thoughts here as a comment if you wish to\n"
   ]
  },
  {
   "cell_type": "markdown",
   "id": "10423208",
   "metadata": {
    "deletable": false,
    "editable": false
   },
   "source": [
    "### Closing the database connection:\n",
    "\n",
    "Now, before you **submit** your notebook, you **must** **close** your connection `conn`. Not doing this might make **Gradescope fail**. Additionally, **delete** the example images provided with plot questions to save space, if your notebook file is too large for submission. You can **delete** any cell by selecting the cell, hitting the `Esc` key once, and then hitting the `d` key **twice**."
   ]
  },
  {
   "cell_type": "code",
   "execution_count": 83,
   "id": "01d7cf09",
   "metadata": {
    "execution": {
     "iopub.execute_input": "2024-04-24T14:34:51.660095Z",
     "iopub.status.busy": "2024-04-24T14:34:51.660095Z",
     "iopub.status.idle": "2024-04-24T14:34:51.666002Z",
     "shell.execute_reply": "2024-04-24T14:34:51.664991Z"
    },
    "tags": []
   },
   "outputs": [],
   "source": [
    "# close your connection here\n",
    "conn.close()"
   ]
  },
  {
   "cell_type": "code",
   "execution_count": 84,
   "id": "5cfb1da4",
   "metadata": {
    "deletable": false,
    "editable": false
   },
   "outputs": [
    {
     "data": {
      "text/html": [
       "<p><strong><pre style='display: inline;'>general_deductions</pre></strong> passed! 🌈</p><p><strong><pre style='display: inline;'>general_deductions - 1</pre> message:</strong> Note that the Gradescope autograder will deduct points if your code fails the following rubric point - 'Outputs not visible/did not save the notebook file prior to running the cell containing \"export\". We cannot see your output if you do not save before generating the zip file. (-3)'.The public tests cannot determine if your code satisfies these requirements. Verify your code manually.</p><p><strong><pre style='display: inline;'>general_deductions - 2</pre> message:</strong> Note that the Gradescope autograder will deduct points if your code fails the following rubric point - 'Import statements are not mentioned in the required cell at the top of the notebook. (-3)'.The public tests cannot determine if your code satisfies these requirements. Verify your code manually.</p>"
      ],
      "text/plain": [
       "general_deductions results: All test cases passed!\n",
       "general_deductions - 1 message: Note that the Gradescope autograder will deduct points if your code fails the following rubric point - 'Outputs not visible/did not save the notebook file prior to running the cell containing \"export\". We cannot see your output if you do not save before generating the zip file. (-3)'.The public tests cannot determine if your code satisfies these requirements. Verify your code manually.\n",
       "general_deductions - 2 message: Note that the Gradescope autograder will deduct points if your code fails the following rubric point - 'Import statements are not mentioned in the required cell at the top of the notebook. (-3)'.The public tests cannot determine if your code satisfies these requirements. Verify your code manually."
      ]
     },
     "execution_count": 84,
     "metadata": {},
     "output_type": "execute_result"
    }
   ],
   "source": [
    "grader.check(\"general_deductions\")"
   ]
  },
  {
   "cell_type": "code",
   "execution_count": 85,
   "id": "2c88dbd2",
   "metadata": {
    "deletable": false,
    "editable": false
   },
   "outputs": [
    {
     "data": {
      "text/html": [
       "<p><strong><pre style='display: inline;'>summary</pre></strong> passed! 🎉</p><p><strong><pre style='display: inline;'>summary - 1</pre> message:</strong> Please submit your zip folder to Gradescope, and check your final score there. The Gradescope autograder will make deductions to your score based on the rubric.</p>"
      ],
      "text/plain": [
       "summary results: All test cases passed!\n",
       "summary - 1 message: Please submit your zip folder to Gradescope, and check your final score there. The Gradescope autograder will make deductions to your score based on the rubric."
      ]
     },
     "execution_count": 85,
     "metadata": {},
     "output_type": "execute_result"
    }
   ],
   "source": [
    "grader.check(\"summary\")"
   ]
  },
  {
   "cell_type": "markdown",
   "id": "303eae52",
   "metadata": {
    "deletable": false,
    "editable": false
   },
   "source": [
    "## Submission\n",
    "It is recommended that at this stage, you Restart and Run all Cells in your notebook.\n",
    "That will automatically save your work and generate a zip file for you to submit.\n",
    "\n",
    "**SUBMISSION INSTRUCTIONS**:\n",
    "1. **Upload** the zipfile to Gradescope.\n",
    "2. If you completed the project with a **partner**, make sure to **add their name** by clicking \"Add Group Member\"\n",
    "in Gradescope when uploading the zip file.\n",
    "3. Check **Gradescope** results as soon as the auto-grader execution gets completed.\n",
    "4. Your **final score** for this project is the score that you see on **Gradescope**.\n",
    "5. You are **allowed** to resubmit on Gradescope as many times as you want to.\n",
    "6. **Contact** a TA/PM if you lose any points on Gradescope for any **unclear reasons**."
   ]
  },
  {
   "cell_type": "code",
   "execution_count": 86,
   "id": "93a62a23",
   "metadata": {
    "cell_type": "code",
    "deletable": false,
    "editable": false
   },
   "outputs": [
    {
     "data": {
      "application/javascript": [
       "IPython.notebook.save_checkpoint();"
      ],
      "text/plain": [
       "<IPython.core.display.Javascript object>"
      ]
     },
     "metadata": {},
     "output_type": "display_data"
    }
   ],
   "source": [
    "# running this cell will create a new save checkpoint for your notebook\n",
    "from IPython.display import display, Javascript\n",
    "display(Javascript('IPython.notebook.save_checkpoint();'))"
   ]
  },
  {
   "cell_type": "code",
   "execution_count": 87,
   "id": "8aa8116b",
   "metadata": {
    "cell_type": "code",
    "deletable": false,
    "editable": false
   },
   "outputs": [
    {
     "name": "stdout",
     "output_type": "stream",
     "text": [
      "[jupytext] Reading p13.ipynb in format ipynb\n",
      "[jupytext] Writing p13.py (destination file replaced)\n"
     ]
    }
   ],
   "source": [
    "!jupytext --to py p13.ipynb"
   ]
  },
  {
   "cell_type": "code",
   "execution_count": 88,
   "id": "16790128",
   "metadata": {
    "deletable": false,
    "editable": false
   },
   "outputs": [
    {
     "data": {
      "text/html": [
       "\n",
       "                    <p>\n",
       "                        Your submission has been exported. Click\n",
       "                        <a href=\"p13_2024_05_01T21_24_39_110439.zip\" download=\"p13_2024_05_01T21_24_39_110439.zip\" target=\"_blank\">here</a> to download\n",
       "                        the zip file.\n",
       "                    </p>\n",
       "                "
      ],
      "text/plain": [
       "<IPython.core.display.HTML object>"
      ]
     },
     "metadata": {},
     "output_type": "display_data"
    }
   ],
   "source": [
    "grader.export(pdf=False, run_tests=False, files=[\"p13.py\"])"
   ]
  },
  {
   "cell_type": "markdown",
   "id": "806dc84e",
   "metadata": {
    "deletable": false,
    "editable": false
   },
   "source": [
    " "
   ]
  }
 ],
 "metadata": {
  "kernelspec": {
   "display_name": "Python 3 (ipykernel)",
   "language": "python",
   "name": "python3"
  },
  "language_info": {
   "codemirror_mode": {
    "name": "ipython",
    "version": 3
   },
   "file_extension": ".py",
   "mimetype": "text/x-python",
   "name": "python",
   "nbconvert_exporter": "python",
   "pygments_lexer": "ipython3",
   "version": "3.11.5"
  },
  "otter": {
   "OK_FORMAT": true,
   "tests": {
    "bar_plot": {
     "name": "bar_plot",
     "points": 0,
     "suites": [
      {
       "cases": [
        {
         "code": ">>> \n>>> public_tests.rubric_check('bar_plot: data is not plotted correctly')\nAll test cases passed!\n",
         "hidden": false,
         "locked": false,
         "success_message": "Note that the Gradescope autograder will deduct points if your code fails the following rubric point - 'data is not plotted correctly (-1)'.The public tests cannot determine if your code satisfies these requirements. Verify your code manually."
        },
        {
         "code": ">>> \n>>> public_tests.rubric_check('bar_plot: legend is not deleted or axes are not properly labeled')\nAll test cases passed!\n",
         "hidden": false,
         "locked": false,
         "success_message": "Note that the Gradescope autograder will deduct points if your code fails the following rubric point - 'legend is not deleted or axes are not properly labeled (-1)'.The public tests cannot determine if your code satisfies these requirements. Verify your code manually."
        }
       ],
       "scored": true,
       "setup": "",
       "teardown": "",
       "type": "doctest"
      }
     ]
    },
    "conn": {
     "name": "conn",
     "points": 0,
     "suites": [
      {
       "cases": [
        {
         "code": ">>> \n>>> public_tests.rubric_check('conn: data structure is defined more than once')\nAll test cases passed!\n",
         "hidden": false,
         "locked": false,
         "success_message": "Note that the Gradescope autograder will deduct points if your code fails the following rubric point - 'data structure is defined more than once (-1)'.The public tests cannot determine if your code satisfies these requirements. Verify your code manually."
        },
        {
         "code": ">>> \n>>> public_tests.rubric_check('conn: did not close the connection to `conn` at the end')\nAll test cases passed!\n",
         "hidden": false,
         "locked": false,
         "success_message": "Note that the Gradescope autograder will deduct points if your code fails the following rubric point - 'did not close the connection to `conn` at the end (-2)'.The public tests cannot determine if your code satisfies these requirements. Verify your code manually."
        }
       ],
       "scored": true,
       "setup": "",
       "teardown": "",
       "type": "doctest"
      }
     ]
    },
    "general_deductions": {
     "name": "general_deductions",
     "points": 0,
     "suites": [
      {
       "cases": [
        {
         "code": ">>> \n>>> public_tests.rubric_check('general_deductions: Outputs not visible/did not save the notebook file prior to running the cell containing \"export\". We cannot see your output if you do not save before generating the zip file.')\nAll test cases passed!\n",
         "hidden": false,
         "locked": false,
         "success_message": "Note that the Gradescope autograder will deduct points if your code fails the following rubric point - 'Outputs not visible/did not save the notebook file prior to running the cell containing \"export\". We cannot see your output if you do not save before generating the zip file. (-3)'.The public tests cannot determine if your code satisfies these requirements. Verify your code manually."
        },
        {
         "code": ">>> \n>>> public_tests.rubric_check('general_deductions: Import statements are not mentioned in the required cell at the top of the notebook.')\nAll test cases passed!\n",
         "hidden": false,
         "locked": false,
         "success_message": "Note that the Gradescope autograder will deduct points if your code fails the following rubric point - 'Import statements are not mentioned in the required cell at the top of the notebook. (-3)'.The public tests cannot determine if your code satisfies these requirements. Verify your code manually."
        }
       ],
       "scored": true,
       "setup": "",
       "teardown": "",
       "type": "doctest"
      }
     ]
    },
    "get_regression_coeff": {
     "name": "get_regression_coeff",
     "points": 0,
     "suites": [
      {
       "cases": [
        {
         "code": ">>> \n>>> public_tests.rubric_check('get_regression_coeff: function logic is incorrect')\nAll test cases passed!\n",
         "hidden": false,
         "locked": false,
         "success_message": "Note that the Gradescope autograder will deduct points if your code fails the following rubric point - 'function logic is incorrect (-1)'.The public tests cannot determine if your code satisfies these requirements. Verify your code manually."
        }
       ],
       "scored": true,
       "setup": "",
       "teardown": "",
       "type": "doctest"
      }
     ]
    },
    "get_regression_line": {
     "name": "get_regression_line",
     "points": 0,
     "suites": [
      {
       "cases": [
        {
         "code": ">>> \n>>> public_tests.rubric_check('get_regression_line: function logic is incorrect')\nAll test cases passed!\n",
         "hidden": false,
         "locked": false,
         "success_message": "Note that the Gradescope autograder will deduct points if your code fails the following rubric point - 'function logic is incorrect (-1)'.The public tests cannot determine if your code satisfies these requirements. Verify your code manually."
        }
       ],
       "scored": true,
       "setup": "",
       "teardown": "",
       "type": "doctest"
      }
     ]
    },
    "horizontal_bar_plot": {
     "name": "horizontal_bar_plot",
     "points": 0,
     "suites": [
      {
       "cases": [
        {
         "code": ">>> \n>>> public_tests.rubric_check('horizontal_bar_plot: data is not plotted correctly')\nAll test cases passed!\n",
         "hidden": false,
         "locked": false,
         "success_message": "Note that the Gradescope autograder will deduct points if your code fails the following rubric point - 'data is not plotted correctly (-1)'.The public tests cannot determine if your code satisfies these requirements. Verify your code manually."
        }
       ],
       "scored": true,
       "setup": "",
       "teardown": "",
       "type": "doctest"
      }
     ]
    },
    "pie_plot": {
     "name": "pie_plot",
     "points": 0,
     "suites": [
      {
       "cases": [
        {
         "code": ">>> \n>>> public_tests.rubric_check('pie_plot: data is not plotted correctly')\nAll test cases passed!\n",
         "hidden": false,
         "locked": false,
         "success_message": "Note that the Gradescope autograder will deduct points if your code fails the following rubric point - 'data is not plotted correctly (-1)'.The public tests cannot determine if your code satisfies these requirements. Verify your code manually."
        }
       ],
       "scored": true,
       "setup": "",
       "teardown": "",
       "type": "doctest"
      }
     ]
    },
    "q1": {
     "name": "q1",
     "points": 0,
     "suites": [
      {
       "cases": [
        {
         "code": ">>> public_tests.check('q1', uw_stats.reset_index(drop=True))\nAll test cases passed!\n",
         "hidden": false,
         "locked": false
        },
        {
         "code": ">>> \n>>> public_tests.rubric_check('q1: did not use SQL to answer')\nAll test cases passed!\n",
         "hidden": false,
         "locked": false,
         "success_message": "Note that the Gradescope autograder will deduct points if your code fails the following rubric point - 'did not use SQL to answer (-2)'.The public tests cannot determine if your code satisfies these requirements. Verify your code manually."
        },
        {
         "code": ">>> \n>>> public_tests.rubric_check('q1: incorrect logic is used to answer')\nAll test cases passed!\n",
         "hidden": false,
         "locked": false,
         "success_message": "Note that the Gradescope autograder will deduct points if your code fails the following rubric point - 'incorrect logic is used to answer (-1)'.The public tests cannot determine if your code satisfies these requirements. Verify your code manually."
        }
       ],
       "scored": true,
       "setup": "",
       "teardown": "",
       "type": "doctest"
      }
     ]
    },
    "q10": {
     "name": "q10",
     "points": 0,
     "suites": [
      {
       "cases": [
        {
         "code": ">>> public_tests.check('q10', top_ranked_inter_faculty[[\"Faculty Student\", \"International Students\"]].reset_index(drop=True))\nAll test cases passed!\n",
         "hidden": false,
         "locked": false
        },
        {
         "code": ">>> \n>>> public_tests.rubric_check('q10: did not use SQL to answer')\nAll test cases passed!\n",
         "hidden": false,
         "locked": false,
         "success_message": "Note that the Gradescope autograder will deduct points if your code fails the following rubric point - 'did not use SQL to answer (-2)'.The public tests cannot determine if your code satisfies these requirements. Verify your code manually."
        },
        {
         "code": ">>> \n>>> public_tests.rubric_check('q10: incorrect logic is used to answer')\nAll test cases passed!\n",
         "hidden": false,
         "locked": false,
         "success_message": "Note that the Gradescope autograder will deduct points if your code fails the following rubric point - 'incorrect logic is used to answer (-2)'.The public tests cannot determine if your code satisfies these requirements. Verify your code manually."
        },
        {
         "code": ">>> \n>>> public_tests.rubric_check('q10: `scatter_plot` function is not used to plot')\nAll test cases passed!\n",
         "hidden": false,
         "locked": false,
         "success_message": "Note that the Gradescope autograder will deduct points if your code fails the following rubric point - '`scatter_plot` function is not used to plot (-1)'.The public tests cannot determine if your code satisfies these requirements. Verify your code manually."
        },
        {
         "code": ">>> \n>>> public_tests.rubric_check('q10: plot is not properly labeled')\nAll test cases passed!\n",
         "hidden": false,
         "locked": false,
         "success_message": "Note that the Gradescope autograder will deduct points if your code fails the following rubric point - 'plot is not properly labeled (-1)'.The public tests cannot determine if your code satisfies these requirements. Verify your code manually."
        }
       ],
       "scored": true,
       "setup": "",
       "teardown": "",
       "type": "doctest"
      }
     ]
    },
    "q11": {
     "name": "q11",
     "points": 0,
     "suites": [
      {
       "cases": [
        {
         "code": ">>> public_tests.check('q11', uk_inter_score_corr)\nAll test cases passed!\n",
         "hidden": false,
         "locked": false
        },
        {
         "code": ">>> \n>>> public_tests.rubric_check('q11: did not use SQL to answer')\nAll test cases passed!\n",
         "hidden": false,
         "locked": false,
         "success_message": "Note that the Gradescope autograder will deduct points if your code fails the following rubric point - 'did not use SQL to answer (-2)'.The public tests cannot determine if your code satisfies these requirements. Verify your code manually."
        },
        {
         "code": ">>> \n>>> public_tests.rubric_check('q11: incorrect logic is used to answer')\nAll test cases passed!\n",
         "hidden": false,
         "locked": false,
         "success_message": "Note that the Gradescope autograder will deduct points if your code fails the following rubric point - 'incorrect logic is used to answer (-1)'.The public tests cannot determine if your code satisfies these requirements. Verify your code manually."
        }
       ],
       "scored": true,
       "setup": "",
       "teardown": "",
       "type": "doctest"
      }
     ]
    },
    "q12": {
     "name": "q12",
     "points": 0,
     "suites": [
      {
       "cases": [
        {
         "code": ">>> public_tests.check('q12', cit_per_inter_score_corr)\nAll test cases passed!\n",
         "hidden": false,
         "locked": false
        },
        {
         "code": ">>> \n>>> public_tests.rubric_check('q12: did not use SQL to answer')\nAll test cases passed!\n",
         "hidden": false,
         "locked": false,
         "success_message": "Note that the Gradescope autograder will deduct points if your code fails the following rubric point - 'did not use SQL to answer (-2)'.The public tests cannot determine if your code satisfies these requirements. Verify your code manually."
        },
        {
         "code": ">>> \n>>> public_tests.rubric_check('q12: incorrect logic is used to answer')\nAll test cases passed!\n",
         "hidden": false,
         "locked": false,
         "success_message": "Note that the Gradescope autograder will deduct points if your code fails the following rubric point - 'incorrect logic is used to answer (-1)'.The public tests cannot determine if your code satisfies these requirements. Verify your code manually."
        }
       ],
       "scored": true,
       "setup": "",
       "teardown": "",
       "type": "doctest"
      }
     ]
    },
    "q13": {
     "name": "q13",
     "points": 0,
     "suites": [
      {
       "cases": [
        {
         "code": ">>> public_tests.check('q13', top_cit_per_inter.reset_index(drop=True))\nAll test cases passed!\n",
         "hidden": false,
         "locked": false
        },
        {
         "code": ">>> \n>>> public_tests.rubric_check('q13: did not use SQL to answer')\nAll test cases passed!\n",
         "hidden": false,
         "locked": false,
         "success_message": "Note that the Gradescope autograder will deduct points if your code fails the following rubric point - 'did not use SQL to answer (-2)'.The public tests cannot determine if your code satisfies these requirements. Verify your code manually."
        },
        {
         "code": ">>> \n>>> public_tests.rubric_check('q13: incorrect logic is used to answer')\nAll test cases passed!\n",
         "hidden": false,
         "locked": false,
         "success_message": "Note that the Gradescope autograder will deduct points if your code fails the following rubric point - 'incorrect logic is used to answer (-2)'.The public tests cannot determine if your code satisfies these requirements. Verify your code manually."
        }
       ],
       "scored": true,
       "setup": "",
       "teardown": "",
       "type": "doctest"
      }
     ]
    },
    "q14": {
     "name": "q14",
     "points": 0,
     "suites": [
      {
       "cases": [
        {
         "code": ">>> public_tests.check('q14', avg_cit_per_inter.reset_index(drop=True))\nAll test cases passed!\n",
         "hidden": false,
         "locked": false
        },
        {
         "code": ">>> \n>>> public_tests.rubric_check('q14: did not use SQL to answer')\nAll test cases passed!\n",
         "hidden": false,
         "locked": false,
         "success_message": "Note that the Gradescope autograder will deduct points if your code fails the following rubric point - 'did not use SQL to answer (-2)'.The public tests cannot determine if your code satisfies these requirements. Verify your code manually."
        },
        {
         "code": ">>> \n>>> public_tests.rubric_check('q14: incorrect logic is used to answer')\nAll test cases passed!\n",
         "hidden": false,
         "locked": false,
         "success_message": "Note that the Gradescope autograder will deduct points if your code fails the following rubric point - 'incorrect logic is used to answer (-2)'.The public tests cannot determine if your code satisfies these requirements. Verify your code manually."
        }
       ],
       "scored": true,
       "setup": "",
       "teardown": "",
       "type": "doctest"
      }
     ]
    },
    "q15": {
     "name": "q15",
     "points": 0,
     "suites": [
      {
       "cases": [
        {
         "code": ">>> public_tests.check('q15', max_cit_per_inter.reset_index(drop=True))\nAll test cases passed!\n",
         "hidden": false,
         "locked": false
        },
        {
         "code": ">>> \n>>> public_tests.rubric_check('q15: did not use SQL to answer')\nAll test cases passed!\n",
         "hidden": false,
         "locked": false,
         "success_message": "Note that the Gradescope autograder will deduct points if your code fails the following rubric point - 'did not use SQL to answer (-2)'.The public tests cannot determine if your code satisfies these requirements. Verify your code manually."
        },
        {
         "code": ">>> \n>>> public_tests.rubric_check('q15: incorrect logic is used to answer')\nAll test cases passed!\n",
         "hidden": false,
         "locked": false,
         "success_message": "Note that the Gradescope autograder will deduct points if your code fails the following rubric point - 'incorrect logic is used to answer (-2)'.The public tests cannot determine if your code satisfies these requirements. Verify your code manually."
        }
       ],
       "scored": true,
       "setup": "",
       "teardown": "",
       "type": "doctest"
      }
     ]
    },
    "q16": {
     "name": "q16",
     "points": 0,
     "suites": [
      {
       "cases": [
        {
         "code": ">>> public_tests.check('q16', country_citations_inter.reset_index(drop=True))\nAll test cases passed!\n",
         "hidden": false,
         "locked": false
        },
        {
         "code": ">>> \n>>> public_tests.rubric_check('q16: did not use SQL to answer')\nAll test cases passed!\n",
         "hidden": false,
         "locked": false,
         "success_message": "Note that the Gradescope autograder will deduct points if your code fails the following rubric point - 'did not use SQL to answer (-2)'.The public tests cannot determine if your code satisfies these requirements. Verify your code manually."
        },
        {
         "code": ">>> \n>>> public_tests.rubric_check('q16: incorrect logic is used to answer')\nAll test cases passed!\n",
         "hidden": false,
         "locked": false,
         "success_message": "Note that the Gradescope autograder will deduct points if your code fails the following rubric point - 'incorrect logic is used to answer (-2)'.The public tests cannot determine if your code satisfies these requirements. Verify your code manually."
        },
        {
         "code": ">>> \n>>> public_tests.rubric_check('q16: `horizontal_bar_plot` function is not used to plot')\nAll test cases passed!\n",
         "hidden": false,
         "locked": false,
         "success_message": "Note that the Gradescope autograder will deduct points if your code fails the following rubric point - '`horizontal_bar_plot` function is not used to plot (-1)'.The public tests cannot determine if your code satisfies these requirements. Verify your code manually."
        },
        {
         "code": ">>> \n>>> public_tests.rubric_check('q16: plot is not properly labeled')\nAll test cases passed!\n",
         "hidden": false,
         "locked": false,
         "success_message": "Note that the Gradescope autograder will deduct points if your code fails the following rubric point - 'plot is not properly labeled (-1)'.The public tests cannot determine if your code satisfies these requirements. Verify your code manually."
        }
       ],
       "scored": true,
       "setup": "",
       "teardown": "",
       "type": "doctest"
      }
     ]
    },
    "q17": {
     "name": "q17",
     "points": 0,
     "suites": [
      {
       "cases": [
        {
         "code": ">>> public_tests.check('q17', overall_rank[[\"Rank\", \"Overall\", \"fit\"]].reset_index(drop=True))\nAll test cases passed!\n",
         "hidden": false,
         "locked": false
        },
        {
         "code": ">>> \n>>> public_tests.rubric_check('q17: did not use SQL to answer')\nAll test cases passed!\n",
         "hidden": false,
         "locked": false,
         "success_message": "Note that the Gradescope autograder will deduct points if your code fails the following rubric point - 'did not use SQL to answer (-2)'.The public tests cannot determine if your code satisfies these requirements. Verify your code manually."
        },
        {
         "code": ">>> \n>>> public_tests.rubric_check('q17: incorrect logic is used to answer')\nAll test cases passed!\n",
         "hidden": false,
         "locked": false,
         "success_message": "Note that the Gradescope autograder will deduct points if your code fails the following rubric point - 'incorrect logic is used to answer (-2)'.The public tests cannot determine if your code satisfies these requirements. Verify your code manually."
        },
        {
         "code": ">>> \n>>> public_tests.rubric_check('q17: `regression_line_plot` function is not used to plot')\nAll test cases passed!\n",
         "hidden": false,
         "locked": false,
         "success_message": "Note that the Gradescope autograder will deduct points if your code fails the following rubric point - '`regression_line_plot` function is not used to plot (-1)'.The public tests cannot determine if your code satisfies these requirements. Verify your code manually."
        },
        {
         "code": ">>> \n>>> public_tests.rubric_check('q17: plot is not properly labeled')\nAll test cases passed!\n",
         "hidden": false,
         "locked": false,
         "success_message": "Note that the Gradescope autograder will deduct points if your code fails the following rubric point - 'plot is not properly labeled (-1)'.The public tests cannot determine if your code satisfies these requirements. Verify your code manually."
        }
       ],
       "scored": true,
       "setup": "",
       "teardown": "",
       "type": "doctest"
      }
     ]
    },
    "q18": {
     "name": "q18",
     "points": 0,
     "suites": [
      {
       "cases": [
        {
         "code": ">>> public_tests.check('q18', inverse_overall_rank[[\"Rank\", \"Inverse Overall\", \"fit\"]].reset_index(drop=True))\nAll test cases passed!\n",
         "hidden": false,
         "locked": false
        },
        {
         "code": ">>> \n>>> public_tests.rubric_check('q18: incorrect logic is used to answer')\nAll test cases passed!\n",
         "hidden": false,
         "locked": false,
         "success_message": "Note that the Gradescope autograder will deduct points if your code fails the following rubric point - 'incorrect logic is used to answer (-2)'.The public tests cannot determine if your code satisfies these requirements. Verify your code manually."
        },
        {
         "code": ">>> \n>>> public_tests.rubric_check('q18: `get_regression_line` function is not used to answer')\nAll test cases passed!\n",
         "hidden": false,
         "locked": false,
         "success_message": "Note that the Gradescope autograder will deduct points if your code fails the following rubric point - '`get_regression_line` function is not used to answer (-1)'.The public tests cannot determine if your code satisfies these requirements. Verify your code manually."
        },
        {
         "code": ">>> \n>>> public_tests.rubric_check('q18: `regression_line_plot` function is not used to plot')\nAll test cases passed!\n",
         "hidden": false,
         "locked": false,
         "success_message": "Note that the Gradescope autograder will deduct points if your code fails the following rubric point - '`regression_line_plot` function is not used to plot (-1)'.The public tests cannot determine if your code satisfies these requirements. Verify your code manually."
        },
        {
         "code": ">>> \n>>> public_tests.rubric_check('q18: plot is not properly labeled')\nAll test cases passed!\n",
         "hidden": false,
         "locked": false,
         "success_message": "Note that the Gradescope autograder will deduct points if your code fails the following rubric point - 'plot is not properly labeled (-1)'.The public tests cannot determine if your code satisfies these requirements. Verify your code manually."
        }
       ],
       "scored": true,
       "setup": "",
       "teardown": "",
       "type": "doctest"
      }
     ]
    },
    "q19": {
     "name": "q19",
     "points": 0,
     "suites": [
      {
       "cases": [
        {
         "code": ">>> public_tests.check('q19', rank_score_72)\nAll test cases passed!\n",
         "hidden": false,
         "locked": false
        },
        {
         "code": ">>> \n>>> public_tests.rubric_check('q19: incorrect logic is used to answer')\nAll test cases passed!\n",
         "hidden": false,
         "locked": false,
         "success_message": "Note that the Gradescope autograder will deduct points if your code fails the following rubric point - 'incorrect logic is used to answer (-1)'.The public tests cannot determine if your code satisfies these requirements. Verify your code manually."
        },
        {
         "code": ">>> \n>>> public_tests.rubric_check('q19: `get_regression_coeff` function is not used to answer')\nAll test cases passed!\n",
         "hidden": false,
         "locked": false,
         "success_message": "Note that the Gradescope autograder will deduct points if your code fails the following rubric point - '`get_regression_coeff` function is not used to answer (-1)'.The public tests cannot determine if your code satisfies these requirements. Verify your code manually."
        }
       ],
       "scored": true,
       "setup": "",
       "teardown": "",
       "type": "doctest"
      }
     ]
    },
    "q2": {
     "name": "q2",
     "points": 0,
     "suites": [
      {
       "cases": [
        {
         "code": ">>> public_tests.check('q2', japan_top_10_inter.reset_index(drop=True))\nAll test cases passed!\n",
         "hidden": false,
         "locked": false
        },
        {
         "code": ">>> \n>>> public_tests.rubric_check('q2: did not use SQL to answer')\nAll test cases passed!\n",
         "hidden": false,
         "locked": false,
         "success_message": "Note that the Gradescope autograder will deduct points if your code fails the following rubric point - 'did not use SQL to answer (-2)'.The public tests cannot determine if your code satisfies these requirements. Verify your code manually."
        },
        {
         "code": ">>> \n>>> public_tests.rubric_check('q2: incorrect logic is used to answer')\nAll test cases passed!\n",
         "hidden": false,
         "locked": false,
         "success_message": "Note that the Gradescope autograder will deduct points if your code fails the following rubric point - 'incorrect logic is used to answer (-2)'.The public tests cannot determine if your code satisfies these requirements. Verify your code manually."
        }
       ],
       "scored": true,
       "setup": "",
       "teardown": "",
       "type": "doctest"
      }
     ]
    },
    "q20": {
     "name": "q20",
     "points": 0,
     "suites": [
      {
       "cases": [
        {
         "code": ">>> public_tests.check('q20', num_institutions.reset_index(drop=True))\nAll test cases passed!\n",
         "hidden": false,
         "locked": false
        },
        {
         "code": ">>> \n>>> public_tests.rubric_check('q20: `pie_plot` function is not used to plot')\nAll test cases passed!\n",
         "hidden": false,
         "locked": false,
         "success_message": "Note that the Gradescope autograder will deduct points if your code fails the following rubric point - '`pie_plot` function is not used to plot (-1)'.The public tests cannot determine if your code satisfies these requirements. Verify your code manually."
        },
        {
         "code": ">>> \n>>> public_tests.rubric_check('q20: plot is not properly labeled')\nAll test cases passed!\n",
         "hidden": false,
         "locked": false,
         "success_message": "Note that the Gradescope autograder will deduct points if your code fails the following rubric point - 'plot is not properly labeled (-1)'.The public tests cannot determine if your code satisfies these requirements. Verify your code manually."
        },
        {
         "code": ">>> public_tests.rubric_check('q20: public tests')\nAll test cases passed!\n",
         "hidden": false,
         "locked": false
        }
       ],
       "scored": true,
       "setup": "",
       "teardown": "",
       "type": "doctest"
      }
     ]
    },
    "q3": {
     "name": "q3",
     "points": 0,
     "suites": [
      {
       "cases": [
        {
         "code": ">>> public_tests.check('q3', us_top_10_rep.reset_index(drop=True))\nAll test cases passed!\n",
         "hidden": false,
         "locked": false
        },
        {
         "code": ">>> \n>>> public_tests.rubric_check('q3: did not use SQL to answer')\nAll test cases passed!\n",
         "hidden": false,
         "locked": false,
         "success_message": "Note that the Gradescope autograder will deduct points if your code fails the following rubric point - 'did not use SQL to answer (-2)'.The public tests cannot determine if your code satisfies these requirements. Verify your code manually."
        },
        {
         "code": ">>> \n>>> public_tests.rubric_check('q3: incorrect logic is used to answer')\nAll test cases passed!\n",
         "hidden": false,
         "locked": false,
         "success_message": "Note that the Gradescope autograder will deduct points if your code fails the following rubric point - 'incorrect logic is used to answer (-2)'.The public tests cannot determine if your code satisfies these requirements. Verify your code manually."
        }
       ],
       "scored": true,
       "setup": "",
       "teardown": "",
       "type": "doctest"
      }
     ]
    },
    "q4": {
     "name": "q4",
     "points": 0,
     "suites": [
      {
       "cases": [
        {
         "code": ">>> public_tests.check('q4', top_10_countries.reset_index(drop=True))\nAll test cases passed!\n",
         "hidden": false,
         "locked": false
        },
        {
         "code": ">>> \n>>> public_tests.rubric_check('q4: did not use SQL to answer')\nAll test cases passed!\n",
         "hidden": false,
         "locked": false,
         "success_message": "Note that the Gradescope autograder will deduct points if your code fails the following rubric point - 'did not use SQL to answer (-2)'.The public tests cannot determine if your code satisfies these requirements. Verify your code manually."
        },
        {
         "code": ">>> \n>>> public_tests.rubric_check('q4: incorrect logic is used to answer')\nAll test cases passed!\n",
         "hidden": false,
         "locked": false,
         "success_message": "Note that the Gradescope autograder will deduct points if your code fails the following rubric point - 'incorrect logic is used to answer (-2)'.The public tests cannot determine if your code satisfies these requirements. Verify your code manually."
        }
       ],
       "scored": true,
       "setup": "",
       "teardown": "",
       "type": "doctest"
      }
     ]
    },
    "q5": {
     "name": "q5",
     "points": 0,
     "suites": [
      {
       "cases": [
        {
         "code": ">>> public_tests.check('q5', num_institutions.reset_index(drop=True))\nAll test cases passed!\n",
         "hidden": false,
         "locked": false
        },
        {
         "code": ">>> \n>>> public_tests.rubric_check('q5: incorrect logic is used to answer')\nAll test cases passed!\n",
         "hidden": false,
         "locked": false,
         "success_message": "Note that the Gradescope autograder will deduct points if your code fails the following rubric point - 'incorrect logic is used to answer (-2)'.The public tests cannot determine if your code satisfies these requirements. Verify your code manually."
        },
        {
         "code": ">>> \n>>> public_tests.rubric_check('q5: `bar_plot` function is not used to plot')\nAll test cases passed!\n",
         "hidden": false,
         "locked": false,
         "success_message": "Note that the Gradescope autograder will deduct points if your code fails the following rubric point - '`bar_plot` function is not used to plot (-1)'.The public tests cannot determine if your code satisfies these requirements. Verify your code manually."
        },
        {
         "code": ">>> \n>>> public_tests.rubric_check('q5: plot is not properly labeled')\nAll test cases passed!\n",
         "hidden": false,
         "locked": false,
         "success_message": "Note that the Gradescope autograder will deduct points if your code fails the following rubric point - 'plot is not properly labeled (-1)'.The public tests cannot determine if your code satisfies these requirements. Verify your code manually."
        },
        {
         "code": ">>> public_tests.rubric_check('q5: public tests')\nAll test cases passed!\n",
         "hidden": false,
         "locked": false
        }
       ],
       "scored": true,
       "setup": "",
       "teardown": "",
       "type": "doctest"
      }
     ]
    },
    "q6": {
     "name": "q6",
     "points": 0,
     "suites": [
      {
       "cases": [
        {
         "code": ">>> public_tests.check('q6', top_10_total_score.reset_index(drop=True))\nAll test cases passed!\n",
         "hidden": false,
         "locked": false
        },
        {
         "code": ">>> \n>>> public_tests.rubric_check('q6: did not use SQL to answer')\nAll test cases passed!\n",
         "hidden": false,
         "locked": false,
         "success_message": "Note that the Gradescope autograder will deduct points if your code fails the following rubric point - 'did not use SQL to answer (-2)'.The public tests cannot determine if your code satisfies these requirements. Verify your code manually."
        },
        {
         "code": ">>> \n>>> public_tests.rubric_check('q6: incorrect logic is used to answer')\nAll test cases passed!\n",
         "hidden": false,
         "locked": false,
         "success_message": "Note that the Gradescope autograder will deduct points if your code fails the following rubric point - 'incorrect logic is used to answer (-2)'.The public tests cannot determine if your code satisfies these requirements. Verify your code manually."
        },
        {
         "code": ">>> \n>>> public_tests.rubric_check('q6: `bar_plot` function is not used to plot')\nAll test cases passed!\n",
         "hidden": false,
         "locked": false,
         "success_message": "Note that the Gradescope autograder will deduct points if your code fails the following rubric point - '`bar_plot` function is not used to plot (-1)'.The public tests cannot determine if your code satisfies these requirements. Verify your code manually."
        },
        {
         "code": ">>> \n>>> public_tests.rubric_check('q6: plot is not properly labeled')\nAll test cases passed!\n",
         "hidden": false,
         "locked": false,
         "success_message": "Note that the Gradescope autograder will deduct points if your code fails the following rubric point - 'plot is not properly labeled (-1)'.The public tests cannot determine if your code satisfies these requirements. Verify your code manually."
        }
       ],
       "scored": true,
       "setup": "",
       "teardown": "",
       "type": "doctest"
      }
     ]
    },
    "q7": {
     "name": "q7",
     "points": 0,
     "suites": [
      {
       "cases": [
        {
         "code": ">>> public_tests.check('q7', top_10_inter_score.reset_index(drop=True))\nAll test cases passed!\n",
         "hidden": false,
         "locked": false
        },
        {
         "code": ">>> \n>>> public_tests.rubric_check('q7: did not use SQL to answer')\nAll test cases passed!\n",
         "hidden": false,
         "locked": false,
         "success_message": "Note that the Gradescope autograder will deduct points if your code fails the following rubric point - 'did not use SQL to answer (-2)'.The public tests cannot determine if your code satisfies these requirements. Verify your code manually."
        },
        {
         "code": ">>> \n>>> public_tests.rubric_check('q7: incorrect logic is used to answer')\nAll test cases passed!\n",
         "hidden": false,
         "locked": false,
         "success_message": "Note that the Gradescope autograder will deduct points if your code fails the following rubric point - 'incorrect logic is used to answer (-2)'.The public tests cannot determine if your code satisfies these requirements. Verify your code manually."
        }
       ],
       "scored": true,
       "setup": "",
       "teardown": "",
       "type": "doctest"
      }
     ]
    },
    "q8": {
     "name": "q8",
     "points": 0,
     "suites": [
      {
       "cases": [
        {
         "code": ">>> public_tests.check('q8', citations_overall.reset_index(drop=True))\nAll test cases passed!\n",
         "hidden": false,
         "locked": false
        },
        {
         "code": ">>> \n>>> public_tests.rubric_check('q8: did not use SQL to answer')\nAll test cases passed!\n",
         "hidden": false,
         "locked": false,
         "success_message": "Note that the Gradescope autograder will deduct points if your code fails the following rubric point - 'did not use SQL to answer (-2)'.The public tests cannot determine if your code satisfies these requirements. Verify your code manually."
        },
        {
         "code": ">>> \n>>> public_tests.rubric_check('q8: incorrect logic is used to answer')\nAll test cases passed!\n",
         "hidden": false,
         "locked": false,
         "success_message": "Note that the Gradescope autograder will deduct points if your code fails the following rubric point - 'incorrect logic is used to answer (-2)'.The public tests cannot determine if your code satisfies these requirements. Verify your code manually."
        },
        {
         "code": ">>> \n>>> public_tests.rubric_check('q8: `scatter_plot` function is not used to plot')\nAll test cases passed!\n",
         "hidden": false,
         "locked": false,
         "success_message": "Note that the Gradescope autograder will deduct points if your code fails the following rubric point - '`scatter_plot` function is not used to plot (-1)'.The public tests cannot determine if your code satisfies these requirements. Verify your code manually."
        },
        {
         "code": ">>> \n>>> public_tests.rubric_check('q8: plot is not properly labeled')\nAll test cases passed!\n",
         "hidden": false,
         "locked": false,
         "success_message": "Note that the Gradescope autograder will deduct points if your code fails the following rubric point - 'plot is not properly labeled (-1)'.The public tests cannot determine if your code satisfies these requirements. Verify your code manually."
        }
       ],
       "scored": true,
       "setup": "",
       "teardown": "",
       "type": "doctest"
      }
     ]
    },
    "q9": {
     "name": "q9",
     "points": 0,
     "suites": [
      {
       "cases": [
        {
         "code": ">>> public_tests.check('q9', reputations_usa.reset_index(drop=True))\nAll test cases passed!\n",
         "hidden": false,
         "locked": false
        },
        {
         "code": ">>> \n>>> public_tests.rubric_check('q9: did not use SQL to answer')\nAll test cases passed!\n",
         "hidden": false,
         "locked": false,
         "success_message": "Note that the Gradescope autograder will deduct points if your code fails the following rubric point - 'did not use SQL to answer (-2)'.The public tests cannot determine if your code satisfies these requirements. Verify your code manually."
        },
        {
         "code": ">>> \n>>> public_tests.rubric_check('q9: incorrect logic is used to answer')\nAll test cases passed!\n",
         "hidden": false,
         "locked": false,
         "success_message": "Note that the Gradescope autograder will deduct points if your code fails the following rubric point - 'incorrect logic is used to answer (-2)'.The public tests cannot determine if your code satisfies these requirements. Verify your code manually."
        },
        {
         "code": ">>> \n>>> public_tests.rubric_check('q9: `scatter_plot` function is not used to plot')\nAll test cases passed!\n",
         "hidden": false,
         "locked": false,
         "success_message": "Note that the Gradescope autograder will deduct points if your code fails the following rubric point - '`scatter_plot` function is not used to plot (-1)'.The public tests cannot determine if your code satisfies these requirements. Verify your code manually."
        },
        {
         "code": ">>> \n>>> public_tests.rubric_check('q9: plot is not properly labeled')\nAll test cases passed!\n",
         "hidden": false,
         "locked": false,
         "success_message": "Note that the Gradescope autograder will deduct points if your code fails the following rubric point - 'plot is not properly labeled (-1)'.The public tests cannot determine if your code satisfies these requirements. Verify your code manually."
        }
       ],
       "scored": true,
       "setup": "",
       "teardown": "",
       "type": "doctest"
      }
     ]
    },
    "regression_line_plot": {
     "name": "regression_line_plot",
     "points": 0,
     "suites": [
      {
       "cases": [
        {
         "code": ">>> \n>>> public_tests.rubric_check('regression_line_plot: `get_regression_line` function is not used to answer')\nAll test cases passed!\n",
         "hidden": false,
         "locked": false,
         "success_message": "Note that the Gradescope autograder will deduct points if your code fails the following rubric point - '`get_regression_line` function is not used to answer (-1)'.The public tests cannot determine if your code satisfies these requirements. Verify your code manually."
        },
        {
         "code": ">>> \n>>> public_tests.rubric_check('regression_line_plot: function does not create correct scatter plot or the correct line plot using `df[\"fit\"]`')\nAll test cases passed!\n",
         "hidden": false,
         "locked": false,
         "success_message": "Note that the Gradescope autograder will deduct points if your code fails the following rubric point - 'function does not create correct scatter plot or the correct line plot using `df[\"fit\"]` (-1)'.The public tests cannot determine if your code satisfies these requirements. Verify your code manually."
        }
       ],
       "scored": true,
       "setup": "",
       "teardown": "",
       "type": "doctest"
      }
     ]
    },
    "scatter_plot": {
     "name": "scatter_plot",
     "points": 0,
     "suites": [
      {
       "cases": [
        {
         "code": ">>> \n>>> public_tests.rubric_check('scatter_plot: data is not plotted correctly')\nAll test cases passed!\n",
         "hidden": false,
         "locked": false,
         "success_message": "Note that the Gradescope autograder will deduct points if your code fails the following rubric point - 'data is not plotted correctly (-1)'.The public tests cannot determine if your code satisfies these requirements. Verify your code manually."
        },
        {
         "code": ">>> \n>>> public_tests.rubric_check('scatter_plot: legend is not deleted or axes are not properly labeled')\nAll test cases passed!\n",
         "hidden": false,
         "locked": false,
         "success_message": "Note that the Gradescope autograder will deduct points if your code fails the following rubric point - 'legend is not deleted or axes are not properly labeled (-1)'.The public tests cannot determine if your code satisfies these requirements. Verify your code manually."
        }
       ],
       "scored": true,
       "setup": "",
       "teardown": "",
       "type": "doctest"
      }
     ]
    },
    "summary": {
     "name": "summary",
     "points": 127,
     "suites": [
      {
       "cases": [
        {
         "code": ">>> \n>>> public_tests.get_summary()\nTotal Score: 100/100\n",
         "hidden": false,
         "locked": false,
         "success_message": "Please submit your zip folder to Gradescope, and check your final score there. The Gradescope autograder will make deductions to your score based on the rubric."
        }
       ],
       "scored": true,
       "setup": "",
       "teardown": "",
       "type": "doctest"
      }
     ]
    }
   }
  },
  "vscode": {
   "interpreter": {
    "hash": "aee8b7b246df8f9039afb4144a1f6fd8d2ca17a180786b69acc140d282b71a49"
   }
  }
 },
 "nbformat": 4,
 "nbformat_minor": 5
}
